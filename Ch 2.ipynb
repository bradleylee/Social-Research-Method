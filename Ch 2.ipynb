{
 "cells": [
  {
   "cell_type": "markdown",
   "metadata": {},
   "source": [
    "# 第 2 章 简单回归模型 \n",
    "## C2.1【简单回归；回归预测】  \n",
    "### 401k.RAW 中的数据是帕普克（Papke，1995）所分析数据的一个子集。\n",
    "\n",
    "帕普克是为了研究401 （k）养老金计划的参与率和该计划的慷慨程度之间的关系。变量prate 是有资格参与该计划 的员工中拥有活动账户的百分比，也是我们要解释的变量。慷慨程度指标是计划的匹配率 mrate。这个变量给出了员工每向这个账户存1美元，公司为该员工匹配的平均数量。例如mrate=0.50，则员工每投入1美元，公司就匹配50美分。 \n",
    "\n",
    "（1）求出该计划的样本中平均参与率和平均匹配率。 \n",
    "\n",
    "（2）现在估计下面这个简单回归方程\n",
    "$\\widehat{prate}=\\beta_0+\\beta_1 mrate$       报告你的结果以及样本容量和 $𝑅^2$。 \n",
    "\n",
    "（3）解释你的方程中的截距。解释 mrate 的系数。 \n",
    "\n",
    "（4）当mrate=3.5 时，求出prate 的预测值。这是一个合理的预测吗？解释这里出现的情况。 \n",
    "\n",
    "（5）prate 的变异中，有多少是由 mrate 解释的？你认为，这是一个足够大的量吗？ "
   ]
  },
  {
   "cell_type": "markdown",
   "metadata": {},
   "source": [
    "# install.packages('haven')"
   ]
  },
  {
   "cell_type": "code",
   "execution_count": 2,
   "metadata": {
    "scrolled": true
   },
   "outputs": [
    {
     "name": "stderr",
     "output_type": "stream",
     "text": [
      "The following objects are masked from X401K (pos = 3):\n",
      "\n",
      "    age, ltotemp, mrate, prate, sole, totelg, totemp, totpart\n",
      "\n"
     ]
    }
   ],
   "source": [
    "library(haven)\n",
    "#library(mice) #载入检查缺失值的包 mice。 \n",
    "X401K <- read_dta(\"C:/Users/bradl/SRM/data/401K.DTA\")\n",
    "attach(X401K)\n",
    "#md.pattern(X401K) "
   ]
  },
  {
   "cell_type": "markdown",
   "metadata": {},
   "source": [
    "（1）求出该计划的样本中平均参与率和平均匹配率。 "
   ]
  },
  {
   "cell_type": "code",
   "execution_count": 2,
   "metadata": {},
   "outputs": [
    {
     "data": {
      "text/html": [
       "87.3629074562948"
      ],
      "text/latex": [
       "87.3629074562948"
      ],
      "text/markdown": [
       "87.3629074562948"
      ],
      "text/plain": [
       "[1] 87.36291"
      ]
     },
     "metadata": {},
     "output_type": "display_data"
    },
    {
     "data": {
      "text/html": [
       "0.731512384994303"
      ],
      "text/latex": [
       "0.731512384994303"
      ],
      "text/markdown": [
       "0.731512384994303"
      ],
      "text/plain": [
       "[1] 0.7315124"
      ]
     },
     "metadata": {},
     "output_type": "display_data"
    }
   ],
   "source": [
    "mean(prate) \n",
    "mean(mrate) "
   ]
  },
  {
   "cell_type": "markdown",
   "metadata": {},
   "source": [
    "（2）现在估计下面这个简单回归方程\n",
    "$\\widehat{prate}=\\beta_0+\\beta_1 mrate$       报告你的结果以及样本容量和 $𝑅^2$。 "
   ]
  },
  {
   "cell_type": "code",
   "execution_count": 3,
   "metadata": {},
   "outputs": [
    {
     "data": {
      "text/plain": [
       "\n",
       "Call:\n",
       "lm(formula = prate ~ mrate)\n",
       "\n",
       "Residuals:\n",
       "    Min      1Q  Median      3Q     Max \n",
       "-82.303  -8.184   5.178  12.712  16.807 \n",
       "\n",
       "Coefficients:\n",
       "            Estimate Std. Error t value Pr(>|t|)    \n",
       "(Intercept)  83.0755     0.5633  147.48   <2e-16 ***\n",
       "mrate         5.8611     0.5270   11.12   <2e-16 ***\n",
       "---\n",
       "Signif. codes:  0 '***' 0.001 '**' 0.01 '*' 0.05 '.' 0.1 ' ' 1\n",
       "\n",
       "Residual standard error: 16.09 on 1532 degrees of freedom\n",
       "Multiple R-squared:  0.0747,\tAdjusted R-squared:  0.0741 \n",
       "F-statistic: 123.7 on 1 and 1532 DF,  p-value: < 2.2e-16\n"
      ]
     },
     "metadata": {},
     "output_type": "display_data"
    }
   ],
   "source": [
    "fit<-lm(prate~mrate)\n",
    "summary(fit)"
   ]
  },
  {
   "cell_type": "code",
   "execution_count": 14,
   "metadata": {},
   "outputs": [
    {
     "data": {
      "text/html": [
       "1534"
      ],
      "text/latex": [
       "1534"
      ],
      "text/markdown": [
       "1534"
      ],
      "text/plain": [
       "[1] 1534"
      ]
     },
     "metadata": {},
     "output_type": "display_data"
    },
    {
     "data": {
      "text/html": [
       "1534"
      ],
      "text/latex": [
       "1534"
      ],
      "text/markdown": [
       "1534"
      ],
      "text/plain": [
       "[1] 1534"
      ]
     },
     "metadata": {},
     "output_type": "display_data"
    }
   ],
   "source": [
    "length(residuals(fit))  \n",
    "nobs(fit) "
   ]
  },
  {
   "cell_type": "markdown",
   "metadata": {},
   "source": [
    "（3）解释你的方程中的截距。解释 mrate 的系数。 \n",
    "\n",
    "截距83.075 表示当mrate 为0 时，有83.075%的人参与养老金计划。mrate 的系数为5.861， 表示mrate 每提高一美元，prate 会增加5.861%。\n",
    "\n",
    "（4）当mrate=3.5 时，求出prate 的预测值。这是一个合理的预测吗？解释这里出现的情况。 "
   ]
  },
  {
   "cell_type": "code",
   "execution_count": 4,
   "metadata": {},
   "outputs": [
    {
     "data": {
      "text/html": [
       "<strong>1:</strong> 103.589232603457"
      ],
      "text/latex": [
       "\\textbf{1:} 103.589232603457"
      ],
      "text/markdown": [
       "**1:** 103.589232603457"
      ],
      "text/plain": [
       "       1 \n",
       "103.5892 "
      ]
     },
     "metadata": {},
     "output_type": "display_data"
    }
   ],
   "source": [
    "new <- data.frame(mrate = 3.5) #生成新的数据框 new，内容为mrate=3.5 \n",
    "predict(fit,new) "
   ]
  },
  {
   "cell_type": "markdown",
   "metadata": {},
   "source": [
    "（5）prate 的变异中，有多少是由 mrate 解释的？你认为，这是一个足够大的量吗？\n",
    "\n",
    "R-squared:  0.0747，所以有7.47%是由mrate解释的。这并不算大。因此还可能有其他变量会对prate的变异进行解释，但我们并没有纳入我们的模型中。 "
   ]
  },
  {
   "cell_type": "code",
   "execution_count": 5,
   "metadata": {},
   "outputs": [],
   "source": [
    "detach(X401K)"
   ]
  },
  {
   "cell_type": "markdown",
   "metadata": {},
   "source": [
    "## C2.2【因变量为 log(y)的回归；频数表】  \n",
    "### 数据集CEOSAL2.RAW 中包含了美国公司首席执行官的信息。变量salary 是以千美元计的年薪，ceoten 是已担任公司CEO的年数。 \n",
    "\n",
    "（1）求出样本中的平均年薪和平均任期。 \n",
    "\n",
    "（2）有多少CEO 尚处于担任CEO 的第一年（也就是说，ceoten=0）?最长的CEO 任期是多 少？ \n",
    "\n",
    "（3）估计简单回归模型 $\\log(salary)=\\beta_0+\\beta_1 ceoten + u $,用通常的形式报告你的结果。多担任一年CEO，预计年薪增长（近似）的百分数是多少？ "
   ]
  },
  {
   "cell_type": "code",
   "execution_count": 8,
   "metadata": {},
   "outputs": [],
   "source": [
    "CEOSAL2 <- read_dta(\"C:/Users/bradl/SRM/data/CEOSAL2.DTA\")\n",
    "attach(CEOSAL2)\n",
    "#md.pattern(CEOSAL2) "
   ]
  },
  {
   "cell_type": "markdown",
   "metadata": {},
   "source": [
    "（1）求出样本中的平均年薪和平均任期。 "
   ]
  },
  {
   "cell_type": "code",
   "execution_count": 9,
   "metadata": {},
   "outputs": [
    {
     "data": {
      "text/html": [
       "865.864406779661"
      ],
      "text/latex": [
       "865.864406779661"
      ],
      "text/markdown": [
       "865.864406779661"
      ],
      "text/plain": [
       "[1] 865.8644"
      ]
     },
     "metadata": {},
     "output_type": "display_data"
    },
    {
     "data": {
      "text/html": [
       "7.95480225988701"
      ],
      "text/latex": [
       "7.95480225988701"
      ],
      "text/markdown": [
       "7.95480225988701"
      ],
      "text/plain": [
       "[1] 7.954802"
      ]
     },
     "metadata": {},
     "output_type": "display_data"
    }
   ],
   "source": [
    "mean(salary)\n",
    "mean(ceoten) "
   ]
  },
  {
   "cell_type": "markdown",
   "metadata": {},
   "source": [
    "（2）有多少CEO 尚处于担任CEO 的第一年（也就是说，ceoten=0）?最长的CEO任期是多少？ "
   ]
  },
  {
   "cell_type": "code",
   "execution_count": 11,
   "metadata": {},
   "outputs": [
    {
     "data": {
      "text/plain": [
       "ceoten\n",
       " 0  1  2  3  4  5  6  7  8  9 10 11 12 13 14 15 16 17 18 19 20 21 22 24 26 28 \n",
       " 5 19 10 21 21 10 11  6 11  8  8  4  7  7  5  2  2  2  1  2  4  1  1  3  2  1 \n",
       "34 37 \n",
       " 1  2 "
      ]
     },
     "metadata": {},
     "output_type": "display_data"
    },
    {
     "data": {
      "text/html": [
       "<ol class=list-inline>\n",
       "\t<li>2</li>\n",
       "\t<li>10</li>\n",
       "\t<li>3</li>\n",
       "\t<li>22</li>\n",
       "\t<li>6</li>\n",
       "\t<li>7</li>\n",
       "\t<li>10</li>\n",
       "\t<li>8</li>\n",
       "\t<li>4</li>\n",
       "\t<li>5</li>\n",
       "\t<li>7</li>\n",
       "\t<li>8</li>\n",
       "\t<li>37</li>\n",
       "\t<li>1</li>\n",
       "\t<li>11</li>\n",
       "\t<li>7</li>\n",
       "\t<li>4</li>\n",
       "\t<li>12</li>\n",
       "\t<li>24</li>\n",
       "\t<li>1</li>\n",
       "\t<li>6</li>\n",
       "\t<li>14</li>\n",
       "\t<li>4</li>\n",
       "\t<li>8</li>\n",
       "\t<li>4</li>\n",
       "\t<li>4</li>\n",
       "\t<li>6</li>\n",
       "\t<li>2</li>\n",
       "\t<li>8</li>\n",
       "\t<li>26</li>\n",
       "\t<li>4</li>\n",
       "\t<li>9</li>\n",
       "\t<li>1</li>\n",
       "\t<li>14</li>\n",
       "\t<li>1</li>\n",
       "\t<li>13</li>\n",
       "\t<li>4</li>\n",
       "\t<li>4</li>\n",
       "\t<li>5</li>\n",
       "\t<li>24</li>\n",
       "\t<li>13</li>\n",
       "\t<li>8</li>\n",
       "\t<li>3</li>\n",
       "\t<li>3</li>\n",
       "\t<li>3</li>\n",
       "\t<li>8</li>\n",
       "\t<li>8</li>\n",
       "\t<li>1</li>\n",
       "\t<li>3</li>\n",
       "\t<li>1</li>\n",
       "\t<li>2</li>\n",
       "\t<li>7</li>\n",
       "\t<li>4</li>\n",
       "\t<li>20</li>\n",
       "\t<li>5</li>\n",
       "\t<li>12</li>\n",
       "\t<li>19</li>\n",
       "\t<li>9</li>\n",
       "\t<li>13</li>\n",
       "\t<li>8</li>\n",
       "\t<li>15</li>\n",
       "\t<li>21</li>\n",
       "\t<li>1</li>\n",
       "\t<li>4</li>\n",
       "\t<li>7</li>\n",
       "\t<li>2</li>\n",
       "\t<li>1</li>\n",
       "\t<li>4</li>\n",
       "\t<li>17</li>\n",
       "\t<li>10</li>\n",
       "\t<li>6</li>\n",
       "\t<li>10</li>\n",
       "\t<li>13</li>\n",
       "\t<li>11</li>\n",
       "\t<li>4</li>\n",
       "\t<li>6</li>\n",
       "\t<li>6</li>\n",
       "\t<li>5</li>\n",
       "\t<li>9</li>\n",
       "\t<li>12</li>\n",
       "\t<li>14</li>\n",
       "\t<li>3</li>\n",
       "\t<li>3</li>\n",
       "\t<li>5</li>\n",
       "\t<li>0</li>\n",
       "\t<li>13</li>\n",
       "\t<li>4</li>\n",
       "\t<li>7</li>\n",
       "\t<li>3</li>\n",
       "\t<li>10</li>\n",
       "\t<li>5</li>\n",
       "\t<li>10</li>\n",
       "\t<li>1</li>\n",
       "\t<li>4</li>\n",
       "\t<li>3</li>\n",
       "\t<li>3</li>\n",
       "\t<li>12</li>\n",
       "\t<li>4</li>\n",
       "\t<li>1</li>\n",
       "\t<li>10</li>\n",
       "\t<li>11</li>\n",
       "\t<li>2</li>\n",
       "\t<li>13</li>\n",
       "\t<li>3</li>\n",
       "\t<li>3</li>\n",
       "\t<li>3</li>\n",
       "\t<li>8</li>\n",
       "\t<li>5</li>\n",
       "\t<li>1</li>\n",
       "\t<li>15</li>\n",
       "\t<li>1</li>\n",
       "\t<li>24</li>\n",
       "\t<li>26</li>\n",
       "\t<li>6</li>\n",
       "\t<li>10</li>\n",
       "\t<li>2</li>\n",
       "\t<li>6</li>\n",
       "\t<li>14</li>\n",
       "\t<li>6</li>\n",
       "\t<li>4</li>\n",
       "\t<li>37</li>\n",
       "\t<li>28</li>\n",
       "\t<li>4</li>\n",
       "\t<li>1</li>\n",
       "\t<li>4</li>\n",
       "\t<li>20</li>\n",
       "\t<li>5</li>\n",
       "\t<li>19</li>\n",
       "\t<li>0</li>\n",
       "\t<li>8</li>\n",
       "\t<li>1</li>\n",
       "\t<li>9</li>\n",
       "\t<li>14</li>\n",
       "\t<li>8</li>\n",
       "\t<li>20</li>\n",
       "\t<li>34</li>\n",
       "\t<li>0</li>\n",
       "\t<li>9</li>\n",
       "\t<li>16</li>\n",
       "\t<li>3</li>\n",
       "\t<li>1</li>\n",
       "\t<li>9</li>\n",
       "\t<li>3</li>\n",
       "\t<li>3</li>\n",
       "\t<li>12</li>\n",
       "\t<li>9</li>\n",
       "\t<li>6</li>\n",
       "\t<li>4</li>\n",
       "\t<li>3</li>\n",
       "\t<li>9</li>\n",
       "\t<li>6</li>\n",
       "\t<li>4</li>\n",
       "\t<li>2</li>\n",
       "\t<li>1</li>\n",
       "\t<li>3</li>\n",
       "\t<li>20</li>\n",
       "\t<li>12</li>\n",
       "\t<li>12</li>\n",
       "\t<li>11</li>\n",
       "\t<li>17</li>\n",
       "\t<li>2</li>\n",
       "\t<li>1</li>\n",
       "\t<li>2</li>\n",
       "\t<li>5</li>\n",
       "\t<li>4</li>\n",
       "\t<li>3</li>\n",
       "\t<li>3</li>\n",
       "\t<li>1</li>\n",
       "\t<li>2</li>\n",
       "\t<li>0</li>\n",
       "\t<li>16</li>\n",
       "\t<li>5</li>\n",
       "\t<li>3</li>\n",
       "\t<li>1</li>\n",
       "\t<li>13</li>\n",
       "\t<li>18</li>\n",
       "\t<li>0</li>\n",
       "</ol>\n"
      ],
      "text/latex": [
       "\\begin{enumerate*}\n",
       "\\item 2\n",
       "\\item 10\n",
       "\\item 3\n",
       "\\item 22\n",
       "\\item 6\n",
       "\\item 7\n",
       "\\item 10\n",
       "\\item 8\n",
       "\\item 4\n",
       "\\item 5\n",
       "\\item 7\n",
       "\\item 8\n",
       "\\item 37\n",
       "\\item 1\n",
       "\\item 11\n",
       "\\item 7\n",
       "\\item 4\n",
       "\\item 12\n",
       "\\item 24\n",
       "\\item 1\n",
       "\\item 6\n",
       "\\item 14\n",
       "\\item 4\n",
       "\\item 8\n",
       "\\item 4\n",
       "\\item 4\n",
       "\\item 6\n",
       "\\item 2\n",
       "\\item 8\n",
       "\\item 26\n",
       "\\item 4\n",
       "\\item 9\n",
       "\\item 1\n",
       "\\item 14\n",
       "\\item 1\n",
       "\\item 13\n",
       "\\item 4\n",
       "\\item 4\n",
       "\\item 5\n",
       "\\item 24\n",
       "\\item 13\n",
       "\\item 8\n",
       "\\item 3\n",
       "\\item 3\n",
       "\\item 3\n",
       "\\item 8\n",
       "\\item 8\n",
       "\\item 1\n",
       "\\item 3\n",
       "\\item 1\n",
       "\\item 2\n",
       "\\item 7\n",
       "\\item 4\n",
       "\\item 20\n",
       "\\item 5\n",
       "\\item 12\n",
       "\\item 19\n",
       "\\item 9\n",
       "\\item 13\n",
       "\\item 8\n",
       "\\item 15\n",
       "\\item 21\n",
       "\\item 1\n",
       "\\item 4\n",
       "\\item 7\n",
       "\\item 2\n",
       "\\item 1\n",
       "\\item 4\n",
       "\\item 17\n",
       "\\item 10\n",
       "\\item 6\n",
       "\\item 10\n",
       "\\item 13\n",
       "\\item 11\n",
       "\\item 4\n",
       "\\item 6\n",
       "\\item 6\n",
       "\\item 5\n",
       "\\item 9\n",
       "\\item 12\n",
       "\\item 14\n",
       "\\item 3\n",
       "\\item 3\n",
       "\\item 5\n",
       "\\item 0\n",
       "\\item 13\n",
       "\\item 4\n",
       "\\item 7\n",
       "\\item 3\n",
       "\\item 10\n",
       "\\item 5\n",
       "\\item 10\n",
       "\\item 1\n",
       "\\item 4\n",
       "\\item 3\n",
       "\\item 3\n",
       "\\item 12\n",
       "\\item 4\n",
       "\\item 1\n",
       "\\item 10\n",
       "\\item 11\n",
       "\\item 2\n",
       "\\item 13\n",
       "\\item 3\n",
       "\\item 3\n",
       "\\item 3\n",
       "\\item 8\n",
       "\\item 5\n",
       "\\item 1\n",
       "\\item 15\n",
       "\\item 1\n",
       "\\item 24\n",
       "\\item 26\n",
       "\\item 6\n",
       "\\item 10\n",
       "\\item 2\n",
       "\\item 6\n",
       "\\item 14\n",
       "\\item 6\n",
       "\\item 4\n",
       "\\item 37\n",
       "\\item 28\n",
       "\\item 4\n",
       "\\item 1\n",
       "\\item 4\n",
       "\\item 20\n",
       "\\item 5\n",
       "\\item 19\n",
       "\\item 0\n",
       "\\item 8\n",
       "\\item 1\n",
       "\\item 9\n",
       "\\item 14\n",
       "\\item 8\n",
       "\\item 20\n",
       "\\item 34\n",
       "\\item 0\n",
       "\\item 9\n",
       "\\item 16\n",
       "\\item 3\n",
       "\\item 1\n",
       "\\item 9\n",
       "\\item 3\n",
       "\\item 3\n",
       "\\item 12\n",
       "\\item 9\n",
       "\\item 6\n",
       "\\item 4\n",
       "\\item 3\n",
       "\\item 9\n",
       "\\item 6\n",
       "\\item 4\n",
       "\\item 2\n",
       "\\item 1\n",
       "\\item 3\n",
       "\\item 20\n",
       "\\item 12\n",
       "\\item 12\n",
       "\\item 11\n",
       "\\item 17\n",
       "\\item 2\n",
       "\\item 1\n",
       "\\item 2\n",
       "\\item 5\n",
       "\\item 4\n",
       "\\item 3\n",
       "\\item 3\n",
       "\\item 1\n",
       "\\item 2\n",
       "\\item 0\n",
       "\\item 16\n",
       "\\item 5\n",
       "\\item 3\n",
       "\\item 1\n",
       "\\item 13\n",
       "\\item 18\n",
       "\\item 0\n",
       "\\end{enumerate*}\n"
      ],
      "text/markdown": [
       "1. 2\n",
       "2. 10\n",
       "3. 3\n",
       "4. 22\n",
       "5. 6\n",
       "6. 7\n",
       "7. 10\n",
       "8. 8\n",
       "9. 4\n",
       "10. 5\n",
       "11. 7\n",
       "12. 8\n",
       "13. 37\n",
       "14. 1\n",
       "15. 11\n",
       "16. 7\n",
       "17. 4\n",
       "18. 12\n",
       "19. 24\n",
       "20. 1\n",
       "21. 6\n",
       "22. 14\n",
       "23. 4\n",
       "24. 8\n",
       "25. 4\n",
       "26. 4\n",
       "27. 6\n",
       "28. 2\n",
       "29. 8\n",
       "30. 26\n",
       "31. 4\n",
       "32. 9\n",
       "33. 1\n",
       "34. 14\n",
       "35. 1\n",
       "36. 13\n",
       "37. 4\n",
       "38. 4\n",
       "39. 5\n",
       "40. 24\n",
       "41. 13\n",
       "42. 8\n",
       "43. 3\n",
       "44. 3\n",
       "45. 3\n",
       "46. 8\n",
       "47. 8\n",
       "48. 1\n",
       "49. 3\n",
       "50. 1\n",
       "51. 2\n",
       "52. 7\n",
       "53. 4\n",
       "54. 20\n",
       "55. 5\n",
       "56. 12\n",
       "57. 19\n",
       "58. 9\n",
       "59. 13\n",
       "60. 8\n",
       "61. 15\n",
       "62. 21\n",
       "63. 1\n",
       "64. 4\n",
       "65. 7\n",
       "66. 2\n",
       "67. 1\n",
       "68. 4\n",
       "69. 17\n",
       "70. 10\n",
       "71. 6\n",
       "72. 10\n",
       "73. 13\n",
       "74. 11\n",
       "75. 4\n",
       "76. 6\n",
       "77. 6\n",
       "78. 5\n",
       "79. 9\n",
       "80. 12\n",
       "81. 14\n",
       "82. 3\n",
       "83. 3\n",
       "84. 5\n",
       "85. 0\n",
       "86. 13\n",
       "87. 4\n",
       "88. 7\n",
       "89. 3\n",
       "90. 10\n",
       "91. 5\n",
       "92. 10\n",
       "93. 1\n",
       "94. 4\n",
       "95. 3\n",
       "96. 3\n",
       "97. 12\n",
       "98. 4\n",
       "99. 1\n",
       "100. 10\n",
       "101. 11\n",
       "102. 2\n",
       "103. 13\n",
       "104. 3\n",
       "105. 3\n",
       "106. 3\n",
       "107. 8\n",
       "108. 5\n",
       "109. 1\n",
       "110. 15\n",
       "111. 1\n",
       "112. 24\n",
       "113. 26\n",
       "114. 6\n",
       "115. 10\n",
       "116. 2\n",
       "117. 6\n",
       "118. 14\n",
       "119. 6\n",
       "120. 4\n",
       "121. 37\n",
       "122. 28\n",
       "123. 4\n",
       "124. 1\n",
       "125. 4\n",
       "126. 20\n",
       "127. 5\n",
       "128. 19\n",
       "129. 0\n",
       "130. 8\n",
       "131. 1\n",
       "132. 9\n",
       "133. 14\n",
       "134. 8\n",
       "135. 20\n",
       "136. 34\n",
       "137. 0\n",
       "138. 9\n",
       "139. 16\n",
       "140. 3\n",
       "141. 1\n",
       "142. 9\n",
       "143. 3\n",
       "144. 3\n",
       "145. 12\n",
       "146. 9\n",
       "147. 6\n",
       "148. 4\n",
       "149. 3\n",
       "150. 9\n",
       "151. 6\n",
       "152. 4\n",
       "153. 2\n",
       "154. 1\n",
       "155. 3\n",
       "156. 20\n",
       "157. 12\n",
       "158. 12\n",
       "159. 11\n",
       "160. 17\n",
       "161. 2\n",
       "162. 1\n",
       "163. 2\n",
       "164. 5\n",
       "165. 4\n",
       "166. 3\n",
       "167. 3\n",
       "168. 1\n",
       "169. 2\n",
       "170. 0\n",
       "171. 16\n",
       "172. 5\n",
       "173. 3\n",
       "174. 1\n",
       "175. 13\n",
       "176. 18\n",
       "177. 0\n",
       "\n",
       "\n"
      ],
      "text/plain": [
       "  [1]  2 10  3 22  6  7 10  8  4  5  7  8 37  1 11  7  4 12 24  1  6 14  4  8  4\n",
       " [26]  4  6  2  8 26  4  9  1 14  1 13  4  4  5 24 13  8  3  3  3  8  8  1  3  1\n",
       " [51]  2  7  4 20  5 12 19  9 13  8 15 21  1  4  7  2  1  4 17 10  6 10 13 11  4\n",
       " [76]  6  6  5  9 12 14  3  3  5  0 13  4  7  3 10  5 10  1  4  3  3 12  4  1 10\n",
       "[101] 11  2 13  3  3  3  8  5  1 15  1 24 26  6 10  2  6 14  6  4 37 28  4  1  4\n",
       "[126] 20  5 19  0  8  1  9 14  8 20 34  0  9 16  3  1  9  3  3 12  9  6  4  3  9\n",
       "[151]  6  4  2  1  3 20 12 12 11 17  2  1  2  5  4  3  3  1  2  0 16  5  3  1 13\n",
       "[176] 18  0\n",
       "attr(,\"label\")\n",
       "[1] \"years as ceo with company\"\n",
       "attr(,\"format.stata\")\n",
       "[1] \"%9.0g\""
      ]
     },
     "metadata": {},
     "output_type": "display_data"
    }
   ],
   "source": [
    "table(ceoten) #获得CEO 任期变量 ceoten 的频数表： \n",
    "ceoten "
   ]
  },
  {
   "cell_type": "markdown",
   "metadata": {},
   "source": [
    "（3）估计简单回归模型 $\\log(salary)=\\beta_0+\\beta_1 ceoten + u $,用通常的形式报告你的结果。多担任一年CEO，预计年薪增长（近似）的百分数是多少？ "
   ]
  },
  {
   "cell_type": "code",
   "execution_count": 12,
   "metadata": {},
   "outputs": [
    {
     "data": {
      "text/plain": [
       "\n",
       "Call:\n",
       "lm(formula = log(salary) ~ ceoten)\n",
       "\n",
       "Residuals:\n",
       "     Min       1Q   Median       3Q      Max \n",
       "-2.15314 -0.38319 -0.02251  0.44439  1.94337 \n",
       "\n",
       "Coefficients:\n",
       "            Estimate Std. Error t value Pr(>|t|)    \n",
       "(Intercept) 6.505498   0.067991  95.682   <2e-16 ***\n",
       "ceoten      0.009724   0.006364   1.528    0.128    \n",
       "---\n",
       "Signif. codes:  0 '***' 0.001 '**' 0.01 '*' 0.05 '.' 0.1 ' ' 1\n",
       "\n",
       "Residual standard error: 0.6038 on 175 degrees of freedom\n",
       "Multiple R-squared:  0.01316,\tAdjusted R-squared:  0.007523 \n",
       "F-statistic: 2.334 on 1 and 175 DF,  p-value: 0.1284\n"
      ]
     },
     "metadata": {},
     "output_type": "display_data"
    }
   ],
   "source": [
    "fit<-lm(log(salary)~ceoten) #做简单回归，把结果保存在fit 中。 \n",
    "summary(fit) "
   ]
  },
  {
   "cell_type": "code",
   "execution_count": 13,
   "metadata": {},
   "outputs": [],
   "source": [
    "detach(CEOSAL2)"
   ]
  },
  {
   "cell_type": "markdown",
   "metadata": {},
   "source": [
    "## C2.3【简单回归】  \n",
    "### 利用Biddle and Hamermesh (1990)中的SLEEP75.RAW 数据，研究在每周用于睡眠的时间和用于有酬工作的时间之间是否存在替代关系。\n",
    "\n",
    "我们可以用它们中的任何一个作为因变量。为具体起见，估计模型 $sleep=\\beta_0+\\beta_1 totwrk+u$ 其中，sleep 是每周用于晚上睡眠的分钟数，totwrk是这一周中用于工作的分钟数。 \n",
    "\n",
    "（1）用方程的形式，连同观测的次数和$𝑅^2$报告你的结果。该方程中的截距表示什么？ \n",
    "\n",
    "（2）若totwrk 增加2小时，则sleep估计要减少多少？你觉得这是一个很大的效应吗？ "
   ]
  },
  {
   "cell_type": "code",
   "execution_count": 14,
   "metadata": {},
   "outputs": [
    {
     "name": "stderr",
     "output_type": "stream",
     "text": [
      "The following object is masked from package:datasets:\n",
      "\n",
      "    sleep\n",
      "\n"
     ]
    }
   ],
   "source": [
    "SLEEP75 <- read_dta(\"C:/Users/bradl/SRM/data/SLEEP75.DTA\")\n",
    "attach(SLEEP75)"
   ]
  },
  {
   "cell_type": "markdown",
   "metadata": {},
   "source": [
    "（1）用方程的形式，连同观测的次数和$𝑅^2$报告你的结果。该方程中的截距表示什么？ \n"
   ]
  },
  {
   "cell_type": "code",
   "execution_count": 15,
   "metadata": {},
   "outputs": [
    {
     "data": {
      "text/plain": [
       "\n",
       "Call:\n",
       "lm(formula = sleep ~ totwrk)\n",
       "\n",
       "Residuals:\n",
       "     Min       1Q   Median       3Q      Max \n",
       "-2429.94  -240.25     4.91   250.53  1339.72 \n",
       "\n",
       "Coefficients:\n",
       "              Estimate Std. Error t value Pr(>|t|)    \n",
       "(Intercept) 3586.37695   38.91243  92.165   <2e-16 ***\n",
       "totwrk        -0.15075    0.01674  -9.005   <2e-16 ***\n",
       "---\n",
       "Signif. codes:  0 '***' 0.001 '**' 0.01 '*' 0.05 '.' 0.1 ' ' 1\n",
       "\n",
       "Residual standard error: 421.1 on 704 degrees of freedom\n",
       "Multiple R-squared:  0.1033,\tAdjusted R-squared:  0.102 \n",
       "F-statistic: 81.09 on 1 and 704 DF,  p-value: < 2.2e-16\n"
      ]
     },
     "metadata": {},
     "output_type": "display_data"
    }
   ],
   "source": [
    "fit<-lm(sleep~totwrk) #对模型做回归 \n",
    "summary(fit) "
   ]
  },
  {
   "cell_type": "code",
   "execution_count": 16,
   "metadata": {},
   "outputs": [
    {
     "data": {
      "text/html": [
       "706"
      ],
      "text/latex": [
       "706"
      ],
      "text/markdown": [
       "706"
      ],
      "text/plain": [
       "[1] 706"
      ]
     },
     "metadata": {},
     "output_type": "display_data"
    },
    {
     "data": {
      "text/html": [
       "706"
      ],
      "text/latex": [
       "706"
      ],
      "text/markdown": [
       "706"
      ],
      "text/plain": [
       "[1] 706"
      ]
     },
     "metadata": {},
     "output_type": "display_data"
    }
   ],
   "source": [
    "length(residuals(fit)) \n",
    "nobs(fit) "
   ]
  },
  {
   "cell_type": "markdown",
   "metadata": {},
   "source": [
    "（2）若totwrk 增加2 小时，则sleep 估计要减少多少？你觉得这是一个很大的效应吗？ \n",
    "\n",
    "totwrk 增加 2 个小时则sleep 减少约 0.3 个小时。这个效应不算大。 "
   ]
  },
  {
   "cell_type": "code",
   "execution_count": 17,
   "metadata": {},
   "outputs": [],
   "source": [
    "detach(SLEEP75)  "
   ]
  },
  {
   "cell_type": "markdown",
   "metadata": {},
   "source": [
    "## C2.4【因变量为log(y)的回归】\n",
    "### 利用WAGE2.RAW中的数据估计一个简单回归，以便用智商（IQ）来解释月薪（wage）。\n",
    "\n",
    "（1）求出样本中的平均工资和平均IQ。IQ的样本标准差是多少？（总体中的IQ已标准化为平均值是100，标准差是15。）\n",
    "\n",
    "（2）估计一个简单回归模型，其中IQ提高一个单位导致wage变化相同的数量。利用这个模型计算IQ提高15个单位时，工资的预期变化。IQ能够解释大多数工资变异吗？\n",
    "\n",
    "（3）现在再估计一个模型，其中IQ提高一个单位对工资具有相同的百分比影响。如果IQ提高15个单位，预期工资提高的百分比大约是多少？"
   ]
  },
  {
   "cell_type": "code",
   "execution_count": 19,
   "metadata": {},
   "outputs": [
    {
     "name": "stderr",
     "output_type": "stream",
     "text": [
      "The following objects are masked from WAGE2 (pos = 3):\n",
      "\n",
      "    age, black, brthord, educ, exper, feduc, hours, IQ, KWW, lwage,\n",
      "    married, meduc, sibs, south, tenure, urban, wage\n",
      "\n"
     ]
    }
   ],
   "source": [
    "data(wage2)\n",
    "WAGE2<-wage2\n",
    "attach(WAGE2)\n",
    "#library(mice) #载入检查缺失值的包mice。\n",
    "#md.pattern(WAGE2) #"
   ]
  },
  {
   "cell_type": "markdown",
   "metadata": {},
   "source": [
    "（1）求出样本中的平均工资和平均IQ。IQ的样本标准差是多少？"
   ]
  },
  {
   "cell_type": "code",
   "execution_count": 20,
   "metadata": {},
   "outputs": [
    {
     "data": {
      "text/html": [
       "957.945454545455"
      ],
      "text/latex": [
       "957.945454545455"
      ],
      "text/markdown": [
       "957.945454545455"
      ],
      "text/plain": [
       "[1] 957.9455"
      ]
     },
     "metadata": {},
     "output_type": "display_data"
    },
    {
     "data": {
      "text/html": [
       "101.282352941176"
      ],
      "text/latex": [
       "101.282352941176"
      ],
      "text/markdown": [
       "101.282352941176"
      ],
      "text/plain": [
       "[1] 101.2824"
      ]
     },
     "metadata": {},
     "output_type": "display_data"
    },
    {
     "data": {
      "text/html": [
       "15.0526363702651"
      ],
      "text/latex": [
       "15.0526363702651"
      ],
      "text/markdown": [
       "15.0526363702651"
      ],
      "text/plain": [
       "[1] 15.05264"
      ]
     },
     "metadata": {},
     "output_type": "display_data"
    }
   ],
   "source": [
    "mean(wage) #平均工资\n",
    "mean(IQ) #平均IQ\n",
    "sd(IQ) "
   ]
  },
  {
   "cell_type": "markdown",
   "metadata": {},
   "source": [
    "（2）估计一个简单回归模型，其中IQ提高一个单位导致wage变化相同的数量。利用这个模型计算IQ提高15个单位时，工资的预期变化。IQ能够解释大多数工资变异吗?\n",
    "设定模型 $wage=\\beta_0+\\beta_1 IQ+\\mu$"
   ]
  },
  {
   "cell_type": "code",
   "execution_count": 21,
   "metadata": {
    "scrolled": true
   },
   "outputs": [
    {
     "data": {
      "text/plain": [
       "\n",
       "Call:\n",
       "lm(formula = wage ~ IQ)\n",
       "\n",
       "Residuals:\n",
       "   Min     1Q Median     3Q    Max \n",
       "-898.7 -256.5  -47.3  201.1 2072.6 \n",
       "\n",
       "Coefficients:\n",
       "            Estimate Std. Error t value Pr(>|t|)    \n",
       "(Intercept) 116.9916    85.6415   1.366    0.172    \n",
       "IQ            8.3031     0.8364   9.927   <2e-16 ***\n",
       "---\n",
       "Signif. codes:  0 '***' 0.001 '**' 0.01 '*' 0.05 '.' 0.1 ' ' 1\n",
       "\n",
       "Residual standard error: 384.8 on 933 degrees of freedom\n",
       "Multiple R-squared:  0.09554,\tAdjusted R-squared:  0.09457 \n",
       "F-statistic: 98.55 on 1 and 933 DF,  p-value: < 2.2e-16\n"
      ]
     },
     "metadata": {},
     "output_type": "display_data"
    }
   ],
   "source": [
    "fit1<-lm(wage~IQ) #估计上述模型\n",
    "summary(fit1) #"
   ]
  },
  {
   "cell_type": "markdown",
   "metadata": {},
   "source": [
    "（3）现在再估计一个模型，其中IQ提高一个单位对工资具有相同的百分比影响。如果IQ提高15个单位，预期工资提高的百分比大约是多少?\n",
    "设定模型$\\log(wage)=\\beta_0+\\beta_1 IQ+\\mu$"
   ]
  },
  {
   "cell_type": "code",
   "execution_count": 22,
   "metadata": {},
   "outputs": [
    {
     "data": {
      "text/plain": [
       "\n",
       "Call:\n",
       "lm(formula = log(wage) ~ IQ)\n",
       "\n",
       "Residuals:\n",
       "     Min       1Q   Median       3Q      Max \n",
       "-2.09324 -0.25547  0.02261  0.27544  1.21486 \n",
       "\n",
       "Coefficients:\n",
       "             Estimate Std. Error t value Pr(>|t|)    \n",
       "(Intercept) 5.8869943  0.0890206   66.13   <2e-16 ***\n",
       "IQ          0.0088072  0.0008694   10.13   <2e-16 ***\n",
       "---\n",
       "Signif. codes:  0 '***' 0.001 '**' 0.01 '*' 0.05 '.' 0.1 ' ' 1\n",
       "\n",
       "Residual standard error: 0.3999 on 933 degrees of freedom\n",
       "Multiple R-squared:  0.09909,\tAdjusted R-squared:  0.09813 \n",
       "F-statistic: 102.6 on 1 and 933 DF,  p-value: < 2.2e-16\n"
      ]
     },
     "metadata": {},
     "output_type": "display_data"
    }
   ],
   "source": [
    "fit2<-lm(log(wage)~IQ) #估计上述模型\n",
    "summary(fit2) #"
   ]
  },
  {
   "cell_type": "code",
   "execution_count": 44,
   "metadata": {},
   "outputs": [],
   "source": [
    "detach(WAGE2)"
   ]
  },
  {
   "cell_type": "markdown",
   "metadata": {},
   "source": [
    "## C2.5【常弹性模型】\n",
    "### 在化工产业的企业总体中，令rd表示年研发支出，sales表示年销售额（都以百万美元计）。\n",
    "\n",
    "（1）写一个模型（不是估计方程），其中rd和sales之间的弹性为常数。哪一个参数代表弹性？\n",
    "常弹性模型：$\\log{rd}=\\beta_0+\\beta_1\\log{sales}+u$，其中$\\beta_1$表示弹性。\n",
    "\n",
    "（2）再用RDCHEM.RAW中的数据估计模型。用通常的形式写出估计方程。rd关于sales的弹性的估计值是多少？用文字解释这个弹性的含义。"
   ]
  },
  {
   "cell_type": "code",
   "execution_count": 23,
   "metadata": {},
   "outputs": [],
   "source": [
    "data(rdchem)\n",
    "RDCHEM<-rdchem\n",
    "attach(RDCHEM)\n",
    "#library(mice) #载入检查缺失值的包mice。\n",
    "#md.pattern(RDCHEM) #"
   ]
  },
  {
   "cell_type": "markdown",
   "metadata": {},
   "source": [
    "（1）写一个模型（不是估计方程），其中rd和sales之间的弹性为常数。哪一个参数代表弹性？\n",
    "常弹性模型：$\\log{rd}=\\beta_0+\\beta_1\\log{sales}+u$，其中$\\beta_1$表示弹性。"
   ]
  },
  {
   "cell_type": "code",
   "execution_count": 24,
   "metadata": {},
   "outputs": [
    {
     "data": {
      "text/plain": [
       "\n",
       "Call:\n",
       "lm(formula = log(rd) ~ log(sales))\n",
       "\n",
       "Residuals:\n",
       "     Min       1Q   Median       3Q      Max \n",
       "-0.90406 -0.40086 -0.02178  0.40562  1.10438 \n",
       "\n",
       "Coefficients:\n",
       "            Estimate Std. Error t value Pr(>|t|)    \n",
       "(Intercept) -4.10472    0.45277  -9.066 4.27e-10 ***\n",
       "log(sales)   1.07573    0.06183  17.399  < 2e-16 ***\n",
       "---\n",
       "Signif. codes:  0 '***' 0.001 '**' 0.01 '*' 0.05 '.' 0.1 ' ' 1\n",
       "\n",
       "Residual standard error: 0.5294 on 30 degrees of freedom\n",
       "Multiple R-squared:  0.9098,\tAdjusted R-squared:  0.9068 \n",
       "F-statistic: 302.7 on 1 and 30 DF,  p-value: < 2.2e-16\n"
      ]
     },
     "metadata": {},
     "output_type": "display_data"
    }
   ],
   "source": [
    "fit<-lm(log(rd)~log(sales)) #做（1）中常弹性模型的回归。\n",
    "summary(fit)"
   ]
  },
  {
   "cell_type": "code",
   "execution_count": 25,
   "metadata": {},
   "outputs": [
    {
     "data": {
      "text/html": [
       "32"
      ],
      "text/latex": [
       "32"
      ],
      "text/markdown": [
       "32"
      ],
      "text/plain": [
       "[1] 32"
      ]
     },
     "metadata": {},
     "output_type": "display_data"
    }
   ],
   "source": [
    "length(residuals(fit))\n",
    "detach(RDCHEM)"
   ]
  },
  {
   "cell_type": "markdown",
   "metadata": {},
   "source": [
    "（2）再用RDCHEM.RAW中的数据估计模型。用通常的形式写出估计方程。rd关于sales的弹性的估计值是多少？用文字解释这个弹性的含义。"
   ]
  },
  {
   "cell_type": "markdown",
   "metadata": {},
   "source": [
    "## C2.6【自变量为log(x)的回归；回归预测】\n",
    "### 例2.12中曾使用了MEAP93.RAM中的数据。现在，我们想用这个文件中的数据来说明数学通过率（math10）与没个学生的平均支出（expend）之间的关系。\n",
    "\n",
    "（1）就多花一美元对通过率的影响而言，你认为具有恒定不变的影响合适呢，还是这种影响越来越小合适？请加以解释。\n",
    "\n",
    "答：越来越小合适。对于低支出的学生来说，1美元支出带来的边际效用理应更大，而随着边际效用递减，对于高支出的学生来说，1美元支出带来的效用更低。\n",
    "\n",
    "（2）在总体模型 $math10=\\beta_0+\\beta_1\\log{expend}+u$中，证明$\\beta_1/10$表示expend提高了10\\%导致math10改变的百分数。\n",
    "\n",
    "答：该式表示expend提高1%，math10将提高$\\beta_1/100$个单位。所以$\\beta_1/10$表示expend提高了10%导致math10改变的单位数，也就是通过率增加的百分数。\n",
    "\n",
    "（3）利用MEAP93.RAM中的数据，估计（2）中的模型。按照通常的方式报告估计方程，包括样本容量和$R^2$。\n",
    "\n",
    "（4）支出的估计影响有多大？也就是说，如果支出提高10\\%，估计math10会提高多少个百分点？\n",
    "\n",
    "（5）有人担心这个回归分析可能达到math10的拟合值会超过100。为什么在这个数据集中不必担心这个问题？"
   ]
  },
  {
   "cell_type": "code",
   "execution_count": 56,
   "metadata": {},
   "outputs": [
    {
     "name": "stderr",
     "output_type": "stream",
     "text": [
      "The following object is masked from package:wooldridge:\n",
      "\n",
      "    benefits\n",
      "\n"
     ]
    }
   ],
   "source": [
    "data(meap93)\n",
    "MEAP93<-meap93\n",
    "attach(MEAP93)"
   ]
  },
  {
   "cell_type": "markdown",
   "metadata": {},
   "source": [
    "（3）利用MEAP93.RAM中的数据，估计（2）中的模型。按照通常的方式报告估计方程，包括样本容量和$R^2$。"
   ]
  },
  {
   "cell_type": "code",
   "execution_count": 57,
   "metadata": {},
   "outputs": [
    {
     "data": {
      "text/plain": [
       "\n",
       "Call:\n",
       "lm(formula = math10 ~ log(expend))\n",
       "\n",
       "Residuals:\n",
       "    Min      1Q  Median      3Q     Max \n",
       "-22.343  -7.100  -0.914   6.148  39.093 \n",
       "\n",
       "Coefficients:\n",
       "            Estimate Std. Error t value Pr(>|t|)    \n",
       "(Intercept)  -69.341     26.530  -2.614 0.009290 ** \n",
       "log(expend)   11.164      3.169   3.523 0.000475 ***\n",
       "---\n",
       "Signif. codes:  0 '***' 0.001 '**' 0.01 '*' 0.05 '.' 0.1 ' ' 1\n",
       "\n",
       "Residual standard error: 10.35 on 406 degrees of freedom\n",
       "Multiple R-squared:  0.02966,\tAdjusted R-squared:  0.02727 \n",
       "F-statistic: 12.41 on 1 and 406 DF,  p-value: 0.0004752\n"
      ]
     },
     "metadata": {},
     "output_type": "display_data"
    },
    {
     "data": {
      "text/html": [
       "408"
      ],
      "text/latex": [
       "408"
      ],
      "text/markdown": [
       "408"
      ],
      "text/plain": [
       "[1] 408"
      ]
     },
     "metadata": {},
     "output_type": "display_data"
    }
   ],
   "source": [
    "fit<-lm(math10~log(expend)) #做（2）中模型的回归。\n",
    "summary(fit) #\n",
    "nobs(fit)"
   ]
  },
  {
   "cell_type": "markdown",
   "metadata": {},
   "source": [
    "（4）支出的估计影响有多大？也就是说，如果支出提高10\\%，估计math10会提高多少个百分点？\n",
    "11.164/10=1.1164"
   ]
  },
  {
   "cell_type": "markdown",
   "metadata": {},
   "source": [
    "（5）有人担心这个回归分析可能达到math10的拟合值会超过100。为什么在这个数据集中不必担心这个问题?"
   ]
  },
  {
   "cell_type": "code",
   "execution_count": 58,
   "metadata": {},
   "outputs": [
    {
     "data": {
      "text/html": [
       "7419"
      ],
      "text/latex": [
       "7419"
      ],
      "text/markdown": [
       "7419"
      ],
      "text/plain": [
       "[1] 7419"
      ]
     },
     "metadata": {},
     "output_type": "display_data"
    },
    {
     "data": {
      "text/html": [
       "<strong>1:</strong> 30.1537557050995"
      ],
      "text/latex": [
       "\\textbf{1:} 30.1537557050995"
      ],
      "text/markdown": [
       "**1:** 30.1537557050995"
      ],
      "text/plain": [
       "       1 \n",
       "30.15376 "
      ]
     },
     "metadata": {},
     "output_type": "display_data"
    }
   ],
   "source": [
    "max(expend) #求在数据集中log(expend)的最大值为多少，结果是7419。\n",
    "new <- data.frame(expend = max(expend)) #生成新的数据框new，内容为mrate中的最大值7419。\n",
    "predict(fit,new) #用predict()函数进行预测，得到结果30.15376，远小于100。所以在这个数据集中，即便expend取最大值，math10距离100也还差很远。\n",
    "detach(MEAP93) #"
   ]
  },
  {
   "cell_type": "markdown",
   "metadata": {},
   "source": [
    "## C2.7【按条件选入观测；简单回归；工整导出回归结果】\n",
    "### 利用CHARITY.RAW中的数据[得自于Franses and Paap (2001)]回答如下问题：\n",
    "\n",
    "（1）在这个4268人的样本中，平均捐款数量是多少（以荷兰盾为单位）？没有捐款的人数百分比是多少？\n",
    "\n",
    "（2）每年平均寄出的邮件数量是多少？其最小值和最大值是多少？\n",
    "\n",
    "（3）用普通最小二乘法估计如下模型： $gift=\\beta_0+\\beta_1 mailsyear+u$ 按照通常的方式报告估计方程，包括样本容量和$R^2$。\n",
    "\n",
    "（4）解释斜率系数。如果每封邮件的成本是1盾，那么慈善机构预期能够从寄出的每一封邮件中获得净利润吗？这意味着慈善机构从每封邮件中都获得了净利润吗？请加以解释。\n",
    "\n",
    "（5）样本中最小慈善捐款的预测值是多少？利用这个简单的回归分析，你有可能预测gift等于0吗？"
   ]
  },
  {
   "cell_type": "code",
   "execution_count": 61,
   "metadata": {},
   "outputs": [],
   "source": [
    "data(charity)\n",
    "attach(charity)"
   ]
  },
  {
   "cell_type": "code",
   "execution_count": 62,
   "metadata": {},
   "outputs": [
    {
     "data": {
      "text/html": [
       "7.44447047797563"
      ],
      "text/latex": [
       "7.44447047797563"
      ],
      "text/markdown": [
       "7.44447047797563"
      ],
      "text/plain": [
       "[1] 7.44447"
      ]
     },
     "metadata": {},
     "output_type": "display_data"
    },
    {
     "data": {
      "text/html": [
       "2561"
      ],
      "text/latex": [
       "2561"
      ],
      "text/markdown": [
       "2561"
      ],
      "text/plain": [
       "[1] 2561"
      ]
     },
     "metadata": {},
     "output_type": "display_data"
    },
    {
     "data": {
      "text/html": [
       "0.600046860356139"
      ],
      "text/latex": [
       "0.600046860356139"
      ],
      "text/markdown": [
       "0.600046860356139"
      ],
      "text/plain": [
       "[1] 0.6000469"
      ]
     },
     "metadata": {},
     "output_type": "display_data"
    }
   ],
   "source": [
    "mean(gift) \n",
    "a<-charity[gift==0,] #将gift为0的观测挑选出来保存在a中。\n",
    "length(a$gift) \n",
    "length(a$gift)/length(charity$gift) #"
   ]
  },
  {
   "cell_type": "code",
   "execution_count": 63,
   "metadata": {},
   "outputs": [
    {
     "data": {
      "text/html": [
       "2.04955482661668"
      ],
      "text/latex": [
       "2.04955482661668"
      ],
      "text/markdown": [
       "2.04955482661668"
      ],
      "text/plain": [
       "[1] 2.049555"
      ]
     },
     "metadata": {},
     "output_type": "display_data"
    },
    {
     "data": {
      "text/html": [
       "0.25"
      ],
      "text/latex": [
       "0.25"
      ],
      "text/markdown": [
       "0.25"
      ],
      "text/plain": [
       "[1] 0.25"
      ]
     },
     "metadata": {},
     "output_type": "display_data"
    },
    {
     "data": {
      "text/html": [
       "3.5"
      ],
      "text/latex": [
       "3.5"
      ],
      "text/markdown": [
       "3.5"
      ],
      "text/plain": [
       "[1] 3.5"
      ]
     },
     "metadata": {},
     "output_type": "display_data"
    }
   ],
   "source": [
    "mean(mailsyear) \n",
    "min(mailsyear) \n",
    "max(mailsyear)#"
   ]
  },
  {
   "cell_type": "code",
   "execution_count": 65,
   "metadata": {},
   "outputs": [
    {
     "name": "stderr",
     "output_type": "stream",
     "text": [
      "\n",
      "Please cite as: \n",
      "\n",
      " Hlavac, Marek (2018). stargazer: Well-Formatted Regression and Summary Statistics Tables.\n",
      " R package version 5.2.2. https://CRAN.R-project.org/package=stargazer \n",
      "\n"
     ]
    },
    {
     "name": "stdout",
     "output_type": "stream",
     "text": [
      "\n",
      "===============================================\n",
      "                        Dependent variable:    \n",
      "                    ---------------------------\n",
      "                               gift            \n",
      "-----------------------------------------------\n",
      "mailsyear                    2.650***          \n",
      "                              (0.343)          \n",
      "                                               \n",
      "Constant                     2.014***          \n",
      "                              (0.739)          \n",
      "                                               \n",
      "-----------------------------------------------\n",
      "Observations                   4,268           \n",
      "R2                             0.014           \n",
      "Adjusted R2                    0.014           \n",
      "Residual Std. Error     14.960 (df = 4266)     \n",
      "F Statistic          59.649*** (df = 1; 4266)  \n",
      "===============================================\n",
      "Note:               *p<0.1; **p<0.05; ***p<0.01\n"
     ]
    }
   ],
   "source": [
    "fit<-lm(gift~mailsyear) #估计上述模型。\n",
    "library(stargazer) \n",
    "stargazer(fit, type=\"text\") # 工"
   ]
  },
  {
   "cell_type": "markdown",
   "metadata": {},
   "source": [
    "# C:\\Program Files\\R\\R-3.6.1\\library"
   ]
  },
  {
   "cell_type": "code",
   "execution_count": null,
   "metadata": {},
   "outputs": [],
   "source": []
  }
 ],
 "metadata": {
  "kernelspec": {
   "display_name": "R",
   "language": "R",
   "name": "ir"
  },
  "language_info": {
   "codemirror_mode": "r",
   "file_extension": ".r",
   "mimetype": "text/x-r-source",
   "name": "R",
   "pygments_lexer": "r",
   "version": "3.6.1"
  }
 },
 "nbformat": 4,
 "nbformat_minor": 2
}
