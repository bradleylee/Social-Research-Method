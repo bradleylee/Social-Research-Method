{
 "cells": [
  {
   "cell_type": "markdown",
   "metadata": {
    "slideshow": {
     "slide_type": "slide"
    }
   },
   "source": [
    "# 计量经济学基础回顾\n"
   ]
  },
  {
   "cell_type": "markdown",
   "metadata": {
    "slideshow": {
     "slide_type": "slide"
    }
   },
   "source": [
    "## 古典假设"
   ]
  },
  {
   "cell_type": "markdown",
   "metadata": {
    "slideshow": {
     "slide_type": "subslide"
    }
   },
   "source": [
    "对于社会科学研究来说，研究的目标是找到管理学和经济学概念之间的关联，最基础的关联是线性关系，而且很多其他形式的关系可以转换为线性关系，所以我们首先假设这些概念之间的关系满足\n",
    "### MRL1. 线性模型(Linear Model)\n",
    "$$ y=\\sum_i^n \\beta_i x_i+\\mu \\tag{1}$$\n",
    "具体地，对于每一个观测值来说\n",
    "$$ y_j=\\sum_i^n \\beta_i x_{ij}+\\mu_j \\tag{2}$$\n",
    "该线性形式意味着：不管 $x_i$的初始值为多少， 它的任何一单位变化对 $y$的影响都是相同的。\n",
    "\n",
    "#### $\\mu$的含义:\n",
    " 1. 表示除$x$之外其他影响$y$的因素，也被称为误差项(error term)或者扰动、干扰（disturbance)。\n",
    " 2. 把除$x$之外所有影响$y$的因素都看成无法观测的因素!\n",
    " 3. $\\beta_i$代表了$x_i$与$y$之间的比例关系，这是计量学要研究的核心问题之一!"
   ]
  },
  {
   "cell_type": "markdown",
   "metadata": {},
   "source": [
    "经济学和管理学的大部分概念是抽象，难以测量的。但是在采用同一种测量方法时，不同受测对象的结果数值应该是服从某一分布的随机变量，这就引出第二个假设\n",
    "### MLR2. 随机采样（Random Sampling)\n",
    "MLR1对应的线性模型(1)中，$x$和$y$是描述研究对象的随机变量，而模型（2）中$x_i$和$y_i$则表示我们从研究对象总体中抽取的样本，为了更好地研究这些总体，需要要求采样的样本完全是随机的。\n",
    "\n",
    "在这种情况下，$y$可以写成是$x$的条件分布，它的概率密度函数可以写成 $$p(y|x_1,\\dots,x_n)=p(\\sum_i^n \\beta_i x_i+\\mu|x_1,\\dots,x_n)$$\n",
    "那么y的条件期望$$E(y|x_1,\\dots,x_n)=E(\\sum_i^n \\beta_i x_i+\\mu|x_1,\\dots,x_n)$$\n",
    "$$=E(\\sum_i^n\\beta_i x_i|x_1,\\dots,x_n)+E(\\mu|x_1,\\dots,x_n)=\\sum_i^n\\beta_i x_i+E(\\mu|x_1,\\dots,x_n)$$"
   ]
  },
  {
   "cell_type": "markdown",
   "metadata": {},
   "source": [
    "一般来说，我们希望$x_i$之间不存在**严格的线性关系（完全共线性）**，如果存在的话就存在冗余变量，会导致估计值的偏误，所以模型应满足\n",
    "### MLR3. 不存在完全共线性（Non Collinearity)"
   ]
  },
  {
   "cell_type": "markdown",
   "metadata": {},
   "source": [
    "同时，除了我们的研究对象和控制变量之外的其他因素在模型中不起作用，那么需要假定\n",
    "### MLR4. 零条件均值（0 Conditional Expectation）$𝐸(\\mu|x_1,\\dots,x_n)=0$\n",
    "在实际中，很多情况下我们无法直接得到$𝐸(\\mu|x_1,\\dots,x_n)=0$，但是我们可以引入一个**截距项$\\alpha$**，将所有不等于0的影响全部归纳到它里面，即可以获得模型\n",
    "$$  y=\\alpha+\\sum_i^n \\beta_i x_i+\\mu \\tag{3}$$\n",
    "零条件均值另外一个等价的概念就是$cov(x_i,\\mu)=0$，即$x_i$与残差都不相关：\n",
    "1. 如果$x_i$满足这个假设的话则称$x_i$为**外生变量（exogenous explanatory variable)**\n",
    "2. 如果$x_i$不满足这个假设的话则称$x_i$为**内生变量（endogenous explanatory variable)**\n",
    "\n",
    "*注：解决内生性问题的方法主要有代理变量法和联立方程模型法(SEM)*\n",
    "\n",
    "鉴于以上问题，我们需要讨论**内生性、遗漏变量**和**无关变量**的问题。"
   ]
  },
  {
   "cell_type": "markdown",
   "metadata": {},
   "source": [
    "### 在MLR1-MLR4满足的条件下，我们可以得到$$E(y|x_1,\\dots,x_n)=\\alpha+\\sum_i^n\\beta_i x_i$$\n",
    "\n",
    "#### 那如何利用已有的$y$和$\\vec{x}$来推知$\\alpha$和$\\beta_i$呢？\n",
    "而以最小化（3）式中拟合残差平方和为目标的规划问题$$min_{\\alpha,\\beta_i} (y-\\alpha+\\sum_i^n \\beta_i x_i)^2$$可以通过一阶条件推导出OLS（普通最小二乘）回归的解$\\hat{\\beta_i}$和$\\hat{\\alpha}$，这里的$\\hat{\\beta_i}$就是模型（3）中$\\beta_i$的无偏估计量。"
   ]
  },
  {
   "cell_type": "markdown",
   "metadata": {},
   "source": [
    "### *以简单线性回归为例推导$\\beta$的期望和方差*\n",
    "已知$$\\hat{\\beta}=\\frac{\\sum_i^n(y_i-\\bar{y})(x_i-\\bar{x})}{\\sum_i^n(x_i-\\bar{x})^2}$$\n",
    "分子可以改写为$\\sum_i^n(y_i-\\bar{y})(x_i-\\bar{x})=\\sum_i^n[(x_i-\\bar{x})y_i-(x_i-\\bar{x})\\bar{y}]=\\sum_i^n(x_i-\\bar{x})y_i-\\sum_i^n(x_i-\\bar{x})\\bar{y}$\n",
    "\n",
    "$\\because \\bar{y}=constant \\therefore \\sum_i^n(y_i-\\bar{y})(x_i-\\bar{x})=\\sum_i^n(x_i-\\bar{x})y_i$\n",
    "\n",
    "令分母$\\sum_i^n(x_i-\\bar{x})^2=SST_x$\n",
    "则$$\\hat{\\beta}=\\frac{\\sum_i^n(y_i-\\bar{y})(x_i-\\bar{x})}{SST_x}=\\frac{\\sum_i^n(x_i-\\bar{x})y_i}{SST_x}=\\sum_i^n\\frac{(x_i-\\bar{x})}{SST_x}y_i=\\sum_i^n\\frac{d_i}{SST_x}y_i$$\n",
    "以后考察所有$\\beta_i$的统计量都从这个公式出发。"
   ]
  },
  {
   "cell_type": "markdown",
   "metadata": {},
   "source": [
    "#### 期望（无偏性）\n",
    "$$E(\\hat{\\beta})=E(\\sum_i^n\\frac{d_i}{SST_x}(\\alpha+\\beta x_i+\\mu_i))=E(\\alpha\\sum_i^n\\frac{d_i}{SST_x}+\\beta\\sum_i^n\\frac{d_i}{SST_x}x_i+\\sum_i^n\\frac{d_i}{SST_x}\\mu_i)=E(\\beta+\\frac{\\sum_i^n d_i\\mu_i}{SST_x})=\\beta\\tag{4}$$\n",
    "\n",
    "**从（4）式可以看出，$\\beta$估计量的分布跟残差$\\mu$一致。**"
   ]
  },
  {
   "cell_type": "markdown",
   "metadata": {},
   "source": [
    "#### 方差（有效性，最小离差平方性）\n",
    "对于一个估计量来说，不仅要考虑**无偏性**，我们还应该考虑它的**有效性、最小离差平方性**和**一致性**。考虑**有效性、最小离差平方性**就是对估计量的方差进行分析：\n",
    "$$Var(\\hat{\\beta})=Var(\\beta+\\sum_i^n\\frac{d_i}{SST_x}\\mu_i)=\\frac{1}{SST_x^2}Var(\\sum_i^n d_i\\mu_i)=\\frac{1}{SST_x^2}(\\sum_i^n d_i^2Var(\\mu_i))\\tag{5}$$"
   ]
  },
  {
   "cell_type": "markdown",
   "metadata": {},
   "source": [
    "从（5）式可以看出，当$Var(\\mu_i)$为确定值的时候推导才能继续，否则$\\beta$估计值的方差将无法确定。\n",
    "于是，我们就有了\n",
    "### MLR5. 同方差假定(Homoskedasticity)$Var(\\mu|x_1,\\dots,x_n)=\\sigma^2$\n",
    "在该假定下（5）式可以继续推导\n",
    "$$Var(\\hat{\\beta})=\\frac{1}{SST_x^2}(\\sum_i^n d_i^2\\sigma^2)=\\sigma^2\\frac{1}{SST_x^2}*SST_x=\\frac{\\sigma^2}{SST_x} \\tag{6}$$\n",
    "多元的形式为\n",
    "$$Var(\\hat{\\beta_j})=\\frac{\\sigma^2}{SST_j(1-R_j^2)}\\tag{7}$$\n",
    "\n",
    "如果不满足同方差假定，则$\\hat{\\beta_j}$可能不是方差最小的有效估计值。我们可以通过**Wald统计量，异方差-稳健LM统计量，BP检验或White检验**进行检验，并采用**加权最小二乘法WLS或者广义最小二乘法GLS**进行调整。"
   ]
  },
  {
   "cell_type": "markdown",
   "metadata": {},
   "source": [
    "### Gauss-Markov Theroem\n",
    "#### MLR1-MLR5被称为*高斯-马尔可夫假设*，OLS的估计量$\\hat{\\beta_j}$在满足这些假设的时候是$\\beta_j$的最佳线性无偏估计量（Best Linear Unbiased Estimations, BLUEs)。\n",
    "\n",
    "此时残差的方差估计量（$E(\\hat{\\sigma^2})=\\frac{SSR}{n-k-1}=\\sigma^2$）,结合（7）式我们可以给出$\\hat{\\beta_j}$的标准误\n",
    "$$se(\\hat{\\beta_j})=\\sqrt{Var(\\hat{\\beta_j})}=\\frac{\\hat{\\sigma}}{[SST_j(1-R_j^2)]^{1/2}}=\\frac{\\hat{\\sigma}}{\\sqrt{n}sd(x_j)\\sqrt{(1-R_j^2)}}\\tag{8}$$\n"
   ]
  },
  {
   "cell_type": "markdown",
   "metadata": {},
   "source": [
    "为了对具体的统计量数值进行统计推断（假设检验或者区间估计），我们需要知道随机变量的分布，对于OLS来说，残差的分布是进行统计推断的基础，因此\n",
    "### MLR6. 正态性假定(Normality) $\\mu \\sim N(0,\\sigma^2)$\n",
    "### MLR1-MLR6被称为*古典假设*CLM\n",
    "\n",
    "1. 可以证明在古典假设下，OLS估计量是最小方差无偏估计量，\n",
    "2. 总结古典假设CLM的简洁方法是\n",
    "$$y|\\vec{x}\\sim N(\\beta_0+\\sum_i^n \\beta_i x_i,\\sigma^2)\\tag{9}$$\n",
    "利用正态性假定，我们可以得到定理4.1\n",
    "$$(\\hat{\\beta_j}-\\beta_j)/sd(\\hat{\\beta_j})\\sim N(0,1)$$\n",
    "但是由于我们无法得到准确的$sd(\\hat{\\beta_j})$，而只能通过$se(\\hat{\\beta_j})$来估计$\\hat{\\sigma}$（见（8））式，所以需要用定理4.2来代替定理4.1，即\n",
    "$$(\\hat{\\beta_j}-\\beta_j)/se(\\hat{\\beta_j})\\sim t_{n-k-1}=t_{df}\\tag{10}$$\n",
    "\n",
    "**（10）给出了利用样本能够真正计算出的$\\beta_j$的分布，根据这个分布我们可以对单个$\\beta_j$进行统计推断（包括假设检验和区间估计）**。\n",
    "\n",
    "同样，对于$H_0:\\beta_{k-q+1}=\\dots=\\beta_{k}$的联合检验可以通过F检验实现，这里用到了SSR的分布。由定义我们可以推出，在满足MLR6的情况下\n",
    "$$SSR=\\sum_i^n \\mu_i^2\\sim \\chi^2(n)$$\n",
    "因此，F统计量\n",
    "$$F :=\\frac{(SSR_r-SSR_{ur})/q}{SSR_{ur}/(n-k-1)}\\sim F(q,n-k-1)$$"
   ]
  },
  {
   "cell_type": "markdown",
   "metadata": {},
   "source": [
    "### 需要注意的是：在大样本条件下，即使没有满足正态性假设MLR6.，利用OLS计算的t统计量和F统计量依然*近似*服从t分布和F分布，这就是OLS估计的一致性。\n",
    "\n",
    "#### 一致性定理：在满足MLR1-MLR4的条件下，OLS估计的$\\hat{\\beta_j}$是$\\beta_j$的一致估计。\n",
    "在这种情况下，$\\hat{\\beta_j}$的不一致性（渐近偏误）为$$plim\\hat{\\beta}-\\beta=Cov(x,\\mu)/Var(x)$$此时如果$Cov(x,\\mu)\\neq 0 $则估计值会出现偏误。\n",
    "\n",
    "#### OLS渐近正态性定理5.2 在满足高斯-马尔可夫假设的条件下，$\\beta_j$除以其估计值的标准误服从正态分布。\n",
    "\n",
    "#### 在不满足MLR6的条件下，参数联合检验从F检验改变为拉格朗日乘数统计量（LM）检验"
   ]
  },
  {
   "cell_type": "markdown",
   "metadata": {},
   "source": [
    "## 方程形式\n",
    "1. 弹性方程\n",
    "2. 半弹性方程\n",
    "3. 含二次项\n",
    "4. 含交乘项"
   ]
  },
  {
   "cell_type": "markdown",
   "metadata": {},
   "source": [
    "## 虚拟变量\n",
    "1. 虚拟变量在自变量中\n",
    "   + 改变截距\n",
    "   + 改变斜率\n",
    "   + 断点回归\n",
    "   + 分类回归\n",
    "2. 虚拟变量在因变量中\n",
    "   + 概率模型 逻辑回归 Logit或Logistic回归"
   ]
  },
  {
   "cell_type": "markdown",
   "metadata": {},
   "source": [
    "### 异方差的探讨\n",
    "#### 当存在异方差的时候，OLS的估计结果：\n",
    "1. 参数估计量不再有效\n",
    "2. 残差方差估计不再无偏\n",
    "3. 基于以上推论的各种统计推断失效\n",
    "4. 模型预测性能失效\n",
    "\n",
    "#### 如何检验\n",
    "1. 图示法\n",
    "2. Goldfield-Quandt检验:样本分为大小相同的两组，然后用OLS误差项的方差计算统计量F\n",
    "3. Park检验：\n",
    "  + 原理：如果存在异方差，则$\\sigma_i^2$可能与一个或者多个解释变量系统相关。 \n",
    "  + 步骤：\n",
    "     1. 用普通最小二乘法求出回归方程，不考虑异方差问题;\n",
    "     2. 求残差平方，再取对数形式$ln(\\mu_i^2)$;\n",
    "     3. 利用$ln(\\mu_i^2)$对原始模型中的一个解释变量做回归；如果有多个解释变量，则对每个解释变量都做回归，或者对Y做回归;\n",
    "     4. 如果$ln(\\mu_i^2)$与$ln(x_i)$之间的关系是统计显著的，则拒绝零假设，表明存在异方差!\n",
    "4. Gleiser检验\n",
    "  + 与Park检验相同，只不过用了残差的绝对值做回归\n",
    "5. 异方差-稳健的LM检验\n",
    "6. White检验    \n",
    "7. BP检验\n",
    "\n",
    "#### 如何解决\n",
    "1. WLS\n",
    "2. GLS\n",
    "\n",
    "OLS和WLS都是GLS的特殊情况。\n",
    "\n",
    "原理：\n",
    "\n",
    "存在异方差的模型$$y_i=\\alpha+\\beta x_i+\\mu_i, \\mu_i\\sim N(0,\\sigma_i^2)$$两侧除以标准差$\\sigma_i$可得\n",
    "$$\\frac{y_i}{\\sigma_i}=\\frac{\\alpha}{\\sigma_i}+\\frac{\\beta x_i}{\\sigma_i}+\\frac{\\mu_i}{\\sigma_i}$$\n",
    "新的残差项为$$\\mu^*=\\frac{\\mu_i}{\\sigma_i}$$\n",
    "期望$$E\\mu^*=E\\frac{\\mu_i}{\\sigma_i}=0$$\n",
    "方差$$Var(\\mu^*)=E(\\mu^{*2})-(E\\mu^*)^2=E(\\frac{\\mu_i^2}{\\sigma_i^2})=1$$"
   ]
  },
  {
   "cell_type": "code",
   "execution_count": null,
   "metadata": {},
   "outputs": [],
   "source": []
  }
 ],
 "metadata": {
  "kernelspec": {
   "display_name": "R",
   "language": "R",
   "name": "ir"
  },
  "language_info": {
   "codemirror_mode": "r",
   "file_extension": ".r",
   "mimetype": "text/x-r-source",
   "name": "R",
   "pygments_lexer": "r",
   "version": "3.6.1"
  }
 },
 "nbformat": 4,
 "nbformat_minor": 2
}
