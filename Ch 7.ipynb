{
 "cells": [
  {
   "cell_type": "markdown",
   "metadata": {},
   "source": [
    "# 第 7 章 含有定性信息的多元回归分析：二值（或虚拟）变量 \n",
    "## C7.1【F 检验】 本题使用 GPA1.RAW 中的数据。 \n",
    "\n",
    "（1）在估计方程（7.6）中增加变量 mothcoll 和fathcoll，并以通常的形式报告结果。拥有PC 的估计影响会怎么样？PC 还是统计显著的吗？ \n",
    "\n",
    "（2）检验第（1）部分方程中mothcoll 和fathcoll 的联合显著性，不要忘记报告p 值。 \n",
    "\n",
    "（3）在第（1）部分的模型中增添hsGPA2，并判断是否有必要进行这种扩展。 "
   ]
  },
  {
   "cell_type": "code",
   "execution_count": 2,
   "metadata": {},
   "outputs": [],
   "source": [
    "library(wooldridge)\n",
    "library(haven)"
   ]
  },
  {
   "cell_type": "code",
   "execution_count": 3,
   "metadata": {},
   "outputs": [
    {
     "name": "stderr",
     "output_type": "stream",
     "text": [
      "The following objects are masked from package:wooldridge:\n",
      "\n",
      "    alcohol, campus\n",
      "\n"
     ]
    }
   ],
   "source": [
    "GPA1 <- read_dta(\"C:/Users/bradl/SRM/data/GPA1.DTA\")\n",
    "attach(GPA1)"
   ]
  },
  {
   "cell_type": "code",
   "execution_count": 4,
   "metadata": {},
   "outputs": [
    {
     "data": {
      "text/plain": [
       "\n",
       "Call:\n",
       "lm(formula = colGPA ~ PC + hsGPA + ACT + mothcoll + fathcoll)\n",
       "\n",
       "Residuals:\n",
       "     Min       1Q   Median       3Q      Max \n",
       "-0.78149 -0.25726 -0.02121  0.24691  0.74432 \n",
       "\n",
       "Coefficients:\n",
       "             Estimate Std. Error t value Pr(>|t|)    \n",
       "(Intercept)  1.255554   0.335392   3.744 0.000268 ***\n",
       "PC           0.151854   0.058716   2.586 0.010762 *  \n",
       "hsGPA        0.450220   0.094280   4.775 4.61e-06 ***\n",
       "ACT          0.007724   0.010678   0.723 0.470688    \n",
       "mothcoll    -0.003758   0.060270  -0.062 0.950376    \n",
       "fathcoll     0.041800   0.061270   0.682 0.496265    \n",
       "---\n",
       "Signif. codes:  0 '***' 0.001 '**' 0.01 '*' 0.05 '.' 0.1 ' ' 1\n",
       "\n",
       "Residual standard error: 0.3344 on 135 degrees of freedom\n",
       "Multiple R-squared:  0.2222,\tAdjusted R-squared:  0.1934 \n",
       "F-statistic: 7.713 on 5 and 135 DF,  p-value: 2.083e-06\n"
      ]
     },
     "metadata": {},
     "output_type": "display_data"
    }
   ],
   "source": [
    "fit1<-lm(colGPA~PC+hsGPA+ACT+mothcoll+fathcoll) #拟合上述模型 \n",
    "summary(fit1) "
   ]
  },
  {
   "cell_type": "code",
   "execution_count": 5,
   "metadata": {},
   "outputs": [
    {
     "name": "stderr",
     "output_type": "stream",
     "text": [
      "Loading required package: carData\n"
     ]
    },
    {
     "data": {
      "text/html": [
       "<table>\n",
       "<caption>A anova: 2 × 6</caption>\n",
       "<thead>\n",
       "\t<tr><th scope=col>Res.Df</th><th scope=col>RSS</th><th scope=col>Df</th><th scope=col>Sum of Sq</th><th scope=col>F</th><th scope=col>Pr(&gt;F)</th></tr>\n",
       "\t<tr><th scope=col>&lt;dbl&gt;</th><th scope=col>&lt;dbl&gt;</th><th scope=col>&lt;dbl&gt;</th><th scope=col>&lt;dbl&gt;</th><th scope=col>&lt;dbl&gt;</th><th scope=col>&lt;dbl&gt;</th></tr>\n",
       "</thead>\n",
       "<tbody>\n",
       "\t<tr><td>137</td><td>15.14868</td><td>NA</td><td>        NA</td><td>       NA</td><td>       NA</td></tr>\n",
       "\t<tr><td>135</td><td>15.09400</td><td> 2</td><td>0.05468536</td><td>0.2445517</td><td>0.7834017</td></tr>\n",
       "</tbody>\n",
       "</table>\n"
      ],
      "text/latex": [
       "A anova: 2 × 6\n",
       "\\begin{tabular}{r|llllll}\n",
       " Res.Df & RSS & Df & Sum of Sq & F & Pr(>F)\\\\\n",
       " <dbl> & <dbl> & <dbl> & <dbl> & <dbl> & <dbl>\\\\\n",
       "\\hline\n",
       "\t 137 & 15.14868 & NA &         NA &        NA &        NA\\\\\n",
       "\t 135 & 15.09400 &  2 & 0.05468536 & 0.2445517 & 0.7834017\\\\\n",
       "\\end{tabular}\n"
      ],
      "text/markdown": [
       "\n",
       "A anova: 2 × 6\n",
       "\n",
       "| Res.Df &lt;dbl&gt; | RSS &lt;dbl&gt; | Df &lt;dbl&gt; | Sum of Sq &lt;dbl&gt; | F &lt;dbl&gt; | Pr(&gt;F) &lt;dbl&gt; |\n",
       "|---|---|---|---|---|---|\n",
       "| 137 | 15.14868 | NA |         NA |        NA |        NA |\n",
       "| 135 | 15.09400 |  2 | 0.05468536 | 0.2445517 | 0.7834017 |\n",
       "\n"
      ],
      "text/plain": [
       "  Res.Df RSS      Df Sum of Sq  F         Pr(>F)   \n",
       "1 137    15.14868 NA         NA        NA        NA\n",
       "2 135    15.09400  2 0.05468536 0.2445517 0.7834017"
      ]
     },
     "metadata": {},
     "output_type": "display_data"
    }
   ],
   "source": [
    "library(car) #载入car 包（首次使用用install.packages(\"car\")安装。） \n",
    "myH0 <- c(\"mothcoll\",\"fathcoll\") #用联合检验所涉及的变量组成向量，构成H0。 \n",
    "linearHypothesis(fit1,myH0) "
   ]
  },
  {
   "cell_type": "code",
   "execution_count": 6,
   "metadata": {},
   "outputs": [
    {
     "data": {
      "text/plain": [
       "\n",
       "Call:\n",
       "lm(formula = colGPA ~ PC + hsGPA + ACT + mothcoll + fathcoll + \n",
       "    I(hsGPA^2))\n",
       "\n",
       "Residuals:\n",
       "     Min       1Q   Median       3Q      Max \n",
       "-0.78998 -0.24327 -0.00648  0.26179  0.72231 \n",
       "\n",
       "Coefficients:\n",
       "             Estimate Std. Error t value Pr(>|t|)  \n",
       "(Intercept)  5.040328   2.443038   2.063   0.0410 *\n",
       "PC           0.140446   0.058858   2.386   0.0184 *\n",
       "hsGPA       -1.802520   1.443552  -1.249   0.2140  \n",
       "ACT          0.004786   0.010786   0.444   0.6580  \n",
       "mothcoll     0.003091   0.060110   0.051   0.9591  \n",
       "fathcoll     0.062761   0.062401   1.006   0.3163  \n",
       "I(hsGPA^2)   0.337341   0.215711   1.564   0.1202  \n",
       "---\n",
       "Signif. codes:  0 '***' 0.001 '**' 0.01 '*' 0.05 '.' 0.1 ' ' 1\n",
       "\n",
       "Residual standard error: 0.3326 on 134 degrees of freedom\n",
       "Multiple R-squared:  0.2361,\tAdjusted R-squared:  0.2019 \n",
       "F-statistic: 6.904 on 6 and 134 DF,  p-value: 2.088e-06\n"
      ]
     },
     "metadata": {},
     "output_type": "display_data"
    }
   ],
   "source": [
    "fit2<-lm(colGPA~PC+hsGPA+ACT+mothcoll+fathcoll+I(hsGPA^2)) #拟合上述模型 \n",
    "summary(fit2) "
   ]
  },
  {
   "cell_type": "code",
   "execution_count": 43,
   "metadata": {},
   "outputs": [
    {
     "data": {
      "text/html": [
       "<strong>NA:</strong> &lt;NA&gt;"
      ],
      "text/latex": [
       "\\textbf{NA:} <NA>"
      ],
      "text/markdown": [
       "**NA:** &lt;NA&gt;"
      ],
      "text/plain": [
       "<NA> \n",
       "  NA "
      ]
     },
     "metadata": {},
     "output_type": "display_data"
    }
   ],
   "source": [
    "a<-coefficients(fit2)[\"hsGPA\"] #提取hsGPA 的系数。 \n",
    "b<-coefficients(fit2)[\"I(hsGPA^2)\"] #提取hsGPA2的系数。 \n",
    "-a/(2*b) \n",
    "detach(GPA1)"
   ]
  },
  {
   "cell_type": "markdown",
   "metadata": {},
   "source": [
    "## C7.2【多类别虚拟变量；依据两个变量自定义虚拟变量；自定义基组】 \n",
    "\n",
    "本题使用WAGE2.RAW 中的数据。 \n",
    "\n",
    "（1）估计模型 $$log(wage)=\\beta_0+\\beta_1 educ+\\beta_2 exper+\\beta_3 tenure +\\beta_4 married+\\beta_5 black+\\beta_6 south+\\beta_7 urban+\\mu$$并以通常的形式报告结果。保持其他因素不变，黑人和非黑人之间的月薪差异近似为多少？这 个差异是统计显著的吗？ \n",
    "\n",
    "（2）在这个方程中增加变量exper2和tenure2，证明即便在 20%的显著性水平上，它们也不是 联合显著的。 \n",
    "\n",
    "（3）扩展原模型，使受教育回报取决于种族，并检验受教育的回报是否的确取决于种族。 \n",
    "\n",
    "（4）再回到原模型，但现在容许四个不同人群（已婚黑人、已婚非黑人、单身黑人和单身非 黑人）的统计有差别。估计已婚黑人和已婚非黑人之间的工资差异是多少"
   ]
  },
  {
   "cell_type": "code",
   "execution_count": 12,
   "metadata": {},
   "outputs": [
    {
     "name": "stderr",
     "output_type": "stream",
     "text": [
      "The following object is masked from GPA1:\n",
      "\n",
      "    age\n",
      "\n"
     ]
    }
   ],
   "source": [
    "WAGE2 <- read_dta(\"C:/Users/bradl/SRM/data/WAGE2.DTA\")\n",
    "attach(WAGE2)"
   ]
  },
  {
   "cell_type": "code",
   "execution_count": 13,
   "metadata": {},
   "outputs": [
    {
     "data": {
      "text/plain": [
       "\n",
       "Call:\n",
       "lm(formula = log(wage) ~ educ + exper + tenure + married + black + \n",
       "    south + urban)\n",
       "\n",
       "Residuals:\n",
       "     Min       1Q   Median       3Q      Max \n",
       "-1.98069 -0.21996  0.00707  0.24288  1.22822 \n",
       "\n",
       "Coefficients:\n",
       "             Estimate Std. Error t value Pr(>|t|)    \n",
       "(Intercept)  5.395497   0.113225  47.653  < 2e-16 ***\n",
       "educ         0.065431   0.006250  10.468  < 2e-16 ***\n",
       "exper        0.014043   0.003185   4.409 1.16e-05 ***\n",
       "tenure       0.011747   0.002453   4.789 1.95e-06 ***\n",
       "married      0.199417   0.039050   5.107 3.98e-07 ***\n",
       "black       -0.188350   0.037667  -5.000 6.84e-07 ***\n",
       "south       -0.090904   0.026249  -3.463 0.000558 ***\n",
       "urban        0.183912   0.026958   6.822 1.62e-11 ***\n",
       "---\n",
       "Signif. codes:  0 '***' 0.001 '**' 0.01 '*' 0.05 '.' 0.1 ' ' 1\n",
       "\n",
       "Residual standard error: 0.3655 on 927 degrees of freedom\n",
       "Multiple R-squared:  0.2526,\tAdjusted R-squared:  0.2469 \n",
       "F-statistic: 44.75 on 7 and 927 DF,  p-value: < 2.2e-16\n"
      ]
     },
     "metadata": {},
     "output_type": "display_data"
    }
   ],
   "source": [
    "fit1<-lm(log(wage)~educ+exper+tenure+married+black+south+urban) #拟合上述模型 \n",
    "summary(fit1) "
   ]
  },
  {
   "cell_type": "code",
   "execution_count": 14,
   "metadata": {},
   "outputs": [
    {
     "data": {
      "text/html": [
       "<table>\n",
       "<caption>A anova: 2 × 6</caption>\n",
       "<thead>\n",
       "\t<tr><th scope=col>Res.Df</th><th scope=col>RSS</th><th scope=col>Df</th><th scope=col>Sum of Sq</th><th scope=col>F</th><th scope=col>Pr(&gt;F)</th></tr>\n",
       "\t<tr><th scope=col>&lt;dbl&gt;</th><th scope=col>&lt;dbl&gt;</th><th scope=col>&lt;dbl&gt;</th><th scope=col>&lt;dbl&gt;</th><th scope=col>&lt;dbl&gt;</th><th scope=col>&lt;dbl&gt;</th></tr>\n",
       "</thead>\n",
       "<tbody>\n",
       "\t<tr><td>927</td><td>123.8185</td><td>NA</td><td>       NA</td><td>      NA</td><td>       NA</td></tr>\n",
       "\t<tr><td>925</td><td>123.4210</td><td> 2</td><td>0.3975639</td><td>1.489806</td><td>0.2259568</td></tr>\n",
       "</tbody>\n",
       "</table>\n"
      ],
      "text/latex": [
       "A anova: 2 × 6\n",
       "\\begin{tabular}{r|llllll}\n",
       " Res.Df & RSS & Df & Sum of Sq & F & Pr(>F)\\\\\n",
       " <dbl> & <dbl> & <dbl> & <dbl> & <dbl> & <dbl>\\\\\n",
       "\\hline\n",
       "\t 927 & 123.8185 & NA &        NA &       NA &        NA\\\\\n",
       "\t 925 & 123.4210 &  2 & 0.3975639 & 1.489806 & 0.2259568\\\\\n",
       "\\end{tabular}\n"
      ],
      "text/markdown": [
       "\n",
       "A anova: 2 × 6\n",
       "\n",
       "| Res.Df &lt;dbl&gt; | RSS &lt;dbl&gt; | Df &lt;dbl&gt; | Sum of Sq &lt;dbl&gt; | F &lt;dbl&gt; | Pr(&gt;F) &lt;dbl&gt; |\n",
       "|---|---|---|---|---|---|\n",
       "| 927 | 123.8185 | NA |        NA |       NA |        NA |\n",
       "| 925 | 123.4210 |  2 | 0.3975639 | 1.489806 | 0.2259568 |\n",
       "\n"
      ],
      "text/plain": [
       "  Res.Df RSS      Df Sum of Sq F        Pr(>F)   \n",
       "1 927    123.8185 NA        NA       NA        NA\n",
       "2 925    123.4210  2 0.3975639 1.489806 0.2259568"
      ]
     },
     "metadata": {},
     "output_type": "display_data"
    }
   ],
   "source": [
    "fit2<-lm(log(wage)~educ+exper+tenure+married+black+south+urban+I(exper^2)+ I(tenure^2)) \n",
    "library(car) \n",
    "myH0 <- c(\"I(exper^2)\",\" I(tenure^2)\") #用联合检验所涉及的变量组成向量，构成H0。 \n",
    "linearHypothesis(fit2,myH0) "
   ]
  },
  {
   "cell_type": "code",
   "execution_count": 15,
   "metadata": {},
   "outputs": [
    {
     "data": {
      "text/plain": [
       "\n",
       "Call:\n",
       "lm(formula = log(wage) ~ educ + exper + tenure + married + black + \n",
       "    south + urban + black:educ)\n",
       "\n",
       "Residuals:\n",
       "     Min       1Q   Median       3Q      Max \n",
       "-1.97782 -0.21832  0.00475  0.24136  1.23226 \n",
       "\n",
       "Coefficients:\n",
       "             Estimate Std. Error t value Pr(>|t|)    \n",
       "(Intercept)  5.374817   0.114703  46.859  < 2e-16 ***\n",
       "educ         0.067115   0.006428  10.442  < 2e-16 ***\n",
       "exper        0.013826   0.003191   4.333 1.63e-05 ***\n",
       "tenure       0.011787   0.002453   4.805 1.80e-06 ***\n",
       "married      0.198908   0.039047   5.094 4.25e-07 ***\n",
       "black        0.094809   0.255399   0.371 0.710561    \n",
       "south       -0.089450   0.026277  -3.404 0.000692 ***\n",
       "urban        0.183852   0.026955   6.821 1.63e-11 ***\n",
       "educ:black  -0.022624   0.020183  -1.121 0.262603    \n",
       "---\n",
       "Signif. codes:  0 '***' 0.001 '**' 0.01 '*' 0.05 '.' 0.1 ' ' 1\n",
       "\n",
       "Residual standard error: 0.3654 on 926 degrees of freedom\n",
       "Multiple R-squared:  0.2536,\tAdjusted R-squared:  0.2471 \n",
       "F-statistic: 39.32 on 8 and 926 DF,  p-value: < 2.2e-16\n"
      ]
     },
     "metadata": {},
     "output_type": "display_data"
    }
   ],
   "source": [
    "fit3<-lm(log(wage)~educ+exper+tenure+married+black+south+urban+black:educ) #拟合上述模型\n",
    "summary(fit3) "
   ]
  },
  {
   "cell_type": "code",
   "execution_count": 16,
   "metadata": {},
   "outputs": [
    {
     "data": {
      "text/plain": [
       "\n",
       "Call:\n",
       "lm(formula = log(wage) ~ educ + exper + tenure + south + urban + \n",
       "    newgroup, data = WAGE2)\n",
       "\n",
       "Residuals:\n",
       "     Min       1Q   Median       3Q      Max \n",
       "-1.98013 -0.21780  0.01057  0.24219  1.22889 \n",
       "\n",
       "Coefficients:\n",
       "                     Estimate Std. Error t value Pr(>|t|)    \n",
       "(Intercept)          5.403793   0.114122  47.351  < 2e-16 ***\n",
       "educ                 0.065475   0.006253  10.471  < 2e-16 ***\n",
       "exper                0.014146   0.003191   4.433 1.04e-05 ***\n",
       "tenure               0.011663   0.002458   4.745 2.41e-06 ***\n",
       "south               -0.091989   0.026321  -3.495 0.000497 ***\n",
       "urban                0.184350   0.026978   6.833 1.50e-11 ***\n",
       "newgroupmarrblck     0.009448   0.056013   0.169 0.866083    \n",
       "newgroupmarrnonblck  0.188915   0.042878   4.406 1.18e-05 ***\n",
       "newgroupsingblck    -0.240820   0.096023  -2.508 0.012314 *  \n",
       "---\n",
       "Signif. codes:  0 '***' 0.001 '**' 0.01 '*' 0.05 '.' 0.1 ' ' 1\n",
       "\n",
       "Residual standard error: 0.3656 on 926 degrees of freedom\n",
       "Multiple R-squared:  0.2528,\tAdjusted R-squared:  0.2464 \n",
       "F-statistic: 39.17 on 8 and 926 DF,  p-value: < 2.2e-16\n"
      ]
     },
     "metadata": {},
     "output_type": "display_data"
    }
   ],
   "source": [
    "WAGE2<-within(WAGE2,{       \n",
    "    newgroup<-NA       \n",
    "    newgroup[married==0 & black==0] <- \"singnonblck\"       \n",
    "    newgroup[married==1 & black==0] <- \"marrnonblck\"       \n",
    "    newgroup[married==0 & black==1] <- \"singblck\"       \n",
    "    newgroup[married==1 & black==1] <- \"marrblck\" }) \n",
    "WAGE2$newgroup<-as.factor(WAGE2$newgroup) #将newgroup 变成因子型变量，以便后续的命 令将其认定为类别变量。 \n",
    "WAGE2$newgroup<-relevel(WAGE2$newgroup, \"singnonblck\") #用relevel()函数自定义基组为 \"singnonblck\"（单身非黑人）。 \n",
    "fit4<-lm(log(wage)~educ+exper+tenure +south+urban+ newgroup, data = WAGE2)   #拟合上述模 型，注意此时方程中不能再包含 married 和black 这两个单独的变量，否则会造成共线性问 题。 \n",
    "summary(fit4)"
   ]
  },
  {
   "cell_type": "markdown",
   "metadata": {},
   "source": [
    "## C7.3【因变量为 log(y)时对虚拟变量系数的解释】 \n",
    "\n",
    "一个容许棒球大联盟运动员的薪水因球员位置不同而不同的模型是 $$log(salary)=\\beta_0+\\beta_1 years+\\beta_2 gamesyr +\\beta_3 bavg+\\beta_4 hrunsyr+\\beta_5 rbsiyr +\\beta_6 runsyr+ \\beta_7 fldperc+\\beta_8 allstar+\\beta_9 frstbase+\\beta_10 scndbase+\\beta_11 thrdbase +\\beta_12 shrtstop+\\beta_13 catcher+\\mu$$ 其中外场手为基组。\n",
    "\n",
    " （1）表述如下虚拟假设：在控制了其他 因素后，接球手和外场手的收入大致相同。利用 MLB1.RAW 中的数据检验这个假设，并评论所估计薪水差异的大小。 \n",
    " \n",
    " （2）表述并检验如下虚拟假设：一旦控制了其他因素，各个位置的平均薪酬没有差别。 \n",
    " \n",
    " （3）第（1）和第（2）部分的结论一致吗？如果不一致，解释为什么。 "
   ]
  },
  {
   "cell_type": "code",
   "execution_count": 18,
   "metadata": {},
   "outputs": [
    {
     "name": "stderr",
     "output_type": "stream",
     "text": [
      "The following object is masked from WAGE2:\n",
      "\n",
      "    black\n",
      "\n"
     ]
    }
   ],
   "source": [
    "MLB1 <- read_dta(\"C:/Users/bradl/SRM/data/MLB1.DTA\")\n",
    "attach(MLB1) "
   ]
  },
  {
   "cell_type": "code",
   "execution_count": 19,
   "metadata": {},
   "outputs": [
    {
     "data": {
      "text/plain": [
       "\n",
       "Call:\n",
       "lm(formula = log(salary) ~ years + gamesyr + bavg + hrunsyr + \n",
       "    rbisyr + runsyr + fldperc + allstar + frstbase + scndbase + \n",
       "    thrdbase + shrtstop + catcher)\n",
       "\n",
       "Residuals:\n",
       "     Min       1Q   Median       3Q      Max \n",
       "-2.42088 -0.42665 -0.03092  0.47925  2.74975 \n",
       "\n",
       "Coefficients:\n",
       "              Estimate Std. Error t value Pr(>|t|)    \n",
       "(Intercept) 11.1295537  2.3044544   4.830 2.07e-06 ***\n",
       "years        0.0584178  0.0122732   4.760 2.87e-06 ***\n",
       "gamesyr      0.0097670  0.0033776   2.892  0.00408 ** \n",
       "bavg         0.0004814  0.0011411   0.422  0.67340    \n",
       "hrunsyr      0.0191459  0.0159638   1.199  0.23124    \n",
       "rbisyr       0.0017875  0.0074755   0.239  0.81116    \n",
       "runsyr       0.0118707  0.0045264   2.623  0.00912 ** \n",
       "fldperc      0.0002833  0.0023078   0.123  0.90239    \n",
       "allstar      0.0063351  0.0028828   2.198  0.02866 *  \n",
       "frstbase    -0.1328009  0.1309243  -1.014  0.31115    \n",
       "scndbase    -0.1611010  0.1414296  -1.139  0.25547    \n",
       "thrdbase     0.0145271  0.1430352   0.102  0.91916    \n",
       "shrtstop    -0.0605672  0.1302031  -0.465  0.64210    \n",
       "catcher      0.2535592  0.1313128   1.931  0.05432 .  \n",
       "---\n",
       "Signif. codes:  0 '***' 0.001 '**' 0.01 '*' 0.05 '.' 0.1 ' ' 1\n",
       "\n",
       "Residual standard error: 0.7092 on 339 degrees of freedom\n",
       "Multiple R-squared:  0.6535,\tAdjusted R-squared:  0.6403 \n",
       "F-statistic: 49.19 on 13 and 339 DF,  p-value: < 2.2e-16\n"
      ]
     },
     "metadata": {},
     "output_type": "display_data"
    }
   ],
   "source": [
    "fit1<-lm(log(salary)~years+gamesyr+bavg+hrunsyr+rbisyr+runsyr+fldperc+allstar+frstbase+scndbase +thrdbase+shrtstop+catcher) #拟合上述模型 \n",
    "summary(fit1)"
   ]
  },
  {
   "cell_type": "code",
   "execution_count": 20,
   "metadata": {},
   "outputs": [
    {
     "data": {
      "text/html": [
       "<table>\n",
       "<caption>A anova: 2 × 6</caption>\n",
       "<thead>\n",
       "\t<tr><th scope=col>Res.Df</th><th scope=col>RSS</th><th scope=col>Df</th><th scope=col>Sum of Sq</th><th scope=col>F</th><th scope=col>Pr(&gt;F)</th></tr>\n",
       "\t<tr><th scope=col>&lt;dbl&gt;</th><th scope=col>&lt;dbl&gt;</th><th scope=col>&lt;dbl&gt;</th><th scope=col>&lt;dbl&gt;</th><th scope=col>&lt;dbl&gt;</th><th scope=col>&lt;dbl&gt;</th></tr>\n",
       "</thead>\n",
       "<tbody>\n",
       "\t<tr><td>344</td><td>174.9899</td><td>NA</td><td>      NA</td><td>      NA</td><td>       NA</td></tr>\n",
       "\t<tr><td>339</td><td>170.5196</td><td> 5</td><td>4.470311</td><td>1.777433</td><td>0.1168301</td></tr>\n",
       "</tbody>\n",
       "</table>\n"
      ],
      "text/latex": [
       "A anova: 2 × 6\n",
       "\\begin{tabular}{r|llllll}\n",
       " Res.Df & RSS & Df & Sum of Sq & F & Pr(>F)\\\\\n",
       " <dbl> & <dbl> & <dbl> & <dbl> & <dbl> & <dbl>\\\\\n",
       "\\hline\n",
       "\t 344 & 174.9899 & NA &       NA &       NA &        NA\\\\\n",
       "\t 339 & 170.5196 &  5 & 4.470311 & 1.777433 & 0.1168301\\\\\n",
       "\\end{tabular}\n"
      ],
      "text/markdown": [
       "\n",
       "A anova: 2 × 6\n",
       "\n",
       "| Res.Df &lt;dbl&gt; | RSS &lt;dbl&gt; | Df &lt;dbl&gt; | Sum of Sq &lt;dbl&gt; | F &lt;dbl&gt; | Pr(&gt;F) &lt;dbl&gt; |\n",
       "|---|---|---|---|---|---|\n",
       "| 344 | 174.9899 | NA |       NA |       NA |        NA |\n",
       "| 339 | 170.5196 |  5 | 4.470311 | 1.777433 | 0.1168301 |\n",
       "\n"
      ],
      "text/plain": [
       "  Res.Df RSS      Df Sum of Sq F        Pr(>F)   \n",
       "1 344    174.9899 NA       NA        NA        NA\n",
       "2 339    170.5196  5 4.470311  1.777433 0.1168301"
      ]
     },
     "metadata": {},
     "output_type": "display_data"
    }
   ],
   "source": [
    "myH0<-c(\"frstbase\",\"scndbase\",\"thrdbase\",\"shrtstop\",\"catcher\")  #用联合检验所涉及的变量组成向量，构成 H0。 \n",
    "linearHypothesis(fit1,myH0) "
   ]
  },
  {
   "cell_type": "markdown",
   "metadata": {},
   "source": [
    "## C7.4【多类别虚拟变量；依据两个变量自定义虚拟变量；自定义基组】 \n",
    "\n",
    "本题使用 GPA2.RAW 中的数据。 \n",
    "（1）考虑方程 $$colgpa=\\beta_0+\\beta_1 hsize+\\beta_2 hsize^2+ \\beta_3 hsperc+ \\beta_4 sat+\\beta_5 female+\\beta_6 athlete+u $$其中， colgpa 表示累积的大学GPA，hsize 表示高中毕业年级以百人计的规模，hsperc 表示在 毕业年级中学术排名的百分位，sat 表示SAT 综合分数，female 是一个二值变量，而athlete 也 是一个运动员取值1 的二值变量。你对这个方程中的系数有何预期？哪些你没有把握？ \n",
    "\n",
    "（2）估计第（1）部分中的方程，并以通常的形式报告结果。估计运动员和非运动员之间的 GPA 的差异是多少？它是统计显著的吗？ \n",
    "\n",
    "（3）从模型中去掉sat 并重新估计这个方程。现在，作为运动员的估计影响是多少？讨论为 什么这个估计值不同于第（2）部分的结论。 \n",
    "\n",
    "（4）在第（1）部分的模型中，容许作为运动员的影响会因性别不同而不同。检验如下虚拟假 设：在其他条件不变的情况下，女生是否是运动员没有差别。 \n",
    "\n",
    "（5）sat 对colgpa 的影响会因性别不同而不同吗？讲出你的根据。 "
   ]
  },
  {
   "cell_type": "code",
   "execution_count": 21,
   "metadata": {},
   "outputs": [
    {
     "name": "stderr",
     "output_type": "stream",
     "text": [
      "The following object is masked from MLB1:\n",
      "\n",
      "    black\n",
      "\n",
      "The following object is masked from WAGE2:\n",
      "\n",
      "    black\n",
      "\n"
     ]
    }
   ],
   "source": [
    "attach(gpa2) "
   ]
  },
  {
   "cell_type": "code",
   "execution_count": 22,
   "metadata": {},
   "outputs": [
    {
     "data": {
      "text/plain": [
       "\n",
       "Call:\n",
       "lm(formula = colgpa ~ hsize + I(hsize^2) + hsperc + sat + female + \n",
       "    athlete)\n",
       "\n",
       "Residuals:\n",
       "     Min       1Q   Median       3Q      Max \n",
       "-2.69216 -0.34954  0.03416  0.38806  1.90159 \n",
       "\n",
       "Coefficients:\n",
       "              Estimate Std. Error t value Pr(>|t|)    \n",
       "(Intercept)  1.241e+00  7.949e-02  15.616  < 2e-16 ***\n",
       "hsize       -5.685e-02  1.635e-02  -3.477 0.000512 ***\n",
       "I(hsize^2)   4.675e-03  2.249e-03   2.079 0.037722 *  \n",
       "hsperc      -1.321e-02  5.728e-04 -23.068  < 2e-16 ***\n",
       "sat          1.646e-03  6.682e-05  24.640  < 2e-16 ***\n",
       "female       1.549e-01  1.800e-02   8.602  < 2e-16 ***\n",
       "athlete      1.693e-01  4.235e-02   3.998  6.5e-05 ***\n",
       "---\n",
       "Signif. codes:  0 '***' 0.001 '**' 0.01 '*' 0.05 '.' 0.1 ' ' 1\n",
       "\n",
       "Residual standard error: 0.5544 on 4130 degrees of freedom\n",
       "Multiple R-squared:  0.2925,\tAdjusted R-squared:  0.2915 \n",
       "F-statistic: 284.6 on 6 and 4130 DF,  p-value: < 2.2e-16\n"
      ]
     },
     "metadata": {},
     "output_type": "display_data"
    },
    {
     "data": {
      "text/html": [
       "<dl class=dl-horizontal>\n",
       "\t<dt>(Intercept)</dt>\n",
       "\t\t<dd>1.2414</dd>\n",
       "\t<dt>hsize</dt>\n",
       "\t\t<dd>-0.0569</dd>\n",
       "\t<dt>I(hsize^2)</dt>\n",
       "\t\t<dd>0.0047</dd>\n",
       "\t<dt>hsperc</dt>\n",
       "\t\t<dd>-0.0132</dd>\n",
       "\t<dt>sat</dt>\n",
       "\t\t<dd>0.0016</dd>\n",
       "\t<dt>female</dt>\n",
       "\t\t<dd>0.1549</dd>\n",
       "\t<dt>athlete</dt>\n",
       "\t\t<dd>0.1693</dd>\n",
       "</dl>\n"
      ],
      "text/latex": [
       "\\begin{description*}\n",
       "\\item[(Intercept)] 1.2414\n",
       "\\item[hsize] -0.0569\n",
       "\\item[I(hsize\\textbackslash{}textasciicircum\\{\\}2)] 0.0047\n",
       "\\item[hsperc] -0.0132\n",
       "\\item[sat] 0.0016\n",
       "\\item[female] 0.1549\n",
       "\\item[athlete] 0.1693\n",
       "\\end{description*}\n"
      ],
      "text/markdown": [
       "(Intercept)\n",
       ":   1.2414hsize\n",
       ":   -0.0569I(hsize^2)\n",
       ":   0.0047hsperc\n",
       ":   -0.0132sat\n",
       ":   0.0016female\n",
       ":   0.1549athlete\n",
       ":   0.1693\n",
       "\n"
      ],
      "text/plain": [
       "(Intercept)       hsize  I(hsize^2)      hsperc         sat      female \n",
       "     1.2414     -0.0569      0.0047     -0.0132      0.0016      0.1549 \n",
       "    athlete \n",
       "     0.1693 "
      ]
     },
     "metadata": {},
     "output_type": "display_data"
    }
   ],
   "source": [
    "fit1<-lm(colgpa~hsize+I(hsize^2)+hsperc+sat+female+athlete) #拟合上述模型 \n",
    "summary(fit1) \n",
    "round(fit1$coefficients,4) "
   ]
  },
  {
   "cell_type": "code",
   "execution_count": 23,
   "metadata": {},
   "outputs": [
    {
     "data": {
      "text/plain": [
       "\n",
       "Call:\n",
       "lm(formula = colgpa ~ hsize + I(hsize^2) + hsperc + female + \n",
       "    athlete)\n",
       "\n",
       "Residuals:\n",
       "    Min      1Q  Median      3Q     Max \n",
       "-2.5164 -0.3819  0.0205  0.4204  1.8809 \n",
       "\n",
       "Coefficients:\n",
       "              Estimate Std. Error t value Pr(>|t|)    \n",
       "(Intercept)  3.0476981  0.0329148  92.594  < 2e-16 ***\n",
       "hsize       -0.0534038  0.0175092  -3.050  0.00230 ** \n",
       "I(hsize^2)   0.0053228  0.0024086   2.210  0.02716 *  \n",
       "hsperc      -0.0171365  0.0005892 -29.086  < 2e-16 ***\n",
       "female       0.0581231  0.0188162   3.089  0.00202 ** \n",
       "athlete      0.0054487  0.0447871   0.122  0.90318    \n",
       "---\n",
       "Signif. codes:  0 '***' 0.001 '**' 0.01 '*' 0.05 '.' 0.1 ' ' 1\n",
       "\n",
       "Residual standard error: 0.5937 on 4131 degrees of freedom\n",
       "Multiple R-squared:  0.1885,\tAdjusted R-squared:  0.1875 \n",
       "F-statistic: 191.9 on 5 and 4131 DF,  p-value: < 2.2e-16\n"
      ]
     },
     "metadata": {},
     "output_type": "display_data"
    }
   ],
   "source": [
    "fit2<-lm(colgpa~hsize+I(hsize^2)+hsperc+female+athlete) #拟合上述模型 \n",
    "summary(fit2) "
   ]
  },
  {
   "cell_type": "code",
   "execution_count": 24,
   "metadata": {},
   "outputs": [
    {
     "data": {
      "text/plain": [
       "\n",
       "Call:\n",
       "lm(formula = colgpa ~ hsize + I(hsize^2) + hsperc + sat + newgroup, \n",
       "    data = gpa2)\n",
       "\n",
       "Residuals:\n",
       "     Min       1Q   Median       3Q      Max \n",
       "-2.69202 -0.34944  0.03446  0.38799  1.90139 \n",
       "\n",
       "Coefficients:\n",
       "                     Estimate Std. Error t value Pr(>|t|)    \n",
       "(Intercept)         1.396e+00  7.556e-02  18.478  < 2e-16 ***\n",
       "hsize              -5.680e-02  1.637e-02  -3.470 0.000525 ***\n",
       "I(hsize^2)          4.670e-03  2.251e-03   2.075 0.038060 *  \n",
       "hsperc             -1.321e-02  5.730e-04 -23.056  < 2e-16 ***\n",
       "sat                 1.646e-03  6.687e-05  24.618  < 2e-16 ***\n",
       "newgroupfemath      1.751e-01  8.403e-02   2.084 0.037221 *  \n",
       "newgroupmaleath     1.280e-02  4.874e-02   0.263 0.792802    \n",
       "newgroupmalenonath -1.546e-01  1.831e-02  -8.443  < 2e-16 ***\n",
       "---\n",
       "Signif. codes:  0 '***' 0.001 '**' 0.01 '*' 0.05 '.' 0.1 ' ' 1\n",
       "\n",
       "Residual standard error: 0.5545 on 4129 degrees of freedom\n",
       "Multiple R-squared:  0.2925,\tAdjusted R-squared:  0.2913 \n",
       "F-statistic: 243.9 on 7 and 4129 DF,  p-value: < 2.2e-16\n"
      ]
     },
     "metadata": {},
     "output_type": "display_data"
    }
   ],
   "source": [
    "gpa2<-within(gpa2,{       \n",
    "    newgroup<-NA       \n",
    "    newgroup[female==0 & athlete==0] <- \"malenonath\"       \n",
    "    newgroup[female==1 & athlete ==0] <- \"femnonath\" \n",
    "     newgroup[female ==0 & athlete ==1] <- \"maleath\"       \n",
    "    newgroup[female ==1 & athlete ==1] <- \"femath\" }) \n",
    "gpa2$newgroup<-as.factor(gpa2$newgroup) #将newgroup 变成因子型变量，以便后续的命令将 其认定为类别变量。 \n",
    "gpa2$newgroup<-relevel(gpa2$newgroup, \"femnonath\") #用relevel()函数自定义基组为\" femnonath\"（女性非运动员）。 \n",
    "fit3<-lm(colgpa~hsize+I(hsize^2)+hsperc+sat+newgroup, data=gpa2)   #拟合上述模型，注意此时方 程中不能再包含female 和athlete 这两个单独的变量，否则会造成共线性问题。 \n",
    "summary(fit3) "
   ]
  },
  {
   "cell_type": "code",
   "execution_count": 41,
   "metadata": {},
   "outputs": [
    {
     "data": {
      "text/plain": [
       "\n",
       "Call:\n",
       "lm(formula = colgpa ~ hsize + I(hsize^2) + hsperc + sat + female + \n",
       "    athlete + sat:female)\n",
       "\n",
       "Residuals:\n",
       "     Min       1Q   Median       3Q      Max \n",
       "-2.69877 -0.35033  0.03414  0.38919  1.89876 \n",
       "\n",
       "Coefficients:\n",
       "              Estimate Std. Error t value Pr(>|t|)    \n",
       "(Intercept)  1.264e+00  9.750e-02  12.962  < 2e-16 ***\n",
       "hsize       -5.691e-02  1.635e-02  -3.480 0.000506 ***\n",
       "I(hsize^2)   4.686e-03  2.250e-03   2.083 0.037307 *  \n",
       "hsperc      -1.323e-02  5.737e-04 -23.053  < 2e-16 ***\n",
       "sat          1.625e-03  8.516e-05  19.089  < 2e-16 ***\n",
       "female       1.023e-01  1.338e-01   0.765 0.444547    \n",
       "athlete      1.678e-01  4.253e-02   3.944 8.14e-05 ***\n",
       "sat:female   5.121e-05  1.291e-04   0.397 0.691730    \n",
       "---\n",
       "Signif. codes:  0 '***' 0.001 '**' 0.01 '*' 0.05 '.' 0.1 ' ' 1\n",
       "\n",
       "Residual standard error: 0.5545 on 4129 degrees of freedom\n",
       "Multiple R-squared:  0.2925,\tAdjusted R-squared:  0.2913 \n",
       "F-statistic: 243.9 on 7 and 4129 DF,  p-value: < 2.2e-16\n"
      ]
     },
     "metadata": {},
     "output_type": "display_data"
    }
   ],
   "source": [
    "fit4<-lm(colgpa~hsize+I(hsize^2)+hsperc+sat+female+athlete+sat:female)  #在 fit1 的模型基础上加 入sat 和female 的交互项 \n",
    "summary(fit4) \n",
    "detach(gpa2) "
   ]
  },
  {
   "cell_type": "markdown",
   "metadata": {},
   "source": [
    "## C7.5【自定义虚拟变量】 \n",
    "\n",
    "在习题4.2 中，我们在一个解释CEO 薪水的模型中增加了变量企业股票的回报ros，结果表明 ros 是不显著的。现在，定义一个虚拟变量rosneg，它在ros<0 时等于1，而在ros≥0 时等于 0。利用CEOSAL1.RAW 来估计模型 \n",
    "$$log(salary)=\\beta_0+\\beta_1 log(sales)+\\beta_2 roe+\\beta_3 rosneg+\\mu $$\n",
    "讨论$\\hat{\\beta_3}$的解释及其显著性。"
   ]
  },
  {
   "cell_type": "code",
   "execution_count": 42,
   "metadata": {},
   "outputs": [
    {
     "name": "stderr",
     "output_type": "stream",
     "text": [
      "The following objects are masked from CEOSAL1 (pos = 5):\n",
      "\n",
      "    consprod, finance, indus, lsalary, lsales, pcroe, pcsalary, roe,\n",
      "    ros, salary, sales, utility\n",
      "\n",
      "The following objects are masked from MLB1:\n",
      "\n",
      "    lsalary, salary\n",
      "\n"
     ]
    }
   ],
   "source": [
    "CEOSAL1 <- read_dta(\"C:/Users/bradl/SRM/data/CEOSAL1.DTA\")\n",
    "attach(CEOSAL1) "
   ]
  },
  {
   "cell_type": "code",
   "execution_count": 28,
   "metadata": {},
   "outputs": [],
   "source": [
    "CEOSAL1<-within(CEOSAL1,{       \n",
    "    rosneg<-NA       \n",
    "    rosneg [ros<0] <- 1       \n",
    "    rosneg [ros>=0] <- 0 })   #在CEOSAL1 中创建新变量rosneg"
   ]
  },
  {
   "cell_type": "code",
   "execution_count": 29,
   "metadata": {},
   "outputs": [
    {
     "data": {
      "text/plain": [
       "\n",
       "Call:\n",
       "lm(formula = log(salary) ~ log(sales) + roe + CEOSAL1$rosneg)\n",
       "\n",
       "Residuals:\n",
       "     Min       1Q   Median       3Q      Max \n",
       "-0.96372 -0.27290 -0.04733  0.21400  2.76903 \n",
       "\n",
       "Coefficients:\n",
       "                Estimate Std. Error t value Pr(>|t|)    \n",
       "(Intercept)     4.297603   0.293253  14.655  < 2e-16 ***\n",
       "log(sales)      0.288387   0.033617   8.579 2.37e-15 ***\n",
       "roe             0.016657   0.003968   4.198 4.02e-05 ***\n",
       "CEOSAL1$rosneg -0.225675   0.109338  -2.064   0.0403 *  \n",
       "---\n",
       "Signif. codes:  0 '***' 0.001 '**' 0.01 '*' 0.05 '.' 0.1 ' ' 1\n",
       "\n",
       "Residual standard error: 0.4785 on 205 degrees of freedom\n",
       "Multiple R-squared:  0.2966,\tAdjusted R-squared:  0.2863 \n",
       "F-statistic: 28.81 on 3 and 205 DF,  p-value: 1.375e-15\n"
      ]
     },
     "metadata": {},
     "output_type": "display_data"
    }
   ],
   "source": [
    "fit<-lm(log(salary)~log(sales)+roe+CEOSAL1$rosneg) #拟合上述模型 \n",
    "summary(fit) \n",
    "detach(CEOSAL1) "
   ]
  },
  {
   "cell_type": "markdown",
   "metadata": {},
   "source": [
    "## C7.6【不同组的回归系数的差异（R2型检验）14；子样本回归】 \n",
    "\n",
    "本题利用SLEEP75.RAW 中的数据。我们要分析的方程为： $$ sleep=\\beta_0+\\beta_1 totwrk+\\beta_2 educ+\\beta_3 age +\\beta_4 age^2+\\beta_5 yngkid+\\mu$$\n",
    "\n",
    "（1）分别针对男性和女性单独估计这个方程，并按照通常形式报告结论。这两个估计方程有 什么明显差异吗？ \n",
    "\n",
    "（2）对男性和女性睡眠方程中的参数是否相等计算邹至庄检验。使用增加male 和交互项 male∙totwrk，⋯，male∙yngkid的检验形式，并使用全部观测。该检验相关的df 等于多少？ 在5%的显著性水平上，你应该拒绝这个虚拟假设吗？ \n",
    "\n",
    "（3）现在，容许男性与女性存在不同截距，判定所有涉及 male 的交互项是不是联合显著的？ \n",
    "\n",
    "（4）给定第（2）部分和第（3）部分中的结论，你最后将使用什么样的模型？ "
   ]
  },
  {
   "cell_type": "code",
   "execution_count": 31,
   "metadata": {},
   "outputs": [
    {
     "name": "stderr",
     "output_type": "stream",
     "text": [
      "The following object is masked from gpa2:\n",
      "\n",
      "    black\n",
      "\n",
      "The following object is masked from MLB1:\n",
      "\n",
      "    black\n",
      "\n",
      "The following objects are masked from WAGE2:\n",
      "\n",
      "    age, black, educ, exper, south\n",
      "\n",
      "The following objects are masked from GPA1:\n",
      "\n",
      "    age, male\n",
      "\n",
      "The following object is masked from package:datasets:\n",
      "\n",
      "    sleep\n",
      "\n"
     ]
    }
   ],
   "source": [
    "SLEEP75 <- read_dta(\"C:/Users/bradl/SRM/data/SLEEP75.DTA\")\n",
    "attach(SLEEP75) "
   ]
  },
  {
   "cell_type": "code",
   "execution_count": 32,
   "metadata": {},
   "outputs": [
    {
     "data": {
      "text/plain": [
       "\n",
       "Call:\n",
       "lm(formula = sleep ~ totwrk + educ + age + I(age^2) + yngkid, \n",
       "    subset = (male == 1))\n",
       "\n",
       "Residuals:\n",
       "     Min       1Q   Median       3Q      Max \n",
       "-1793.96  -216.05     7.93   244.57  1141.21 \n",
       "\n",
       "Coefficients:\n",
       "              Estimate Std. Error t value Pr(>|t|)    \n",
       "(Intercept) 3648.20826  310.03933  11.767  < 2e-16 ***\n",
       "totwrk        -0.18212    0.02449  -7.438 6.45e-13 ***\n",
       "educ         -13.05238    7.41422  -1.760   0.0791 .  \n",
       "age            7.15659   14.32037   0.500   0.6175    \n",
       "I(age^2)      -0.04477    0.16841  -0.266   0.7905    \n",
       "yngkid        60.38021   59.02278   1.023   0.3069    \n",
       "---\n",
       "Signif. codes:  0 '***' 0.001 '**' 0.01 '*' 0.05 '.' 0.1 ' ' 1\n",
       "\n",
       "Residual standard error: 402.3 on 394 degrees of freedom\n",
       "Multiple R-squared:  0.1562,\tAdjusted R-squared:  0.1455 \n",
       "F-statistic: 14.59 on 5 and 394 DF,  p-value: 3.952e-13\n"
      ]
     },
     "metadata": {},
     "output_type": "display_data"
    }
   ],
   "source": [
    "fit1<-lm(sleep~totwrk+educ+age+I(age^2)+yngkid, subset=(male==1)) #对男性样本拟合上述模型 \n",
    "summary(fit1) "
   ]
  },
  {
   "cell_type": "code",
   "execution_count": 33,
   "metadata": {},
   "outputs": [
    {
     "data": {
      "text/plain": [
       "\n",
       "Call:\n",
       "lm(formula = sleep ~ totwrk + educ + age + I(age^2) + yngkid, \n",
       "    subset = (male == 0))\n",
       "\n",
       "Residuals:\n",
       "     Min       1Q   Median       3Q      Max \n",
       "-2485.02  -244.18     7.24   270.64  1376.91 \n",
       "\n",
       "Coefficients:\n",
       "              Estimate Std. Error t value Pr(>|t|)    \n",
       "(Intercept) 4238.72933  384.89226  11.013  < 2e-16 ***\n",
       "totwrk        -0.13995    0.02766  -5.060 7.33e-07 ***\n",
       "educ         -10.20514    9.58885  -1.064    0.288    \n",
       "age          -30.35657   18.53091  -1.638    0.102    \n",
       "I(age^2)       0.36794    0.22334   1.647    0.101    \n",
       "yngkid      -118.28256   93.18757  -1.269    0.205    \n",
       "---\n",
       "Signif. codes:  0 '***' 0.001 '**' 0.01 '*' 0.05 '.' 0.1 ' ' 1\n",
       "\n",
       "Residual standard error: 437 on 300 degrees of freedom\n",
       "Multiple R-squared:  0.09768,\tAdjusted R-squared:  0.08264 \n",
       "F-statistic: 6.495 on 5 and 300 DF,  p-value: 9.42e-06\n"
      ]
     },
     "metadata": {},
     "output_type": "display_data"
    }
   ],
   "source": [
    "fit2<-lm(sleep~totwrk+educ+age+I(age^2)+yngkid, subset=(male==0)) #对女性样本拟合上述模型 \n",
    "summary(fit2) "
   ]
  },
  {
   "cell_type": "code",
   "execution_count": 34,
   "metadata": {},
   "outputs": [
    {
     "data": {
      "text/plain": [
       "\n",
       "Call:\n",
       "lm(formula = sleep ~ male + totwrk + male:totwrk + educ + male:educ + \n",
       "    age + male:age + I(age^2) + male:I(age^2) + yngkid + male:yngkid)\n",
       "\n",
       "Residuals:\n",
       "     Min       1Q   Median       3Q      Max \n",
       "-2485.02  -226.74     7.93   257.77  1376.91 \n",
       "\n",
       "Coefficients:\n",
       "                Estimate Std. Error t value Pr(>|t|)    \n",
       "(Intercept)   4238.72933  367.85193  11.523  < 2e-16 ***\n",
       "male          -590.52107  488.79159  -1.208   0.2274    \n",
       "totwrk          -0.13995    0.02643  -5.294 1.61e-07 ***\n",
       "educ           -10.20514    9.16432  -1.114   0.2658    \n",
       "age            -30.35657   17.71049  -1.714   0.0870 .  \n",
       "I(age^2)         0.36794    0.21345   1.724   0.0852 .  \n",
       "yngkid        -118.28256   89.06187  -1.328   0.1846    \n",
       "male:totwrk     -0.04217    0.03667  -1.150   0.2506    \n",
       "male:educ       -2.84724   11.96795  -0.238   0.8120    \n",
       "male:age        37.51316   23.12332   1.622   0.1052    \n",
       "male:I(age^2)   -0.41271    0.27591  -1.496   0.1352    \n",
       "male:yngkid    178.66277  108.10510   1.653   0.0988 .  \n",
       "---\n",
       "Signif. codes:  0 '***' 0.001 '**' 0.01 '*' 0.05 '.' 0.1 ' ' 1\n",
       "\n",
       "Residual standard error: 417.6 on 694 degrees of freedom\n",
       "Multiple R-squared:  0.1306,\tAdjusted R-squared:  0.1168 \n",
       "F-statistic: 9.479 on 11 and 694 DF,  p-value: 4.947e-16\n"
      ]
     },
     "metadata": {},
     "output_type": "display_data"
    },
    {
     "data": {
      "text/html": [
       "<table>\n",
       "<caption>A anova: 2 × 6</caption>\n",
       "<thead>\n",
       "\t<tr><th scope=col>Res.Df</th><th scope=col>RSS</th><th scope=col>Df</th><th scope=col>Sum of Sq</th><th scope=col>F</th><th scope=col>Pr(&gt;F)</th></tr>\n",
       "\t<tr><th scope=col>&lt;dbl&gt;</th><th scope=col>&lt;dbl&gt;</th><th scope=col>&lt;dbl&gt;</th><th scope=col>&lt;dbl&gt;</th><th scope=col>&lt;dbl&gt;</th><th scope=col>&lt;dbl&gt;</th></tr>\n",
       "</thead>\n",
       "<tbody>\n",
       "\t<tr><td>700</td><td>123267451</td><td>NA</td><td>     NA</td><td>      NA</td><td>        NA</td></tr>\n",
       "\t<tr><td>694</td><td>121052555</td><td> 6</td><td>2214896</td><td>2.116351</td><td>0.04949225</td></tr>\n",
       "</tbody>\n",
       "</table>\n"
      ],
      "text/latex": [
       "A anova: 2 × 6\n",
       "\\begin{tabular}{r|llllll}\n",
       " Res.Df & RSS & Df & Sum of Sq & F & Pr(>F)\\\\\n",
       " <dbl> & <dbl> & <dbl> & <dbl> & <dbl> & <dbl>\\\\\n",
       "\\hline\n",
       "\t 700 & 123267451 & NA &      NA &       NA &         NA\\\\\n",
       "\t 694 & 121052555 &  6 & 2214896 & 2.116351 & 0.04949225\\\\\n",
       "\\end{tabular}\n"
      ],
      "text/markdown": [
       "\n",
       "A anova: 2 × 6\n",
       "\n",
       "| Res.Df &lt;dbl&gt; | RSS &lt;dbl&gt; | Df &lt;dbl&gt; | Sum of Sq &lt;dbl&gt; | F &lt;dbl&gt; | Pr(&gt;F) &lt;dbl&gt; |\n",
       "|---|---|---|---|---|---|\n",
       "| 700 | 123267451 | NA |      NA |       NA |         NA |\n",
       "| 694 | 121052555 |  6 | 2214896 | 2.116351 | 0.04949225 |\n",
       "\n"
      ],
      "text/plain": [
       "  Res.Df RSS       Df Sum of Sq F        Pr(>F)    \n",
       "1 700    123267451 NA      NA         NA         NA\n",
       "2 694    121052555  6 2214896   2.116351 0.04949225"
      ]
     },
     "metadata": {},
     "output_type": "display_data"
    }
   ],
   "source": [
    "fit3<-lm(sleep~male+totwrk+male:totwrk+educ+male:educ+age+male:age+I(age^2)+male: I(age^2)+yngkid+male:yngkid) #在基础模型上增加 male 项以及 male 与其他所有变量的交互项， 并对全体样本进行回归 \n",
    "summary(fit3) #查看拟合结果 \n",
    "library(car) #载入car 包（首次使用用install.packages(\"car\")安装。） \n",
    "myH0 <- c(\"male\",\"male:totwrk\",\"male:educ\",\"male:age\",\"male:I(age^2)\",\" male:yngkid\") #用联合 检验所涉及的变量组成向量，构成 H0。 \n",
    "linearHypothesis(fit3,myH0) "
   ]
  },
  {
   "cell_type": "code",
   "execution_count": 35,
   "metadata": {},
   "outputs": [
    {
     "data": {
      "text/html": [
       "<table>\n",
       "<caption>A anova: 2 × 6</caption>\n",
       "<thead>\n",
       "\t<tr><th scope=col>Res.Df</th><th scope=col>RSS</th><th scope=col>Df</th><th scope=col>Sum of Sq</th><th scope=col>F</th><th scope=col>Pr(&gt;F)</th></tr>\n",
       "\t<tr><th scope=col>&lt;dbl&gt;</th><th scope=col>&lt;dbl&gt;</th><th scope=col>&lt;dbl&gt;</th><th scope=col>&lt;dbl&gt;</th><th scope=col>&lt;dbl&gt;</th><th scope=col>&lt;dbl&gt;</th></tr>\n",
       "</thead>\n",
       "<tbody>\n",
       "\t<tr><td>699</td><td>122147777</td><td>NA</td><td>     NA</td><td>      NA</td><td>       NA</td></tr>\n",
       "\t<tr><td>694</td><td>121052555</td><td> 5</td><td>1095222</td><td>1.255792</td><td>0.2813519</td></tr>\n",
       "</tbody>\n",
       "</table>\n"
      ],
      "text/latex": [
       "A anova: 2 × 6\n",
       "\\begin{tabular}{r|llllll}\n",
       " Res.Df & RSS & Df & Sum of Sq & F & Pr(>F)\\\\\n",
       " <dbl> & <dbl> & <dbl> & <dbl> & <dbl> & <dbl>\\\\\n",
       "\\hline\n",
       "\t 699 & 122147777 & NA &      NA &       NA &        NA\\\\\n",
       "\t 694 & 121052555 &  5 & 1095222 & 1.255792 & 0.2813519\\\\\n",
       "\\end{tabular}\n"
      ],
      "text/markdown": [
       "\n",
       "A anova: 2 × 6\n",
       "\n",
       "| Res.Df &lt;dbl&gt; | RSS &lt;dbl&gt; | Df &lt;dbl&gt; | Sum of Sq &lt;dbl&gt; | F &lt;dbl&gt; | Pr(&gt;F) &lt;dbl&gt; |\n",
       "|---|---|---|---|---|---|\n",
       "| 699 | 122147777 | NA |      NA |       NA |        NA |\n",
       "| 694 | 121052555 |  5 | 1095222 | 1.255792 | 0.2813519 |\n",
       "\n"
      ],
      "text/plain": [
       "  Res.Df RSS       Df Sum of Sq F        Pr(>F)   \n",
       "1 699    122147777 NA      NA         NA        NA\n",
       "2 694    121052555  5 1095222   1.255792 0.2813519"
      ]
     },
     "metadata": {},
     "output_type": "display_data"
    }
   ],
   "source": [
    "myH0 <- c(\"male:totwrk\",\"male:educ\",\"male:age\",\"male:I(age^2)\",\" male:yngkid\") #用联合检验所 涉及的变量组成向量，构成H0。 \n",
    "linearHypothesis(fit3,myH0) \n",
    "detach(SLEEP75) "
   ]
  },
  {
   "cell_type": "markdown",
   "metadata": {},
   "source": [
    "## C7.7【虚拟变量的交互作用】 本题使用WAGE1.RAW 中的数据。 \n",
    "\n",
    "（1）利用方程（7.18）估计在educ=12.5 时的性别差异。并与educ=0 时估计的性别差异相比较。 \n",
    "\n",
    "（2）做一个用以得到式（7.18）的回归，单用female∙(educ−12.5)取代female∙educ。你现在如何解释female 的系数？ \n",
    "\n",
    "（3）第（2）部分中female 的系数是统计显著的吗？与式（7.18）相比较并进行评论。 "
   ]
  },
  {
   "cell_type": "code",
   "execution_count": 37,
   "metadata": {},
   "outputs": [
    {
     "name": "stderr",
     "output_type": "stream",
     "text": [
      "The following objects are masked from SLEEP75:\n",
      "\n",
      "    construc, educ, exper, smsa, south\n",
      "\n",
      "The following object is masked from gpa2:\n",
      "\n",
      "    female\n",
      "\n",
      "The following objects are masked from WAGE2:\n",
      "\n",
      "    educ, exper, lwage, married, south, tenure, wage\n",
      "\n"
     ]
    }
   ],
   "source": [
    "WAGE1 <- read_dta(\"C:/Users/bradl/SRM/data/WAGE1.DTA\")\n",
    "attach(WAGE1) "
   ]
  },
  {
   "cell_type": "code",
   "execution_count": 40,
   "metadata": {},
   "outputs": [
    {
     "data": {
      "text/plain": [
       "\n",
       "Call:\n",
       "lm(formula = log(wage) ~ female + educ + I(female * (educ - 12.5)) + \n",
       "    exper + I(exper^2) + tenure + I(tenure^2))\n",
       "\n",
       "Residuals:\n",
       "     Min       1Q   Median       3Q      Max \n",
       "-1.83265 -0.25261 -0.02374  0.25396  1.13584 \n",
       "\n",
       "Coefficients:\n",
       "                            Estimate Std. Error t value Pr(>|t|)    \n",
       "(Intercept)                0.3888060  0.1186871   3.276  0.00112 ** \n",
       "female                    -0.2963450  0.0358358  -8.270 1.14e-15 ***\n",
       "educ                       0.0823692  0.0084699   9.725  < 2e-16 ***\n",
       "I(female * (educ - 12.5)) -0.0055645  0.0130618  -0.426  0.67028    \n",
       "exper                      0.0293366  0.0049842   5.886 7.11e-09 ***\n",
       "I(exper^2)                -0.0005804  0.0001075  -5.398 1.03e-07 ***\n",
       "tenure                     0.0318967  0.0068640   4.647 4.28e-06 ***\n",
       "I(tenure^2)               -0.0005900  0.0002352  -2.509  0.01242 *  \n",
       "---\n",
       "Signif. codes:  0 '***' 0.001 '**' 0.01 '*' 0.05 '.' 0.1 ' ' 1\n",
       "\n",
       "Residual standard error: 0.4001 on 518 degrees of freedom\n",
       "Multiple R-squared:  0.441,\tAdjusted R-squared:  0.4334 \n",
       "F-statistic: 58.37 on 7 and 518 DF,  p-value: < 2.2e-16\n"
      ]
     },
     "metadata": {},
     "output_type": "display_data"
    }
   ],
   "source": [
    "fit<-lm(log(wage)~female+educ+I(female*(educ-12.5))+exper+I(exper^2)+tenure+I(tenure^2)) #拟合 上述模型。 \n",
    "summary(fit) \n",
    "detach(WAGE1)"
   ]
  },
  {
   "cell_type": "markdown",
   "metadata": {},
   "source": [
    "## C7.8【二值因变量；构建特定取值的交互项】 \n",
    "本题使用LOANAPP.RAW 中的数据。要解释的二值变量是approve，如果一个人的抵押贷款得到许可则取值1。主要的解释变量是虚拟变量 white，如果申请者是白人则取值1。数据集中 其他的申请者为黑人和拉美裔。  为了检验抵押贷款市场中的歧视，可使用一个线性概率模型 $$approve=\\beta_0+\\beta_1 white+其他因素 $$\n",
    "\n",
    "（1）如果对少数民族存在歧视，并控制了适当的因素，那么，𝛽1的符号是什么？ \n",
    "\n",
    "（2）将approve 对white 做回归，并以通常的形式报告结果。解释white 的系数。它是统计显 著的吗？它实际上大吗？ \n",
    "\n",
    "（3）作为控制因素，增加变量hrat，obrat，loanprc，unem，male，married，dep，sch， cosign，chist，pubrec，mortlat1，mortlat2 和vr。white 的系数会有什么变化？仍有对非白人 存在歧视的证据吗？ \n",
    "\n",
    "（4）现在容许种族效应与度量了其他债务占收入比例的变量（obrat）存在着交互作用。交互 项显著吗？ \n",
    "\n",
    "（5）利用第（4）部分的模型，当债务担负达到样本均值obrat=32 时，作为白人对贷款许可 的概率有多大的影响？构造这种影响的一个95%的置信区间。 "
   ]
  },
  {
   "cell_type": "code",
   "execution_count": 39,
   "metadata": {},
   "outputs": [
    {
     "name": "stderr",
     "output_type": "stream",
     "text": [
      "The following object is masked from WAGE1:\n",
      "\n",
      "    married\n",
      "\n",
      "The following objects are masked from SLEEP75:\n",
      "\n",
      "    black, male\n",
      "\n",
      "The following objects are masked from gpa2:\n",
      "\n",
      "    black, white\n",
      "\n",
      "The following objects are masked from MLB1:\n",
      "\n",
      "    black, hispan\n",
      "\n",
      "The following objects are masked from WAGE2:\n",
      "\n",
      "    black, married\n",
      "\n",
      "The following object is masked from GPA1:\n",
      "\n",
      "    male\n",
      "\n"
     ]
    }
   ],
   "source": [
    "attach(loanapp) "
   ]
  },
  {
   "cell_type": "code",
   "execution_count": 44,
   "metadata": {},
   "outputs": [
    {
     "data": {
      "text/plain": [
       "\n",
       "Call:\n",
       "lm(formula = approve ~ white)\n",
       "\n",
       "Residuals:\n",
       "     Min       1Q   Median       3Q      Max \n",
       "-0.90839  0.09161  0.09161  0.09161  0.29221 \n",
       "\n",
       "Coefficients:\n",
       "            Estimate Std. Error t value Pr(>|t|)    \n",
       "(Intercept)  0.70779    0.01824   38.81   <2e-16 ***\n",
       "white        0.20060    0.01984   10.11   <2e-16 ***\n",
       "---\n",
       "Signif. codes:  0 '***' 0.001 '**' 0.01 '*' 0.05 '.' 0.1 ' ' 1\n",
       "\n",
       "Residual standard error: 0.3201 on 1987 degrees of freedom\n",
       "Multiple R-squared:  0.04893,\tAdjusted R-squared:  0.04845 \n",
       "F-statistic: 102.2 on 1 and 1987 DF,  p-value: < 2.2e-16\n"
      ]
     },
     "metadata": {},
     "output_type": "display_data"
    }
   ],
   "source": [
    "fit1<-lm(approve~white) #拟合上述模型 \n",
    "summary(fit1) "
   ]
  },
  {
   "cell_type": "code",
   "execution_count": 47,
   "metadata": {},
   "outputs": [
    {
     "data": {
      "text/plain": [
       "\n",
       "Call:\n",
       "lm(formula = approve ~ white + hrat + obrat + loanprc + unem + \n",
       "    male + married + dep + sch + cosign + chist + pubrec + mortlat1 + \n",
       "    mortlat2 + vr)\n",
       "\n",
       "Residuals:\n",
       "     Min       1Q   Median       3Q      Max \n",
       "-1.06482  0.00781  0.06387  0.13673  0.71105 \n",
       "\n",
       "Coefficients:\n",
       "             Estimate Std. Error t value Pr(>|t|)    \n",
       "(Intercept)  0.936731   0.052735  17.763  < 2e-16 ***\n",
       "white        0.128820   0.019732   6.529 8.44e-11 ***\n",
       "hrat         0.001833   0.001263   1.451   0.1469    \n",
       "obrat       -0.005432   0.001102  -4.930 8.92e-07 ***\n",
       "loanprc     -0.147300   0.037516  -3.926 8.92e-05 ***\n",
       "unem        -0.007299   0.003198  -2.282   0.0226 *  \n",
       "male        -0.004144   0.018864  -0.220   0.8261    \n",
       "married      0.045824   0.016308   2.810   0.0050 ** \n",
       "dep         -0.006827   0.006701  -1.019   0.3084    \n",
       "sch          0.001753   0.016650   0.105   0.9162    \n",
       "cosign       0.009772   0.041139   0.238   0.8123    \n",
       "chist        0.133027   0.019263   6.906 6.72e-12 ***\n",
       "pubrec      -0.241927   0.028227  -8.571  < 2e-16 ***\n",
       "mortlat1    -0.057251   0.050012  -1.145   0.2525    \n",
       "mortlat2    -0.113723   0.066984  -1.698   0.0897 .  \n",
       "vr          -0.031441   0.014031  -2.241   0.0252 *  \n",
       "---\n",
       "Signif. codes:  0 '***' 0.001 '**' 0.01 '*' 0.05 '.' 0.1 ' ' 1\n",
       "\n",
       "Residual standard error: 0.3021 on 1955 degrees of freedom\n",
       "  (18 observations deleted due to missingness)\n",
       "Multiple R-squared:  0.1656,\tAdjusted R-squared:  0.1592 \n",
       "F-statistic: 25.86 on 15 and 1955 DF,  p-value: < 2.2e-16\n"
      ]
     },
     "metadata": {},
     "output_type": "display_data"
    }
   ],
   "source": [
    "fit2<-lm(approve~white+hrat+obrat+loanprc+unem+male+married+dep+sch+cosign+chist+pubrec+mortlat1+mortlat2+vr) #拟合上述模型 \n",
    "summary(fit2) "
   ]
  },
  {
   "cell_type": "code",
   "execution_count": 48,
   "metadata": {},
   "outputs": [
    {
     "data": {
      "text/plain": [
       "\n",
       "Call:\n",
       "lm(formula = approve ~ white + hrat + obrat + loanprc + unem + \n",
       "    male + married + dep + sch + cosign + chist + pubrec + mortlat1 + \n",
       "    mortlat2 + vr + white:obrat)\n",
       "\n",
       "Residuals:\n",
       "     Min       1Q   Median       3Q      Max \n",
       "-1.05523  0.01253  0.06320  0.12692  0.83284 \n",
       "\n",
       "Coefficients:\n",
       "             Estimate Std. Error t value Pr(>|t|)    \n",
       "(Intercept)  1.180648   0.086808  13.601  < 2e-16 ***\n",
       "white       -0.145975   0.080263  -1.819 0.069109 .  \n",
       "hrat         0.001790   0.001260   1.421 0.155521    \n",
       "obrat       -0.012226   0.002216  -5.518 3.88e-08 ***\n",
       "loanprc     -0.152536   0.037436  -4.075 4.79e-05 ***\n",
       "unem        -0.007528   0.003189  -2.360 0.018352 *  \n",
       "male        -0.006015   0.018817  -0.320 0.749241    \n",
       "married      0.045536   0.016260   2.800 0.005154 ** \n",
       "dep         -0.007630   0.006686  -1.141 0.253905    \n",
       "sch          0.001777   0.016601   0.107 0.914787    \n",
       "cosign       0.017709   0.041081   0.431 0.666458    \n",
       "chist        0.129855   0.019227   6.754 1.90e-11 ***\n",
       "pubrec      -0.240325   0.028149  -8.538  < 2e-16 ***\n",
       "mortlat1    -0.062782   0.049891  -1.258 0.208400    \n",
       "mortlat2    -0.126845   0.066891  -1.896 0.058071 .  \n",
       "vr          -0.030540   0.013993  -2.183 0.029188 *  \n",
       "white:obrat  0.008088   0.002290   3.531 0.000423 ***\n",
       "---\n",
       "Signif. codes:  0 '***' 0.001 '**' 0.01 '*' 0.05 '.' 0.1 ' ' 1\n",
       "\n",
       "Residual standard error: 0.3012 on 1954 degrees of freedom\n",
       "  (18 observations deleted due to missingness)\n",
       "Multiple R-squared:  0.1709,\tAdjusted R-squared:  0.1641 \n",
       "F-statistic: 25.17 on 16 and 1954 DF,  p-value: < 2.2e-16\n"
      ]
     },
     "metadata": {},
     "output_type": "display_data"
    }
   ],
   "source": [
    "fit3<-lm(approve~white+hrat+obrat+loanprc+unem+male+married+dep+sch+cosign+chist+pubrec+mortlat1+mortlat2+vr+ white: obrat) #拟合上述模型 \n",
    "summary(fit3)"
   ]
  },
  {
   "cell_type": "code",
   "execution_count": 49,
   "metadata": {},
   "outputs": [
    {
     "data": {
      "text/plain": [
       "\n",
       "Call:\n",
       "lm(formula = approve ~ white + hrat + obrat + loanprc + unem + \n",
       "    male + married + dep + sch + cosign + chist + pubrec + mortlat1 + \n",
       "    mortlat2 + vr + white:I(obrat - 32))\n",
       "\n",
       "Residuals:\n",
       "     Min       1Q   Median       3Q      Max \n",
       "-1.05523  0.01253  0.06320  0.12692  0.83284 \n",
       "\n",
       "Coefficients:\n",
       "                     Estimate Std. Error t value Pr(>|t|)    \n",
       "(Intercept)          1.180648   0.086808  13.601  < 2e-16 ***\n",
       "white                0.112838   0.020188   5.589 2.60e-08 ***\n",
       "hrat                 0.001790   0.001260   1.421 0.155521    \n",
       "obrat               -0.012226   0.002216  -5.518 3.88e-08 ***\n",
       "loanprc             -0.152536   0.037436  -4.075 4.79e-05 ***\n",
       "unem                -0.007528   0.003189  -2.360 0.018352 *  \n",
       "male                -0.006015   0.018817  -0.320 0.749241    \n",
       "married              0.045536   0.016260   2.800 0.005154 ** \n",
       "dep                 -0.007630   0.006686  -1.141 0.253905    \n",
       "sch                  0.001777   0.016601   0.107 0.914787    \n",
       "cosign               0.017709   0.041081   0.431 0.666458    \n",
       "chist                0.129855   0.019227   6.754 1.90e-11 ***\n",
       "pubrec              -0.240325   0.028149  -8.538  < 2e-16 ***\n",
       "mortlat1            -0.062782   0.049891  -1.258 0.208400    \n",
       "mortlat2            -0.126845   0.066891  -1.896 0.058071 .  \n",
       "vr                  -0.030540   0.013993  -2.183 0.029188 *  \n",
       "white:I(obrat - 32)  0.008088   0.002290   3.531 0.000423 ***\n",
       "---\n",
       "Signif. codes:  0 '***' 0.001 '**' 0.01 '*' 0.05 '.' 0.1 ' ' 1\n",
       "\n",
       "Residual standard error: 0.3012 on 1954 degrees of freedom\n",
       "  (18 observations deleted due to missingness)\n",
       "Multiple R-squared:  0.1709,\tAdjusted R-squared:  0.1641 \n",
       "F-statistic: 25.17 on 16 and 1954 DF,  p-value: < 2.2e-16\n"
      ]
     },
     "metadata": {},
     "output_type": "display_data"
    },
    {
     "data": {
      "text/html": [
       "<table>\n",
       "<caption>A matrix: 17 × 2 of type dbl</caption>\n",
       "<thead>\n",
       "\t<tr><th></th><th scope=col>2.5 %</th><th scope=col>97.5 %</th></tr>\n",
       "</thead>\n",
       "<tbody>\n",
       "\t<tr><th scope=row>(Intercept)</th><td> 1.0104031912</td><td> 1.350893738</td></tr>\n",
       "\t<tr><th scope=row>white</th><td> 0.0732462766</td><td> 0.152430090</td></tr>\n",
       "\t<tr><th scope=row>hrat</th><td>-0.0006805882</td><td> 0.004259899</td></tr>\n",
       "\t<tr><th scope=row>obrat</th><td>-0.0165712619</td><td>-0.007881157</td></tr>\n",
       "\t<tr><th scope=row>loanprc</th><td>-0.2259537291</td><td>-0.079117468</td></tr>\n",
       "\t<tr><th scope=row>unem</th><td>-0.0137828695</td><td>-0.001273277</td></tr>\n",
       "\t<tr><th scope=row>male</th><td>-0.0429184285</td><td> 0.030887544</td></tr>\n",
       "\t<tr><th scope=row>married</th><td> 0.0136464989</td><td> 0.077425128</td></tr>\n",
       "\t<tr><th scope=row>dep</th><td>-0.0207417050</td><td> 0.005481720</td></tr>\n",
       "\t<tr><th scope=row>sch</th><td>-0.0307811967</td><td> 0.034334383</td></tr>\n",
       "\t<tr><th scope=row>cosign</th><td>-0.0628575594</td><td> 0.098275725</td></tr>\n",
       "\t<tr><th scope=row>chist</th><td> 0.0921463636</td><td> 0.167563211</td></tr>\n",
       "\t<tr><th scope=row>pubrec</th><td>-0.2955295628</td><td>-0.185120522</td></tr>\n",
       "\t<tr><th scope=row>mortlat1</th><td>-0.1606262045</td><td> 0.035062377</td></tr>\n",
       "\t<tr><th scope=row>mortlat2</th><td>-0.2580305988</td><td> 0.004341430</td></tr>\n",
       "\t<tr><th scope=row>vr</th><td>-0.0579816262</td><td>-0.003097495</td></tr>\n",
       "\t<tr><th scope=row>white:I(obrat - 32)</th><td> 0.0035962719</td><td> 0.012579558</td></tr>\n",
       "</tbody>\n",
       "</table>\n"
      ],
      "text/latex": [
       "A matrix: 17 × 2 of type dbl\n",
       "\\begin{tabular}{r|ll}\n",
       "  & 2.5 \\% & 97.5 \\%\\\\\n",
       "\\hline\n",
       "\t(Intercept) &  1.0104031912 &  1.350893738\\\\\n",
       "\twhite &  0.0732462766 &  0.152430090\\\\\n",
       "\thrat & -0.0006805882 &  0.004259899\\\\\n",
       "\tobrat & -0.0165712619 & -0.007881157\\\\\n",
       "\tloanprc & -0.2259537291 & -0.079117468\\\\\n",
       "\tunem & -0.0137828695 & -0.001273277\\\\\n",
       "\tmale & -0.0429184285 &  0.030887544\\\\\n",
       "\tmarried &  0.0136464989 &  0.077425128\\\\\n",
       "\tdep & -0.0207417050 &  0.005481720\\\\\n",
       "\tsch & -0.0307811967 &  0.034334383\\\\\n",
       "\tcosign & -0.0628575594 &  0.098275725\\\\\n",
       "\tchist &  0.0921463636 &  0.167563211\\\\\n",
       "\tpubrec & -0.2955295628 & -0.185120522\\\\\n",
       "\tmortlat1 & -0.1606262045 &  0.035062377\\\\\n",
       "\tmortlat2 & -0.2580305988 &  0.004341430\\\\\n",
       "\tvr & -0.0579816262 & -0.003097495\\\\\n",
       "\twhite:I(obrat - 32) &  0.0035962719 &  0.012579558\\\\\n",
       "\\end{tabular}\n"
      ],
      "text/markdown": [
       "\n",
       "A matrix: 17 × 2 of type dbl\n",
       "\n",
       "| <!--/--> | 2.5 % | 97.5 % |\n",
       "|---|---|---|\n",
       "| (Intercept) |  1.0104031912 |  1.350893738 |\n",
       "| white |  0.0732462766 |  0.152430090 |\n",
       "| hrat | -0.0006805882 |  0.004259899 |\n",
       "| obrat | -0.0165712619 | -0.007881157 |\n",
       "| loanprc | -0.2259537291 | -0.079117468 |\n",
       "| unem | -0.0137828695 | -0.001273277 |\n",
       "| male | -0.0429184285 |  0.030887544 |\n",
       "| married |  0.0136464989 |  0.077425128 |\n",
       "| dep | -0.0207417050 |  0.005481720 |\n",
       "| sch | -0.0307811967 |  0.034334383 |\n",
       "| cosign | -0.0628575594 |  0.098275725 |\n",
       "| chist |  0.0921463636 |  0.167563211 |\n",
       "| pubrec | -0.2955295628 | -0.185120522 |\n",
       "| mortlat1 | -0.1606262045 |  0.035062377 |\n",
       "| mortlat2 | -0.2580305988 |  0.004341430 |\n",
       "| vr | -0.0579816262 | -0.003097495 |\n",
       "| white:I(obrat - 32) |  0.0035962719 |  0.012579558 |\n",
       "\n"
      ],
      "text/plain": [
       "                    2.5 %         97.5 %      \n",
       "(Intercept)          1.0104031912  1.350893738\n",
       "white                0.0732462766  0.152430090\n",
       "hrat                -0.0006805882  0.004259899\n",
       "obrat               -0.0165712619 -0.007881157\n",
       "loanprc             -0.2259537291 -0.079117468\n",
       "unem                -0.0137828695 -0.001273277\n",
       "male                -0.0429184285  0.030887544\n",
       "married              0.0136464989  0.077425128\n",
       "dep                 -0.0207417050  0.005481720\n",
       "sch                 -0.0307811967  0.034334383\n",
       "cosign              -0.0628575594  0.098275725\n",
       "chist                0.0921463636  0.167563211\n",
       "pubrec              -0.2955295628 -0.185120522\n",
       "mortlat1            -0.1606262045  0.035062377\n",
       "mortlat2            -0.2580305988  0.004341430\n",
       "vr                  -0.0579816262 -0.003097495\n",
       "white:I(obrat - 32)  0.0035962719  0.012579558"
      ]
     },
     "metadata": {},
     "output_type": "display_data"
    }
   ],
   "source": [
    "fit4<-lm(approve~white+hrat+obrat+loanprc+unem+male+married+dep+sch+cosign+chist+pubrec+mortlat1+mortlat2+vr+ white: I(obrat-32)) #拟合上述模型 \n",
    "summary(fit4) #查看拟合结果，此时 white 的系数就是obrat=32 时作为白人对贷款许可的影响。此时white 的系数为 0.112838，t 值为5.589，非常显著。 \n",
    "confint(fit4) #查看fit4 中系数的95%置信区间，结果whtie 的95%置信区间为 （0.0732462766，0.152430090） \n",
    "detach(loanapp) "
   ]
  },
  {
   "cell_type": "markdown",
   "metadata": {},
   "source": [
    "## C7.9【频数列联表；线性概率模型（LPM）；（条件）计数；值域】\n",
    "对（许多美国工人可用的）401(K)养老金计划的出现是否提高净储蓄，吸引了大量研究兴趣。 数据集401KUSBS.RAW 包含了有关净金融资产（nettfa）、家庭收入（inc）、是否有资格参与 401(k)计划的二值变量（e401k）和其他几个变量的信息。 \n",
    "\n",
    "（1）样本中有资格参与一个401(k)计划的家庭比例是多少？ \n",
    "\n",
    "（2）估计一个用收入、年龄和性别解释401(k)资格的线性概率模型。包括收入和年龄的二次 项，并以通常形式报告结论。 \n",
    "\n",
    "（3）你认为401(k)资格独立于收入和年龄吗？性别呢？请解释 \n",
    "\n",
    "（4）求第（2）部分中估计的线性概率模型的拟合值。有小于0 或大于 1 的拟合值吗？ \n",
    "\n",
    "（5）利用第（4）部分拟合值$\\hat{e401k_i}$，定义$\\tilde{e401k_i}$在$2\\hat{e401k_i}\\geq 0.5$时取1，并在$2\\hat{e401k_i}< 0.5$时取值0。在9275个家庭中，预计有多少家庭有资格参与 401(k)计划？ \n",
    "\n",
    "（6）对于没有资格参加 401(k)的5638 个家庭，利用预测子$\\hat{e401k_i}$，预测其中有多大比例没有401(k) ？对于有资格参加 401(k)的3637 个家庭，其中有多大比例的家庭有401(k)？（如果你的 计量经济软件具有“制表”命令更好。） \n",
    "\n",
    "（7）总正确预测比约64.9%。给定第（6）部分的答案，你认为这是模型好坏的一个完备描述 吗？ \n",
    "\n",
    "（8）在线性概率模型中增加一个解释变量pira。其他条件不变，若一个家庭有某人拥有个人 退休金账户，一个家庭有资格参与 401(k)计划的估计概率会提高多少？在10%的显著性水平 上，它统计显著异于0 吗？ "
   ]
  },
  {
   "cell_type": "code",
   "execution_count": 50,
   "metadata": {},
   "outputs": [
    {
     "name": "stderr",
     "output_type": "stream",
     "text": [
      "The following objects are masked from SLEEP75:\n",
      "\n",
      "    age, agesq, male, marr\n",
      "\n",
      "The following object is masked from WAGE2:\n",
      "\n",
      "    age\n",
      "\n"
     ]
    }
   ],
   "source": [
    "X401ksubs <- read_dta(\"C:/Users/bradl/SRM/data/401ksubs.dta\")\n",
    "attach(X401ksubs) "
   ]
  },
  {
   "cell_type": "code",
   "execution_count": 51,
   "metadata": {},
   "outputs": [
    {
     "data": {
      "text/html": [
       "0.392129380053908"
      ],
      "text/latex": [
       "0.392129380053908"
      ],
      "text/markdown": [
       "0.392129380053908"
      ],
      "text/plain": [
       "[1] 0.3921294"
      ]
     },
     "metadata": {},
     "output_type": "display_data"
    }
   ],
   "source": [
    "a<-sum(X401ksubs $ e401k ==1) #计算样本中有资格参与一个 401(k)计划的家庭个数。 \n",
    "b<- length(X401ksubs $ e401k) #计算总样本个数。 \n",
    "a/ b "
   ]
  },
  {
   "cell_type": "code",
   "execution_count": 52,
   "metadata": {},
   "outputs": [
    {
     "data": {
      "text/plain": [
       "\n",
       "Call:\n",
       "lm(formula = e401k ~ inc + I(inc^2) + age + I(age^2) + male)\n",
       "\n",
       "Residuals:\n",
       "    Min      1Q  Median      3Q     Max \n",
       "-0.6970 -0.3719 -0.2149  0.4870  0.9155 \n",
       "\n",
       "Coefficients:\n",
       "              Estimate Std. Error t value Pr(>|t|)    \n",
       "(Intercept) -5.063e-01  8.110e-02  -6.243 4.48e-10 ***\n",
       "inc          1.245e-02  5.929e-04  20.993  < 2e-16 ***\n",
       "I(inc^2)    -6.165e-05  4.732e-06 -13.028  < 2e-16 ***\n",
       "age          2.651e-02  3.922e-03   6.758 1.49e-11 ***\n",
       "I(age^2)    -3.053e-04  4.501e-05  -6.782 1.26e-11 ***\n",
       "male        -3.533e-03  1.208e-02  -0.292     0.77    \n",
       "---\n",
       "Signif. codes:  0 '***' 0.001 '**' 0.01 '*' 0.05 '.' 0.1 ' ' 1\n",
       "\n",
       "Residual standard error: 0.4648 on 9269 degrees of freedom\n",
       "Multiple R-squared:  0.09428,\tAdjusted R-squared:  0.09379 \n",
       "F-statistic:   193 on 5 and 9269 DF,  p-value: < 2.2e-16\n"
      ]
     },
     "metadata": {},
     "output_type": "display_data"
    },
    {
     "data": {
      "text/html": [
       "<dl class=dl-horizontal>\n",
       "\t<dt>(Intercept)</dt>\n",
       "\t\t<dd>-0.5063</dd>\n",
       "\t<dt>inc</dt>\n",
       "\t\t<dd>0.0124</dd>\n",
       "\t<dt>I(inc^2)</dt>\n",
       "\t\t<dd>-1e-04</dd>\n",
       "\t<dt>age</dt>\n",
       "\t\t<dd>0.0265</dd>\n",
       "\t<dt>I(age^2)</dt>\n",
       "\t\t<dd>-3e-04</dd>\n",
       "\t<dt>male</dt>\n",
       "\t\t<dd>-0.0035</dd>\n",
       "</dl>\n"
      ],
      "text/latex": [
       "\\begin{description*}\n",
       "\\item[(Intercept)] -0.5063\n",
       "\\item[inc] 0.0124\n",
       "\\item[I(inc\\textbackslash{}textasciicircum\\{\\}2)] -1e-04\n",
       "\\item[age] 0.0265\n",
       "\\item[I(age\\textbackslash{}textasciicircum\\{\\}2)] -3e-04\n",
       "\\item[male] -0.0035\n",
       "\\end{description*}\n"
      ],
      "text/markdown": [
       "(Intercept)\n",
       ":   -0.5063inc\n",
       ":   0.0124I(inc^2)\n",
       ":   -1e-04age\n",
       ":   0.0265I(age^2)\n",
       ":   -3e-04male\n",
       ":   -0.0035\n",
       "\n"
      ],
      "text/plain": [
       "(Intercept)         inc    I(inc^2)         age    I(age^2)        male \n",
       "    -0.5063      0.0124     -0.0001      0.0265     -0.0003     -0.0035 "
      ]
     },
     "metadata": {},
     "output_type": "display_data"
    }
   ],
   "source": [
    "fit1<-lm(e401k~inc+I(inc^2)+age+I(age^2)+male) #拟合上述模型 \n",
    "summary(fit1) #查看拟合结果，R-squared:  0.09428。 \n",
    "round(fit1$coefficients,4) "
   ]
  },
  {
   "cell_type": "code",
   "execution_count": 53,
   "metadata": {},
   "outputs": [
    {
     "data": {
      "text/html": [
       "<ol class=list-inline>\n",
       "\t<li>0.0299171736260934</li>\n",
       "\t<li>0.697189895031519</li>\n",
       "</ol>\n"
      ],
      "text/latex": [
       "\\begin{enumerate*}\n",
       "\\item 0.0299171736260934\n",
       "\\item 0.697189895031519\n",
       "\\end{enumerate*}\n"
      ],
      "text/markdown": [
       "1. 0.0299171736260934\n",
       "2. 0.697189895031519\n",
       "\n",
       "\n"
      ],
      "text/plain": [
       "[1] 0.02991717 0.69718990"
      ]
     },
     "metadata": {},
     "output_type": "display_data"
    }
   ],
   "source": [
    "c<-fitted(fit1) \n",
    "range(c)"
   ]
  },
  {
   "cell_type": "code",
   "execution_count": 54,
   "metadata": {},
   "outputs": [
    {
     "data": {
      "text/plain": [
       "\n",
       "   0    1 \n",
       "6815 2460 "
      ]
     },
     "metadata": {},
     "output_type": "display_data"
    }
   ],
   "source": [
    "X401ksubs <-within(X401ksubs,{       \n",
    "    d<-NA       \n",
    "    d[c>=0.5] <-1       \n",
    "    d[c<0.5] <-0})\n",
    "table(X401ksubs$d)"
   ]
  },
  {
   "cell_type": "code",
   "execution_count": 56,
   "metadata": {},
   "outputs": [
    {
     "name": "stdout",
     "output_type": "stream",
     "text": [
      "\n",
      " \n",
      "   Cell Contents\n",
      "|-------------------------|\n",
      "|                       N |\n",
      "| Chi-square contribution |\n",
      "|           N / Row Total |\n",
      "|           N / Col Total |\n",
      "|         N / Table Total |\n",
      "|-------------------------|\n",
      "\n",
      " \n",
      "Total Observations in Table:  9275 \n",
      "\n",
      " \n",
      "                | X401ksubs$d \n",
      "X401ksubs$e401k |         0 |         1 | Row Total | \n",
      "----------------|-----------|-----------|-----------|\n",
      "              0 |      4607 |      1031 |      5638 | \n",
      "                |    52.052 |   144.200 |           | \n",
      "                |     0.817 |     0.183 |     0.608 | \n",
      "                |     0.676 |     0.419 |           | \n",
      "                |     0.497 |     0.111 |           | \n",
      "----------------|-----------|-----------|-----------|\n",
      "              1 |      2208 |      1429 |      3637 | \n",
      "                |    80.690 |   223.536 |           | \n",
      "                |     0.607 |     0.393 |     0.392 | \n",
      "                |     0.324 |     0.581 |           | \n",
      "                |     0.238 |     0.154 |           | \n",
      "----------------|-----------|-----------|-----------|\n",
      "   Column Total |      6815 |      2460 |      9275 | \n",
      "                |     0.735 |     0.265 |           | \n",
      "----------------|-----------|-----------|-----------|\n",
      "\n",
      " \n"
     ]
    }
   ],
   "source": [
    "library(gmodels) #使用gmodels 的CrossTable()创建二维列联表 16 \n",
    "CrossTable(X401ksubs$e401k,X401ksubs$d) "
   ]
  },
  {
   "cell_type": "code",
   "execution_count": 58,
   "metadata": {},
   "outputs": [
    {
     "data": {
      "text/plain": [
       "\n",
       "Call:\n",
       "lm(formula = e401k ~ inc + I(inc^2) + age + I(age^2) + male + \n",
       "    pira)\n",
       "\n",
       "Residuals:\n",
       "    Min      1Q  Median      3Q     Max \n",
       "-0.7047 -0.3720 -0.2140  0.4862  0.9139 \n",
       "\n",
       "Coefficients:\n",
       "              Estimate Std. Error t value Pr(>|t|)    \n",
       "(Intercept) -5.019e-01  8.113e-02  -6.186 6.43e-10 ***\n",
       "inc          1.226e-02  6.035e-04  20.322  < 2e-16 ***\n",
       "I(inc^2)    -6.115e-05  4.741e-06 -12.897  < 2e-16 ***\n",
       "age          2.652e-02  3.922e-03   6.762 1.45e-11 ***\n",
       "I(age^2)    -3.074e-04  4.503e-05  -6.827 9.21e-12 ***\n",
       "male        -3.827e-03  1.208e-02  -0.317    0.752    \n",
       "pira         1.979e-02  1.222e-02   1.620    0.105    \n",
       "---\n",
       "Signif. codes:  0 '***' 0.001 '**' 0.01 '*' 0.05 '.' 0.1 ' ' 1\n",
       "\n",
       "Residual standard error: 0.4648 on 9268 degrees of freedom\n",
       "Multiple R-squared:  0.09453,\tAdjusted R-squared:  0.09395 \n",
       "F-statistic: 161.3 on 6 and 9268 DF,  p-value: < 2.2e-16\n"
      ]
     },
     "metadata": {},
     "output_type": "display_data"
    },
    {
     "data": {
      "text/html": [
       "<dl class=dl-horizontal>\n",
       "\t<dt>(Intercept)</dt>\n",
       "\t\t<dd>-0.5019</dd>\n",
       "\t<dt>inc</dt>\n",
       "\t\t<dd>0.0123</dd>\n",
       "\t<dt>I(inc^2)</dt>\n",
       "\t\t<dd>-1e-04</dd>\n",
       "\t<dt>age</dt>\n",
       "\t\t<dd>0.0265</dd>\n",
       "\t<dt>I(age^2)</dt>\n",
       "\t\t<dd>-3e-04</dd>\n",
       "\t<dt>male</dt>\n",
       "\t\t<dd>-0.0038</dd>\n",
       "\t<dt>pira</dt>\n",
       "\t\t<dd>0.0198</dd>\n",
       "</dl>\n"
      ],
      "text/latex": [
       "\\begin{description*}\n",
       "\\item[(Intercept)] -0.5019\n",
       "\\item[inc] 0.0123\n",
       "\\item[I(inc\\textbackslash{}textasciicircum\\{\\}2)] -1e-04\n",
       "\\item[age] 0.0265\n",
       "\\item[I(age\\textbackslash{}textasciicircum\\{\\}2)] -3e-04\n",
       "\\item[male] -0.0038\n",
       "\\item[pira] 0.0198\n",
       "\\end{description*}\n"
      ],
      "text/markdown": [
       "(Intercept)\n",
       ":   -0.5019inc\n",
       ":   0.0123I(inc^2)\n",
       ":   -1e-04age\n",
       ":   0.0265I(age^2)\n",
       ":   -3e-04male\n",
       ":   -0.0038pira\n",
       ":   0.0198\n",
       "\n"
      ],
      "text/plain": [
       "(Intercept)         inc    I(inc^2)         age    I(age^2)        male \n",
       "    -0.5019      0.0123     -0.0001      0.0265     -0.0003     -0.0038 \n",
       "       pira \n",
       "     0.0198 "
      ]
     },
     "metadata": {},
     "output_type": "display_data"
    }
   ],
   "source": [
    "fit2<-lm(e401k~inc+I(inc^2)+age+I(age^2)+male+pira) #拟合上述模型 \n",
    "summary(fit2) #查看拟合结果，R-squared:  0.09453。 \n",
    "round(fit2$coefficients,4)\n",
    "detach(X401ksubs) "
   ]
  },
  {
   "cell_type": "markdown",
   "metadata": {},
   "source": [
    "## C7.10【F 检验】 本题利用NBASAL.RAW 中的数据。 \n",
    "\n",
    "（1）估计一个线性回归模型，将单场得分与联赛中打球经历和位置（后卫、前锋或中锋）联 系起来。包括打球经历的二次项形式，并将中锋作为基组。以通常的形式报告结果。 \n",
    "\n",
    "（2）在第（1）部分中，你为什么不将所有三个位置的虚拟变量包括进来？ \n",
    "\n",
    "（3）保持经历不变，一个后卫的得分比一个中锋多吗？多多少？这个差异统计显著吗？ \n",
    "\n",
    "（4）现在，将婚姻状况加入方程。保持位置和经历不变，已婚球员是否更高效（就单场得分 来说）？ \n",
    "\n",
    "（5）加入婚姻状况和两个经历变量的交互项。在这个扩展的模型中，是否存在有力的证据表 明婚姻状况影响单场得分？ \n",
    "\n",
    "（6）使用单场助攻次数作为因变量估计（4）中的模型。与（4）的结果有明显的差异吗？请 讨论。 "
   ]
  },
  {
   "cell_type": "code",
   "execution_count": 59,
   "metadata": {},
   "outputs": [
    {
     "name": "stderr",
     "output_type": "stream",
     "text": [
      "The following objects are masked from SLEEP75:\n",
      "\n",
      "    age, agesq, black, exper, marr\n",
      "\n",
      "The following objects are masked from MLB1:\n",
      "\n",
      "    allstar, black, games\n",
      "\n",
      "The following objects are masked from WAGE2:\n",
      "\n",
      "    age, black, exper, lwage, wage\n",
      "\n"
     ]
    }
   ],
   "source": [
    "attach(nbasal) "
   ]
  },
  {
   "cell_type": "code",
   "execution_count": 60,
   "metadata": {},
   "outputs": [
    {
     "data": {
      "text/plain": [
       "\n",
       "Call:\n",
       "lm(formula = points ~ exper + I(exper^2) + guard + forward)\n",
       "\n",
       "Residuals:\n",
       "    Min      1Q  Median      3Q     Max \n",
       "-11.220  -4.268  -1.003   3.444  22.265 \n",
       "\n",
       "Coefficients:\n",
       "            Estimate Std. Error t value Pr(>|t|)    \n",
       "(Intercept)  4.76076    1.17862   4.039 7.03e-05 ***\n",
       "exper        1.28067    0.32853   3.898 0.000123 ***\n",
       "I(exper^2)  -0.07184    0.02407  -2.985 0.003106 ** \n",
       "guard        2.31469    1.00036   2.314 0.021444 *  \n",
       "forward      1.54457    1.00226   1.541 0.124492    \n",
       "---\n",
       "Signif. codes:  0 '***' 0.001 '**' 0.01 '*' 0.05 '.' 0.1 ' ' 1\n",
       "\n",
       "Residual standard error: 5.668 on 264 degrees of freedom\n",
       "Multiple R-squared:  0.09098,\tAdjusted R-squared:  0.07721 \n",
       "F-statistic: 6.606 on 4 and 264 DF,  p-value: 4.426e-05\n"
      ]
     },
     "metadata": {},
     "output_type": "display_data"
    }
   ],
   "source": [
    "fit1<-lm(points~exper+I(exper^2)+guard+forward) #拟合上述模型 \n",
    "summary(fit1) "
   ]
  },
  {
   "cell_type": "code",
   "execution_count": 61,
   "metadata": {},
   "outputs": [
    {
     "data": {
      "text/plain": [
       "\n",
       "Call:\n",
       "lm(formula = points ~ exper + I(exper^2) + guard + forward + \n",
       "    marr)\n",
       "\n",
       "Residuals:\n",
       "    Min      1Q  Median      3Q     Max \n",
       "-10.874  -4.227  -1.251   3.631  22.412 \n",
       "\n",
       "Coefficients:\n",
       "            Estimate Std. Error t value Pr(>|t|)    \n",
       "(Intercept)  4.70294    1.18174   3.980 8.93e-05 ***\n",
       "exper        1.23326    0.33421   3.690 0.000273 ***\n",
       "I(exper^2)  -0.07037    0.02416  -2.913 0.003892 ** \n",
       "guard        2.28632    1.00172   2.282 0.023265 *  \n",
       "forward      1.54091    1.00298   1.536 0.125660    \n",
       "marr         0.58427    0.74040   0.789 0.430751    \n",
       "---\n",
       "Signif. codes:  0 '***' 0.001 '**' 0.01 '*' 0.05 '.' 0.1 ' ' 1\n",
       "\n",
       "Residual standard error: 5.672 on 263 degrees of freedom\n",
       "Multiple R-squared:  0.09313,\tAdjusted R-squared:  0.07588 \n",
       "F-statistic: 5.401 on 5 and 263 DF,  p-value: 9.526e-05\n"
      ]
     },
     "metadata": {},
     "output_type": "display_data"
    }
   ],
   "source": [
    "fit2<-lm(points~exper+I(exper^2)+guard+forward+marr) #拟合上述模型 \n",
    "summary(fit2) "
   ]
  },
  {
   "cell_type": "code",
   "execution_count": 62,
   "metadata": {},
   "outputs": [
    {
     "data": {
      "text/plain": [
       "\n",
       "Call:\n",
       "lm(formula = points ~ exper + I(exper^2) + guard + forward + \n",
       "    marr + marr:exper + marr:I(exper^2))\n",
       "\n",
       "Residuals:\n",
       "    Min      1Q  Median      3Q     Max \n",
       "-10.239  -4.328  -1.067   3.742  22.197 \n",
       "\n",
       "Coefficients:\n",
       "                Estimate Std. Error t value Pr(>|t|)    \n",
       "(Intercept)      5.81615    1.34878   4.312 2.29e-05 ***\n",
       "exper            0.70255    0.43405   1.619   0.1067    \n",
       "I(exper^2)      -0.02950    0.03267  -0.903   0.3674    \n",
       "guard            2.25079    1.00002   2.251   0.0252 *  \n",
       "forward          1.62915    1.00199   1.626   0.1052    \n",
       "marr            -2.53750    2.03822  -1.245   0.2143    \n",
       "exper:marr       1.27965    0.68229   1.876   0.0618 .  \n",
       "I(exper^2):marr -0.09359    0.04887  -1.915   0.0566 .  \n",
       "---\n",
       "Signif. codes:  0 '***' 0.001 '**' 0.01 '*' 0.05 '.' 0.1 ' ' 1\n",
       "\n",
       "Residual standard error: 5.654 on 261 degrees of freedom\n",
       "Multiple R-squared:  0.1058,\tAdjusted R-squared:  0.08184 \n",
       "F-statistic: 4.413 on 7 and 261 DF,  p-value: 0.0001188\n"
      ]
     },
     "metadata": {},
     "output_type": "display_data"
    }
   ],
   "source": [
    "fit3<-lm(points~exper+I(exper^2)+guard+forward+marr+marr:exper+marr: I(exper^2)) #拟合上述模 型 \n",
    "summary(fit3) "
   ]
  },
  {
   "cell_type": "code",
   "execution_count": 63,
   "metadata": {},
   "outputs": [
    {
     "data": {
      "text/html": [
       "<table>\n",
       "<caption>A anova: 2 × 6</caption>\n",
       "<thead>\n",
       "\t<tr><th scope=col>Res.Df</th><th scope=col>RSS</th><th scope=col>Df</th><th scope=col>Sum of Sq</th><th scope=col>F</th><th scope=col>Pr(&gt;F)</th></tr>\n",
       "\t<tr><th scope=col>&lt;dbl&gt;</th><th scope=col>&lt;dbl&gt;</th><th scope=col>&lt;dbl&gt;</th><th scope=col>&lt;dbl&gt;</th><th scope=col>&lt;dbl&gt;</th><th scope=col>&lt;dbl&gt;</th></tr>\n",
       "</thead>\n",
       "<tbody>\n",
       "\t<tr><td>264</td><td>8482.253</td><td>NA</td><td>      NA</td><td>      NA</td><td>       NA</td></tr>\n",
       "\t<tr><td>261</td><td>8343.751</td><td> 3</td><td>138.5016</td><td>1.444152</td><td>0.2303481</td></tr>\n",
       "</tbody>\n",
       "</table>\n"
      ],
      "text/latex": [
       "A anova: 2 × 6\n",
       "\\begin{tabular}{r|llllll}\n",
       " Res.Df & RSS & Df & Sum of Sq & F & Pr(>F)\\\\\n",
       " <dbl> & <dbl> & <dbl> & <dbl> & <dbl> & <dbl>\\\\\n",
       "\\hline\n",
       "\t 264 & 8482.253 & NA &       NA &       NA &        NA\\\\\n",
       "\t 261 & 8343.751 &  3 & 138.5016 & 1.444152 & 0.2303481\\\\\n",
       "\\end{tabular}\n"
      ],
      "text/markdown": [
       "\n",
       "A anova: 2 × 6\n",
       "\n",
       "| Res.Df &lt;dbl&gt; | RSS &lt;dbl&gt; | Df &lt;dbl&gt; | Sum of Sq &lt;dbl&gt; | F &lt;dbl&gt; | Pr(&gt;F) &lt;dbl&gt; |\n",
       "|---|---|---|---|---|---|\n",
       "| 264 | 8482.253 | NA |       NA |       NA |        NA |\n",
       "| 261 | 8343.751 |  3 | 138.5016 | 1.444152 | 0.2303481 |\n",
       "\n"
      ],
      "text/plain": [
       "  Res.Df RSS      Df Sum of Sq F        Pr(>F)   \n",
       "1 264    8482.253 NA       NA        NA        NA\n",
       "2 261    8343.751  3 138.5016  1.444152 0.2303481"
      ]
     },
     "metadata": {},
     "output_type": "display_data"
    }
   ],
   "source": [
    "myH0 <- c(\"marr\",\" exper:marr\",\"I(exper^2):marr\") #用联合检验所涉及的变量组成向量，构成 H0。 \n",
    "linearHypothesis(fit3,myH0) "
   ]
  },
  {
   "cell_type": "code",
   "execution_count": 64,
   "metadata": {
    "scrolled": true
   },
   "outputs": [
    {
     "data": {
      "text/plain": [
       "\n",
       "Call:\n",
       "lm(formula = assists ~ exper + I(exper^2) + guard + forward + \n",
       "    marr)\n",
       "\n",
       "Residuals:\n",
       "    Min      1Q  Median      3Q     Max \n",
       "-3.3127 -1.0780 -0.3157  0.6788  8.2488 \n",
       "\n",
       "Coefficients:\n",
       "             Estimate Std. Error t value Pr(>|t|)    \n",
       "(Intercept) -0.225809   0.354904  -0.636  0.52516    \n",
       "exper        0.443603   0.100372   4.420 1.45e-05 ***\n",
       "I(exper^2)  -0.026726   0.007256  -3.683  0.00028 ***\n",
       "guard        2.491672   0.300842   8.282 6.19e-15 ***\n",
       "forward      0.447471   0.301220   1.486  0.13860    \n",
       "marr         0.321899   0.222359   1.448  0.14891    \n",
       "---\n",
       "Signif. codes:  0 '***' 0.001 '**' 0.01 '*' 0.05 '.' 0.1 ' ' 1\n",
       "\n",
       "Residual standard error: 1.704 on 263 degrees of freedom\n",
       "Multiple R-squared:  0.3499,\tAdjusted R-squared:  0.3375 \n",
       "F-statistic: 28.31 on 5 and 263 DF,  p-value: < 2.2e-16\n"
      ]
     },
     "metadata": {},
     "output_type": "display_data"
    }
   ],
   "source": [
    "fit4<-lm(assists~exper+I(exper^2)+guard+forward+marr) #拟合上述模型 \n",
    "summary(fit4) \n",
    "detach(nbasal)"
   ]
  },
  {
   "cell_type": "markdown",
   "metadata": {},
   "source": [
    "## C7.11【不同组的回归系数的差异（邹至庄检验，允许截距不同）17；多类别虚 拟变量；自定义虚拟变量】 \n",
    "\n",
    "本题利用401KSUBS.RAW 中的数据。 \n",
    "\n",
    "（1）计算样本中nettfa 的平均值、标准差、最小值和最大值。 \n",
    "\n",
    "（2）检验假设平均nettfa 不会因为401(k)资格状况而有所不同，使用双侧对立假设。估计差 异的美元数量是多少？ \n",
    "\n",
    "（3）根据计算机习题C7.9 的第（2）部分，e401k 在一个简单回归模型中显然不是外生的， 起码它随着收入和年龄而变化。以收入、年龄和e401k 作为解释变量估计nettfa 的一个多元线 性回归模型。收入和年龄应该以二次函数形式出现。现在，估计401(k)资格的美元效应是多 少？ \n",
    "\n",
    "（4）在第（3）部分的模型中，增加交互项e401k∙(age−41)和e401k∙(age−41)2。注意样 本中的平均年龄约为41 岁，所以在新模型中，e401k 的系数是401(k)资格在平均年龄处的估 计效应。哪个交互项显著？\n",
    "\n",
    "（5）比较第（3）和（4）部分的估计值，401(k)资格在41 岁处的估计效应差别大吗？请解 释。 \n",
    "\n",
    "（6）现在，从模型中去掉交互项，但定义5 个家庭规模虚拟变量：fsize1，fsize2，fsize3， fsize4 和fsize5。对有5 个或5 个以上成员的家庭，fsize5 等于1。在第（3）部分估计的模型 中，增加家庭规模虚拟变量，记得选择一个基组。这些家庭虚拟变量再1%的水平上显著吗？ \n",
    "\n",
    "（7）现在，针对模型 $$nettfa=\\beta_0+\\beta_1 inc+\\beta_2 inc^2+\\beta_3 age+\\beta_4 age^2+\\beta_5 e401k+\\mu$$在允许截距不同的情况下，做5个家庭规模类别的邹至庄检验。约束残差平方和 SSRr从第 （1）部分得到，因为那里回归假定了相同斜率。无约束残差平方和 SSRur=SSR1+SSR2+SSR3+SSR4+SSR5，其中SSRf是从仅用家庭规模f 估计的方程中得到的残差平方 和。你应该明白，无约束模型中有 30 个参数（5 个截距和25 个斜率），而约束模型中有10 个参数（5 个截距和5 个斜率）。因此，带检验的约束个数是q=20，而且无约束模型的df 为 9275-30=9245。"
   ]
  },
  {
   "cell_type": "code",
   "execution_count": 65,
   "metadata": {},
   "outputs": [
    {
     "name": "stderr",
     "output_type": "stream",
     "text": [
      "The following objects are masked from SLEEP75:\n",
      "\n",
      "    age, agesq, male, marr\n",
      "\n",
      "The following object is masked from WAGE2:\n",
      "\n",
      "    age\n",
      "\n"
     ]
    }
   ],
   "source": [
    "attach(X401ksubs) "
   ]
  },
  {
   "cell_type": "code",
   "execution_count": 66,
   "metadata": {},
   "outputs": [
    {
     "data": {
      "text/plain": [
       "\n",
       "\tWelch Two Sample t-test\n",
       "\n",
       "data:  nettfa by e401k\n",
       "t = -13.099, df = 6072.2, p-value < 2.2e-16\n",
       "alternative hypothesis: true difference in means is not equal to 0\n",
       "95 percent confidence interval:\n",
       " -21.68060 -16.03604\n",
       "sample estimates:\n",
       "mean in group 0 mean in group 1 \n",
       "       11.67677        30.53509 \n"
      ]
     },
     "metadata": {},
     "output_type": "display_data"
    }
   ],
   "source": [
    "t.test(nettfa~e401k) "
   ]
  },
  {
   "cell_type": "code",
   "execution_count": 67,
   "metadata": {},
   "outputs": [
    {
     "data": {
      "text/plain": [
       "\n",
       "Call:\n",
       "lm(formula = nettfa ~ e401k + inc + I(inc^2) + age + I(age^2))\n",
       "\n",
       "Residuals:\n",
       "    Min      1Q  Median      3Q     Max \n",
       "-516.66  -15.63   -3.27    6.05 1464.79 \n",
       "\n",
       "Coefficients:\n",
       "              Estimate Std. Error t value Pr(>|t|)    \n",
       "(Intercept) 23.0852039  9.9597050   2.318 0.020479 *  \n",
       "e401k        9.7046880  1.2774063   7.597 3.32e-14 ***\n",
       "inc         -0.2784651  0.0745386  -3.736 0.000188 ***\n",
       "I(inc^2)     0.0102601  0.0005869  17.481  < 2e-16 ***\n",
       "age         -1.9718860  0.4833774  -4.079 4.55e-05 ***\n",
       "I(age^2)     0.0347637  0.0055487   6.265 3.89e-10 ***\n",
       "---\n",
       "Signif. codes:  0 '***' 0.001 '**' 0.01 '*' 0.05 '.' 0.1 ' ' 1\n",
       "\n",
       "Residual standard error: 57.16 on 9269 degrees of freedom\n",
       "Multiple R-squared:  0.2018,\tAdjusted R-squared:  0.2014 \n",
       "F-statistic: 468.7 on 5 and 9269 DF,  p-value: < 2.2e-16\n"
      ]
     },
     "metadata": {},
     "output_type": "display_data"
    }
   ],
   "source": [
    "fit2<-lm(nettfa~e401k+inc+I(inc^2)+age+I(age^2)) #拟合上述模型 \n",
    "summary(fit2) "
   ]
  },
  {
   "cell_type": "code",
   "execution_count": 68,
   "metadata": {},
   "outputs": [
    {
     "data": {
      "text/plain": [
       "\n",
       "Call:\n",
       "lm(formula = nettfa ~ e401k + inc + I(inc^2) + age + I(age^2) + \n",
       "    e401k:I(age - 41) + e401k:I((age - 41)^2))\n",
       "\n",
       "Residuals:\n",
       "    Min      1Q  Median      3Q     Max \n",
       "-518.84  -15.03   -2.46    4.24 1460.06 \n",
       "\n",
       "Coefficients:\n",
       "                        Estimate Std. Error t value Pr(>|t|)    \n",
       "(Intercept)           34.5841055 12.1862963   2.838 0.004550 ** \n",
       "e401k                  9.9598437  1.7185238   5.796 7.03e-09 ***\n",
       "inc                   -0.2786986  0.0744393  -3.744 0.000182 ***\n",
       "I(inc^2)               0.0102310  0.0005862  17.453  < 2e-16 ***\n",
       "age                   -2.3169295  0.5908716  -3.921 8.87e-05 ***\n",
       "I(age^2)               0.0362463  0.0067812   5.345 9.25e-08 ***\n",
       "e401k:I(age - 41)      0.6541543  0.1313298   4.981 6.44e-07 ***\n",
       "e401k:I((age - 41)^2) -0.0037886  0.0116272  -0.326 0.744551    \n",
       "---\n",
       "Signif. codes:  0 '***' 0.001 '**' 0.01 '*' 0.05 '.' 0.1 ' ' 1\n",
       "\n",
       "Residual standard error: 57.08 on 9267 degrees of freedom\n",
       "Multiple R-squared:  0.2042,\tAdjusted R-squared:  0.2036 \n",
       "F-statistic: 339.7 on 7 and 9267 DF,  p-value: < 2.2e-16\n"
      ]
     },
     "metadata": {},
     "output_type": "display_data"
    }
   ],
   "source": [
    "fit3<-lm(nettfa~e401k+inc+I(inc^2)+age+I(age^2)+e401k:I(age-41)+e401k:I((age-41)^2)) #拟合上述 模型 \n",
    "summary(fit3) "
   ]
  },
  {
   "cell_type": "code",
   "execution_count": 69,
   "metadata": {},
   "outputs": [
    {
     "data": {
      "text/plain": [
       "\n",
       "Call:\n",
       "lm(formula = nettfa ~ e401k + inc + I(inc^2) + age + I(age^2) + \n",
       "    fsize2 + fsize3 + fsize4 + fsize5, data = X401ksubs)\n",
       "\n",
       "Residuals:\n",
       "    Min      1Q  Median      3Q     Max \n",
       "-517.55  -16.09   -3.16    6.48 1461.84 \n",
       "\n",
       "Coefficients:\n",
       "              Estimate Std. Error t value Pr(>|t|)    \n",
       "(Intercept) 16.3366003 10.1156944   1.615 0.106350    \n",
       "e401k        9.4552262  1.2778223   7.399 1.49e-13 ***\n",
       "inc         -0.2398681  0.0754935  -3.177 0.001491 ** \n",
       "I(inc^2)     0.0100454  0.0005894  17.042  < 2e-16 ***\n",
       "age         -1.4948962  0.4946402  -3.022 0.002516 ** \n",
       "I(age^2)     0.0289958  0.0056991   5.088 3.69e-07 ***\n",
       "fsize2      -0.8589355  1.8180426  -0.472 0.636616    \n",
       "fsize3      -4.6651684  1.8768488  -2.486 0.012949 *  \n",
       "fsize4      -6.3147523  1.8679912  -3.381 0.000727 ***\n",
       "fsize5      -7.3608891  2.1006137  -3.504 0.000460 ***\n",
       "---\n",
       "Signif. codes:  0 '***' 0.001 '**' 0.01 '*' 0.05 '.' 0.1 ' ' 1\n",
       "\n",
       "Residual standard error: 57.11 on 9265 degrees of freedom\n",
       "Multiple R-squared:  0.2037,\tAdjusted R-squared:  0.2029 \n",
       "F-statistic: 263.3 on 9 and 9265 DF,  p-value: < 2.2e-16\n"
      ]
     },
     "metadata": {},
     "output_type": "display_data"
    }
   ],
   "source": [
    "X401ksubs <-within(X401ksubs,{       \n",
    "    fsize1<-NA       \n",
    "    fsize1[fsize==1] <- 1       \n",
    "    fsize1[fsize!=1] <- 0})  #生成fsize1 \n",
    "X401ksubs <-within(X401ksubs,{       \n",
    "    fsize2<-NA       \n",
    "    fsize2[fsize==2] <- 1       \n",
    "    fsize2[fsize!=2] <- 0})  #生成fsize2 \n",
    "X401ksubs <-within(X401ksubs,{       \n",
    "    fsize3<-NA       \n",
    "    fsize3[fsize==3] <- 1       \n",
    "    fsize3[fsize!=3] <- 0})  #生成fsize3 \n",
    "X401ksubs <-within(X401ksubs,{       \n",
    "    fsize4<-NA       \n",
    "    fsize4[fsize==4] <- 1       \n",
    "    fsize4[fsize!=4] <- 0})  #生成fsize4 \n",
    "X401ksubs <-within(X401ksubs,{       \n",
    "    fsize5<-NA       \n",
    "    fsize5[fsize>=5] <- 1       \n",
    "    fsize5[fsize<5] <- 0})  #生成fsize5\n",
    "fit4<-lm(nettfa~e401k+inc+I(inc^2)+age+I(age^2)+ fsize2+ fsize3+ fsize4+ fsize5, data = X401ksubs) # 以fsize1 作为基组，拟合上述模型。 \n",
    "summary(fit4) "
   ]
  },
  {
   "cell_type": "code",
   "execution_count": 70,
   "metadata": {},
   "outputs": [
    {
     "data": {
      "text/html": [
       "<table>\n",
       "<caption>A anova: 2 × 6</caption>\n",
       "<thead>\n",
       "\t<tr><th scope=col>Res.Df</th><th scope=col>RSS</th><th scope=col>Df</th><th scope=col>Sum of Sq</th><th scope=col>F</th><th scope=col>Pr(&gt;F)</th></tr>\n",
       "\t<tr><th scope=col>&lt;dbl&gt;</th><th scope=col>&lt;dbl&gt;</th><th scope=col>&lt;dbl&gt;</th><th scope=col>&lt;dbl&gt;</th><th scope=col>&lt;dbl&gt;</th><th scope=col>&lt;dbl&gt;</th></tr>\n",
       "</thead>\n",
       "<tbody>\n",
       "\t<tr><td>9269</td><td>30286189</td><td>NA</td><td>      NA</td><td>      NA</td><td>         NA</td></tr>\n",
       "\t<tr><td>9265</td><td>30215207</td><td> 4</td><td>70981.59</td><td>5.441337</td><td>0.000225548</td></tr>\n",
       "</tbody>\n",
       "</table>\n"
      ],
      "text/latex": [
       "A anova: 2 × 6\n",
       "\\begin{tabular}{r|llllll}\n",
       " Res.Df & RSS & Df & Sum of Sq & F & Pr(>F)\\\\\n",
       " <dbl> & <dbl> & <dbl> & <dbl> & <dbl> & <dbl>\\\\\n",
       "\\hline\n",
       "\t 9269 & 30286189 & NA &       NA &       NA &          NA\\\\\n",
       "\t 9265 & 30215207 &  4 & 70981.59 & 5.441337 & 0.000225548\\\\\n",
       "\\end{tabular}\n"
      ],
      "text/markdown": [
       "\n",
       "A anova: 2 × 6\n",
       "\n",
       "| Res.Df &lt;dbl&gt; | RSS &lt;dbl&gt; | Df &lt;dbl&gt; | Sum of Sq &lt;dbl&gt; | F &lt;dbl&gt; | Pr(&gt;F) &lt;dbl&gt; |\n",
       "|---|---|---|---|---|---|\n",
       "| 9269 | 30286189 | NA |       NA |       NA |          NA |\n",
       "| 9265 | 30215207 |  4 | 70981.59 | 5.441337 | 0.000225548 |\n",
       "\n"
      ],
      "text/plain": [
       "  Res.Df RSS      Df Sum of Sq F        Pr(>F)     \n",
       "1 9269   30286189 NA       NA        NA          NA\n",
       "2 9265   30215207  4 70981.59  5.441337 0.000225548"
      ]
     },
     "metadata": {},
     "output_type": "display_data"
    }
   ],
   "source": [
    "myH0 <- c(\"fsize2\",\"fsize3\",\"fsize4\",\"fsize5\") #用联合检验所涉及的变量组成向量，构成 H0。 \n",
    "linearHypothesis(fit4,myH0) "
   ]
  },
  {
   "cell_type": "code",
   "execution_count": 72,
   "metadata": {},
   "outputs": [
    {
     "data": {
      "text/html": [
       "29985400.0661745"
      ],
      "text/latex": [
       "29985400.0661745"
      ],
      "text/markdown": [
       "29985400.0661745"
      ],
      "text/plain": [
       "[1] 29985400"
      ]
     },
     "metadata": {},
     "output_type": "display_data"
    },
    {
     "data": {
      "text/html": [
       "30215207.4982058"
      ],
      "text/latex": [
       "30215207.4982058"
      ],
      "text/markdown": [
       "30215207.4982058"
      ],
      "text/plain": [
       "[1] 30215207"
      ]
     },
     "metadata": {},
     "output_type": "display_data"
    }
   ],
   "source": [
    "fit4.1<-lm(nettfa~e401k+inc+I(inc^2)+age+I(age^2), data = X401ksubs, subset=(fsize==1))  #拟合第一组fsize 为1 的子样本 \n",
    "fit4.2<-lm(nettfa~e401k+inc+I(inc^2)+age+I(age^2), data = X401ksubs, subset=(fsize==2)) #拟合第二组fsize 为2 的子样本 \n",
    "fit4.3<-lm(nettfa~e401k+inc+I(inc^2)+age+I(age^2), data = X401ksubs, subset=(fsize==3)) #拟合第三组fsize 为3 的子样本 \n",
    "fit4.4<-lm(nettfa~e401k+inc+I(inc^2)+age+I(age^2), data = X401ksubs, subset=(fsize==4)) #拟合第四组fsize 为4 的子样本 \n",
    "fit4.5<-lm(nettfa~e401k+inc+I(inc^2)+age+I(age^2), data = X401ksubs, subset=(fsize>=5)) \n",
    "ssr4.1<- sum(residuals(fit4.1)^2)  #获得 SSR1 \n",
    "ssr4.2<- sum(residuals(fit4.2)^2) #获得SSR2 \n",
    "ssr4.3<- sum(residuals(fit4.3)^2) #获得SSR3 \n",
    "ssr4.4<- sum(residuals(fit4.4)^2) #获得SSR4 \n",
    "ssr4.5<- sum(residuals(fit4.5)^2) #获得SSR5 \n",
    "sum(ssr4.1,ssr4.2,ssr4.3,ssr4.4,ssr4.5) \n",
    "fit4<-lm(nettfa~e401k+inc+I(inc^2)+age+I(age^2)+ fsize2+ fsize3+ fsize4+ fsize5, data = X401ksubs) # 拟合约束残差平方和所需的方程 \n",
    "ssr4<- sum(residuals(fit4)^2) \n",
    "ssr4"
   ]
  },
  {
   "cell_type": "code",
   "execution_count": 73,
   "metadata": {},
   "outputs": [],
   "source": [
    "detach(X401ksubs)"
   ]
  },
  {
   "cell_type": "markdown",
   "metadata": {},
   "source": [
    "## C7.12【因变量为 log(y)时对虚拟变量系数的解释；条件计数】\n",
    "本题利用BEAUTY.RAW 中的数据集，它包含了 Hamermesh and Biddle（1994）报告变量的一个 子集（但比其报告回归中的观测更加有用）。 \n",
    "\n",
    "（1）分别求男女相貌在一般水平之上的比例。相貌在一般水平之上和之下的人哪个更多？ \n",
    "\n",
    "（2）检验假设：男女相貌在一般水平上的总体比例相同。报告女人比例更高的单侧p 值。 （提示：估计一个简单的线性概率模型最容易。） \n",
    "\n",
    "（3）现在针对男女分别估计模型 $$log(wage)=\\beta_0+\\beta_1 belavg+\\beta_2 abvavg+\\mu$$并以通常方式报告结果。在两种情形中 结实belavg 的系数。用语言解释假设$H_0:\\beta_=0$相对$H_1:\\beta_1<0$的含义，并分别求出p值。\n",
    "\n",
    "（ 4）有一般相貌之上的女人比相貌一般的女人工资更高的充分证据吗？请解释。 \n",
    "\n",
    "（5）对男人和女人都增加解释变量 educ，exper，exper2，union，goodhlth，black，married， south，bigcity，smllcity 和service。“相貌”变量的影响有重要变化吗"
   ]
  },
  {
   "cell_type": "code",
   "execution_count": 77,
   "metadata": {},
   "outputs": [
    {
     "name": "stderr",
     "output_type": "stream",
     "text": [
      "The following objects are masked from beauty (pos = 3):\n",
      "\n",
      "    abvavg, belavg, bigcity, black, educ, exper, expersq, female,\n",
      "    goodhlth, looks, lwage, married, service, smllcity, south, union,\n",
      "    wage\n",
      "\n",
      "The following objects are masked from SLEEP75:\n",
      "\n",
      "    black, educ, exper, south, union\n",
      "\n",
      "The following object is masked from MLB1:\n",
      "\n",
      "    black\n",
      "\n",
      "The following objects are masked from WAGE2:\n",
      "\n",
      "    black, educ, exper, lwage, married, south, wage\n",
      "\n"
     ]
    }
   ],
   "source": [
    "attach(beauty) \n",
    "f<-subset(beauty,female==1) #将女性样本保存在数据集f 中 \n",
    "m<-subset(beauty,female==0) #将男性样本保存在数据集m 中 "
   ]
  },
  {
   "cell_type": "code",
   "execution_count": 75,
   "metadata": {},
   "outputs": [
    {
     "data": {
      "text/plain": [
       "\n",
       "Call:\n",
       "lm(formula = abvavg ~ female, data = beauty)\n",
       "\n",
       "Residuals:\n",
       "    Min      1Q  Median      3Q     Max \n",
       "-0.3303 -0.2900 -0.2900  0.6697  0.7099 \n",
       "\n",
       "Coefficients:\n",
       "            Estimate Std. Error t value Pr(>|t|)    \n",
       "(Intercept)  0.29005    0.01602  18.102   <2e-16 ***\n",
       "female       0.04023    0.02724   1.477     0.14    \n",
       "---\n",
       "Signif. codes:  0 '***' 0.001 '**' 0.01 '*' 0.05 '.' 0.1 ' ' 1\n",
       "\n",
       "Residual standard error: 0.4599 on 1258 degrees of freedom\n",
       "Multiple R-squared:  0.001731,\tAdjusted R-squared:  0.0009373 \n",
       "F-statistic: 2.181 on 1 and 1258 DF,  p-value: 0.14\n"
      ]
     },
     "metadata": {},
     "output_type": "display_data"
    }
   ],
   "source": [
    "fit1<-lm(abvavg~female, data=beauty) #拟合上述模型 \n",
    "summary(fit1) "
   ]
  },
  {
   "cell_type": "code",
   "execution_count": 78,
   "metadata": {},
   "outputs": [
    {
     "data": {
      "text/plain": [
       "\n",
       "Call:\n",
       "lm(formula = log(wage) ~ belavg + abvavg, data = f)\n",
       "\n",
       "Residuals:\n",
       "     Min       1Q   Median       3Q      Max \n",
       "-1.28901 -0.37834  0.01294  0.33792  3.01065 \n",
       "\n",
       "Coefficients:\n",
       "            Estimate Std. Error t value Pr(>|t|)    \n",
       "(Intercept)  1.30882    0.03425  38.212   <2e-16 ***\n",
       "belavg      -0.13763    0.07620  -1.806   0.0716 .  \n",
       "abvavg       0.03364    0.05542   0.607   0.5442    \n",
       "---\n",
       "Signif. codes:  0 '***' 0.001 '**' 0.01 '*' 0.05 '.' 0.1 ' ' 1\n",
       "\n",
       "Residual standard error: 0.5228 on 433 degrees of freedom\n",
       "Multiple R-squared:  0.0105,\tAdjusted R-squared:  0.005929 \n",
       "F-statistic: 2.297 on 2 and 433 DF,  p-value: 0.1018\n"
      ]
     },
     "metadata": {},
     "output_type": "display_data"
    }
   ],
   "source": [
    "fit2<-lm(log(wage)~belavg+abvavg, data=f) #对女性样本拟合上述模型。 \n",
    "summary(fit2) "
   ]
  },
  {
   "cell_type": "code",
   "execution_count": 79,
   "metadata": {},
   "outputs": [
    {
     "data": {
      "text/plain": [
       "\n",
       "Call:\n",
       "lm(formula = log(wage) ~ belavg + abvavg, data = m)\n",
       "\n",
       "Residuals:\n",
       "     Min       1Q   Median       3Q      Max \n",
       "-1.83509 -0.33419  0.01726  0.31308  1.88990 \n",
       "\n",
       "Coefficients:\n",
       "            Estimate Std. Error t value Pr(>|t|)    \n",
       "(Intercept)  1.88388    0.02430  77.541  < 2e-16 ***\n",
       "belavg      -0.19874    0.05997  -3.314 0.000961 ***\n",
       "abvavg      -0.04400    0.04240  -1.038 0.299744    \n",
       "---\n",
       "Signif. codes:  0 '***' 0.001 '**' 0.01 '*' 0.05 '.' 0.1 ' ' 1\n",
       "\n",
       "Residual standard error: 0.5372 on 821 degrees of freedom\n",
       "Multiple R-squared:  0.01329,\tAdjusted R-squared:  0.01089 \n",
       "F-statistic: 5.529 on 2 and 821 DF,  p-value: 0.004121\n"
      ]
     },
     "metadata": {},
     "output_type": "display_data"
    }
   ],
   "source": [
    "fit3<-lm(log(wage)~belavg+abvavg, data=m) #对男性样本拟合上述模型。 \n",
    "summary(fit3)"
   ]
  },
  {
   "cell_type": "code",
   "execution_count": 83,
   "metadata": {},
   "outputs": [
    {
     "data": {
      "text/plain": [
       "\n",
       "Call:\n",
       "lm(formula = log(wage) ~ belavg + abvavg + educ + exper + I(exper^2) + \n",
       "    union + goodhlth + black + married + south + bigcity + smllcity + \n",
       "    service, data = f)\n",
       "\n",
       "Residuals:\n",
       "     Min       1Q   Median       3Q      Max \n",
       "-1.27677 -0.24954  0.02958  0.27802  2.62433 \n",
       "\n",
       "Coefficients:\n",
       "              Estimate Std. Error t value Pr(>|t|)    \n",
       "(Intercept) -0.1027681  0.1468322  -0.700  0.48437    \n",
       "belavg      -0.1151564  0.0659892  -1.745  0.08170 .  \n",
       "abvavg       0.0575209  0.0486396   1.183  0.23764    \n",
       "educ         0.0769358  0.0096002   8.014 1.10e-14 ***\n",
       "exper        0.0300475  0.0071111   4.225 2.92e-05 ***\n",
       "I(exper^2)  -0.0005099  0.0001738  -2.933  0.00354 ** \n",
       "union        0.2843611  0.0533803   5.327 1.63e-07 ***\n",
       "goodhlth     0.1279672  0.0812891   1.574  0.11619    \n",
       "black        0.1058475  0.0699387   1.513  0.13092    \n",
       "married     -0.0549753  0.0440234  -1.249  0.21244    \n",
       "south       -0.0044875  0.0596276  -0.075  0.94004    \n",
       "bigcity      0.1722930  0.0637217   2.704  0.00713 ** \n",
       "smllcity     0.0130385  0.0501571   0.260  0.79503    \n",
       "service     -0.0907493  0.0466802  -1.944  0.05255 .  \n",
       "---\n",
       "Signif. codes:  0 '***' 0.001 '**' 0.01 '*' 0.05 '.' 0.1 ' ' 1\n",
       "\n",
       "Residual standard error: 0.4453 on 422 degrees of freedom\n",
       "Multiple R-squared:  0.3003,\tAdjusted R-squared:  0.2787 \n",
       "F-statistic: 13.93 on 13 and 422 DF,  p-value: < 2.2e-16\n"
      ]
     },
     "metadata": {},
     "output_type": "display_data"
    }
   ],
   "source": [
    "fit4<-lm(log(wage)~belavg+abvavg+educ+exper+I(exper^2)+union+goodhlth+black+married+south+bigcity+smllcity+service, data=f)\n",
    "summary(fit4)"
   ]
  },
  {
   "cell_type": "code",
   "execution_count": 84,
   "metadata": {},
   "outputs": [
    {
     "data": {
      "text/plain": [
       "\n",
       "Call:\n",
       "lm(formula = log(wage) ~ belavg + abvavg + educ + exper + I(exper^2) + \n",
       "    union + goodhlth + black + married + south + bigcity + smllcity + \n",
       "    service, data = m)\n",
       "\n",
       "Residuals:\n",
       "     Min       1Q   Median       3Q      Max \n",
       "-1.45428 -0.27437 -0.00459  0.24240  1.78362 \n",
       "\n",
       "Coefficients:\n",
       "              Estimate Std. Error t value Pr(>|t|)    \n",
       "(Intercept)  0.3580113  0.1186755   3.017 0.002635 ** \n",
       "belavg      -0.1433863  0.0511537  -2.803 0.005183 ** \n",
       "abvavg      -0.0010065  0.0366042  -0.027 0.978070    \n",
       "educ         0.0603151  0.0067508   8.934  < 2e-16 ***\n",
       "exper        0.0494652  0.0056001   8.833  < 2e-16 ***\n",
       "I(exper^2)  -0.0007947  0.0001195  -6.652 5.33e-11 ***\n",
       "union        0.1091750  0.0353588   3.088 0.002086 ** \n",
       "goodhlth     0.0012040  0.0677443   0.018 0.985824    \n",
       "black       -0.2771892  0.0732513  -3.784 0.000166 ***\n",
       "married      0.0824294  0.0428054   1.926 0.054494 .  \n",
       "south        0.1037158  0.0416670   2.489 0.013004 *  \n",
       "bigcity      0.2734916  0.0452305   6.047 2.26e-09 ***\n",
       "smllcity     0.1346177  0.0374577   3.594 0.000346 ***\n",
       "service     -0.2089609  0.0428775  -4.873 1.32e-06 ***\n",
       "---\n",
       "Signif. codes:  0 '***' 0.001 '**' 0.01 '*' 0.05 '.' 0.1 ' ' 1\n",
       "\n",
       "Residual standard error: 0.4528 on 810 degrees of freedom\n",
       "Multiple R-squared:  0.3084,\tAdjusted R-squared:  0.2973 \n",
       "F-statistic: 27.79 on 13 and 810 DF,  p-value: < 2.2e-16\n"
      ]
     },
     "metadata": {},
     "output_type": "display_data"
    }
   ],
   "source": [
    "fit5<-lm(log(wage)~belavg+abvavg+educ+exper+I(exper^2)+union+goodhlth+black+married+south+bigcity+smllcity+service, data=m) #对男性样本拟合上述模型。 \n",
    "summary(fit5) "
   ]
  },
  {
   "cell_type": "code",
   "execution_count": 85,
   "metadata": {},
   "outputs": [],
   "source": [
    "detach(beauty)"
   ]
  },
  {
   "cell_type": "markdown",
   "metadata": {},
   "source": [
    "## C7.13【频数列联表；线性概率模型（LPM）；条件计数及比例】 \n",
    "\n",
    "回答本题需用APPLE.RAW 中的数据。 \n",
    "\n",
    "（1）定义一个二值变量 ecobuy 再ecolbs>0 时取1，在ecolbs=0 时取0。换言之，在给定价格 下，ecobuy 标志着一个家庭是否购买环保苹果。多大比例的家庭声称要买环保苹果？ \n",
    "\n",
    "（2）估计线性概率模型 $$ecobuy=\\beta_0+\\beta_1 ecoprc+\\beta_2 regprc+ \\beta_3 faminc+\\beta_4 hhsize+\\beta_5 educ+\\beta_6 age+\\mu$$ 并以通常的形式报告结果。仔细解释价格变量的系数。 \n",
    "\n",
    "（3）在LPM 中，非价格变量联合显著吗？（尽管存在异方差时，通常的F 统计量并非有效， 但我们还是使用它。）除价格变量外，哪个解释变量对购买环保苹果的决策具有最重要的影 响？你认为这合理吗？ \n",
    "\n",
    "（4）在第（2）部分的模型中，用log(faminc)取代faminc。使用faminc 和log(faminc)，哪个模 型对数据的拟合更好？解释log(faminc)的系数。 \n",
    "\n",
    "（5）在第（4）部分的估计中，有多少估计概率为负？多少大于1？应该引起你的主意吗？ \n",
    "\n",
    "（6）对于第（5）部分中的估计，计算结果ecobuy=0 和ecobuy=1 的正确预测百分比。模型预 测哪个结果最好？ \n",
    " "
   ]
  },
  {
   "cell_type": "code",
   "execution_count": 87,
   "metadata": {},
   "outputs": [
    {
     "name": "stderr",
     "output_type": "stream",
     "text": [
      "The following object is masked from beauty:\n",
      "\n",
      "    educ\n",
      "\n",
      "The following objects are masked from SLEEP75:\n",
      "\n",
      "    age, educ, male\n",
      "\n",
      "The following objects are masked from WAGE2:\n",
      "\n",
      "    age, educ\n",
      "\n"
     ]
    }
   ],
   "source": [
    "APPLE <- read_dta(\"C:/Users/bradl/SRM/data/APPLE.DTA\")\n",
    "attach(APPLE) "
   ]
  },
  {
   "cell_type": "code",
   "execution_count": 88,
   "metadata": {},
   "outputs": [
    {
     "data": {
      "text/html": [
       "0.624242424242424"
      ],
      "text/latex": [
       "0.624242424242424"
      ],
      "text/markdown": [
       "0.624242424242424"
      ],
      "text/plain": [
       "[1] 0.6242424"
      ]
     },
     "metadata": {},
     "output_type": "display_data"
    }
   ],
   "source": [
    "APPLE <-within(APPLE,{       \n",
    "    ecobuy<-NA       \n",
    "    ecobuy [ecolbs>0] <- 1       \n",
    "    ecobuy [ecolbs==0] <- 0}) \n",
    "sum(APPLE$ecobuy==1)/length (APPLE$ecobuy) "
   ]
  },
  {
   "cell_type": "code",
   "execution_count": 89,
   "metadata": {},
   "outputs": [
    {
     "data": {
      "text/plain": [
       "\n",
       "Call:\n",
       "lm(formula = ecobuy ~ ecoprc + regprc + faminc + hhsize + educ + \n",
       "    age, data = APPLE)\n",
       "\n",
       "Residuals:\n",
       "    Min      1Q  Median      3Q     Max \n",
       "-1.0709 -0.4648  0.1936  0.3670  0.7141 \n",
       "\n",
       "Coefficients:\n",
       "              Estimate Std. Error t value Pr(>|t|)    \n",
       "(Intercept)  0.4236865  0.1649674   2.568  0.01044 *  \n",
       "ecoprc      -0.8026219  0.1094037  -7.336 6.54e-13 ***\n",
       "regprc       0.7192675  0.1316390   5.464 6.63e-08 ***\n",
       "faminc       0.0005518  0.0005295   1.042  0.29777    \n",
       "hhsize       0.0238227  0.0125262   1.902  0.05763 .  \n",
       "educ         0.0247849  0.0083743   2.960  0.00319 ** \n",
       "age         -0.0005008  0.0012499  -0.401  0.68881    \n",
       "---\n",
       "Signif. codes:  0 '***' 0.001 '**' 0.01 '*' 0.05 '.' 0.1 ' ' 1\n",
       "\n",
       "Residual standard error: 0.4594 on 653 degrees of freedom\n",
       "Multiple R-squared:  0.1098,\tAdjusted R-squared:  0.1016 \n",
       "F-statistic: 13.43 on 6 and 653 DF,  p-value: 2.176e-14\n"
      ]
     },
     "metadata": {},
     "output_type": "display_data"
    }
   ],
   "source": [
    "fit1<-lm(ecobuy~ecoprc+regprc+faminc+hhsize+educ+age, data=APPLE) #拟合上述模型 \n",
    "summary(fit1) "
   ]
  },
  {
   "cell_type": "code",
   "execution_count": 90,
   "metadata": {},
   "outputs": [
    {
     "data": {
      "text/html": [
       "<table>\n",
       "<caption>A anova: 2 × 6</caption>\n",
       "<thead>\n",
       "\t<tr><th scope=col>Res.Df</th><th scope=col>RSS</th><th scope=col>Df</th><th scope=col>Sum of Sq</th><th scope=col>F</th><th scope=col>Pr(&gt;F)</th></tr>\n",
       "\t<tr><th scope=col>&lt;dbl&gt;</th><th scope=col>&lt;dbl&gt;</th><th scope=col>&lt;dbl&gt;</th><th scope=col>&lt;dbl&gt;</th><th scope=col>&lt;dbl&gt;</th><th scope=col>&lt;dbl&gt;</th></tr>\n",
       "</thead>\n",
       "<tbody>\n",
       "\t<tr><td>657</td><td>141.5477</td><td>NA</td><td>      NA</td><td>      NA</td><td>        NA</td></tr>\n",
       "\t<tr><td>653</td><td>137.8101</td><td> 4</td><td>3.737589</td><td>4.427551</td><td>0.00154432</td></tr>\n",
       "</tbody>\n",
       "</table>\n"
      ],
      "text/latex": [
       "A anova: 2 × 6\n",
       "\\begin{tabular}{r|llllll}\n",
       " Res.Df & RSS & Df & Sum of Sq & F & Pr(>F)\\\\\n",
       " <dbl> & <dbl> & <dbl> & <dbl> & <dbl> & <dbl>\\\\\n",
       "\\hline\n",
       "\t 657 & 141.5477 & NA &       NA &       NA &         NA\\\\\n",
       "\t 653 & 137.8101 &  4 & 3.737589 & 4.427551 & 0.00154432\\\\\n",
       "\\end{tabular}\n"
      ],
      "text/markdown": [
       "\n",
       "A anova: 2 × 6\n",
       "\n",
       "| Res.Df &lt;dbl&gt; | RSS &lt;dbl&gt; | Df &lt;dbl&gt; | Sum of Sq &lt;dbl&gt; | F &lt;dbl&gt; | Pr(&gt;F) &lt;dbl&gt; |\n",
       "|---|---|---|---|---|---|\n",
       "| 657 | 141.5477 | NA |       NA |       NA |         NA |\n",
       "| 653 | 137.8101 |  4 | 3.737589 | 4.427551 | 0.00154432 |\n",
       "\n"
      ],
      "text/plain": [
       "  Res.Df RSS      Df Sum of Sq F        Pr(>F)    \n",
       "1 657    141.5477 NA       NA        NA         NA\n",
       "2 653    137.8101  4 3.737589  4.427551 0.00154432"
      ]
     },
     "metadata": {},
     "output_type": "display_data"
    }
   ],
   "source": [
    "myH0 <- c(\"faminc\",\"hhsize\",\"educ\",\"age\")  #用联合检验所涉及的变量组成向量，构成 H0。 \n",
    "linearHypothesis(fit1,myH0) "
   ]
  },
  {
   "cell_type": "code",
   "execution_count": 91,
   "metadata": {},
   "outputs": [
    {
     "data": {
      "text/plain": [
       "\n",
       "Call:\n",
       "lm(formula = ecobuy ~ ecoprc + regprc + log(faminc) + hhsize + \n",
       "    educ + age, data = APPLE)\n",
       "\n",
       "Residuals:\n",
       "    Min      1Q  Median      3Q     Max \n",
       "-1.0507 -0.4729  0.1950  0.3648  0.7121 \n",
       "\n",
       "Coefficients:\n",
       "              Estimate Std. Error t value Pr(>|t|)    \n",
       "(Intercept)  0.3037519  0.1789605   1.697  0.09011 .  \n",
       "ecoprc      -0.8006664  0.1092981  -7.326 7.04e-13 ***\n",
       "regprc       0.7213770  0.1315196   5.485 5.92e-08 ***\n",
       "log(faminc)  0.0445162  0.0287239   1.550  0.12167    \n",
       "hhsize       0.0227002  0.0125430   1.810  0.07079 .  \n",
       "educ         0.0230930  0.0084508   2.733  0.00645 ** \n",
       "age         -0.0003865  0.0012517  -0.309  0.75758    \n",
       "---\n",
       "Signif. codes:  0 '***' 0.001 '**' 0.01 '*' 0.05 '.' 0.1 ' ' 1\n",
       "\n",
       "Residual standard error: 0.4589 on 653 degrees of freedom\n",
       "Multiple R-squared:  0.1116,\tAdjusted R-squared:  0.1034 \n",
       "F-statistic: 13.67 on 6 and 653 DF,  p-value: 1.165e-14\n"
      ]
     },
     "metadata": {},
     "output_type": "display_data"
    }
   ],
   "source": [
    "fit2<-lm(ecobuy~ecoprc+regprc+log(faminc)+hhsize+educ+age, data=APPLE) \n",
    "summary(fit2) "
   ]
  },
  {
   "cell_type": "code",
   "execution_count": 92,
   "metadata": {},
   "outputs": [
    {
     "data": {
      "text/html": [
       "0.00303030303030303"
      ],
      "text/latex": [
       "0.00303030303030303"
      ],
      "text/markdown": [
       "0.00303030303030303"
      ],
      "text/plain": [
       "[1] 0.003030303"
      ]
     },
     "metadata": {},
     "output_type": "display_data"
    },
    {
     "data": {
      "text/html": [
       "0"
      ],
      "text/latex": [
       "0"
      ],
      "text/markdown": [
       "0"
      ],
      "text/plain": [
       "[1] 0"
      ]
     },
     "metadata": {},
     "output_type": "display_data"
    }
   ],
   "source": [
    "a<-fitted(fit2) #把fit2 的拟合值保存在a 中 \n",
    "sum(a>1)/length (a) #计算有多大比例的估计值大于1，结果为0.003030303。这是很小的比 例，不足以担心。 \n",
    "sum(a<0)/length (a) "
   ]
  },
  {
   "cell_type": "code",
   "execution_count": 93,
   "metadata": {},
   "outputs": [
    {
     "name": "stdout",
     "output_type": "stream",
     "text": [
      "\n",
      " \n",
      "   Cell Contents\n",
      "|-------------------------|\n",
      "|                       N |\n",
      "| Chi-square contribution |\n",
      "|           N / Row Total |\n",
      "|           N / Col Total |\n",
      "|         N / Table Total |\n",
      "|-------------------------|\n",
      "\n",
      " \n",
      "Total Observations in Table:  660 \n",
      "\n",
      " \n",
      "             | APPLE$b \n",
      "APPLE$ecobuy |         0 |         1 | Row Total | \n",
      "-------------|-----------|-----------|-----------|\n",
      "           0 |       102 |       146 |       248 | \n",
      "             |    20.509 |     7.343 |           | \n",
      "             |     0.411 |     0.589 |     0.376 | \n",
      "             |     0.586 |     0.300 |           | \n",
      "             |     0.155 |     0.221 |           | \n",
      "-------------|-----------|-----------|-----------|\n",
      "           1 |        72 |       340 |       412 | \n",
      "             |    12.345 |     4.420 |           | \n",
      "             |     0.175 |     0.825 |     0.624 | \n",
      "             |     0.414 |     0.700 |           | \n",
      "             |     0.109 |     0.515 |           | \n",
      "-------------|-----------|-----------|-----------|\n",
      "Column Total |       174 |       486 |       660 | \n",
      "             |     0.264 |     0.736 |           | \n",
      "-------------|-----------|-----------|-----------|\n",
      "\n",
      " \n"
     ]
    }
   ],
   "source": [
    "APPLE<-cbind(APPLE, a) #将拟合值a 与APPLE 进行列合并 \n",
    "APPLE <-within(APPLE,{       \n",
    "    b<-NA       \n",
    "    b[a>=0.5] <- 1       \n",
    "    b[a<0.5] <- 0}) \n",
    "library(gmodels) #使用gmodels 的CrossTable()创建二维列联表 19 \n",
    "CrossTable(APPLE$ecobuy,APPLE$b) \n",
    "detach(APPLE)"
   ]
  },
  {
   "cell_type": "markdown",
   "metadata": {},
   "source": [
    "## C7.14【多元回归】 \n",
    "利用CHARITY.RAW 中的数据回答本题。变量respond 是一个虚拟变量，如果一个人对慈善组 织最近的邮件做出捐助相应，这个变量就等于 1。变量resplast 也是一个虚拟变量，如果一个 人对慈善组织前面的邮件做出捐助相应，这个变量就等于 1。avggift 表示过去的平均捐助额 （以荷兰盾为单位），propresp 表示此人对过去慈善组织寄来的邮件做出捐助相应的次数比 例。 \n",
    "\n",
    "（1）估计一个将respond 与resplast 和avggift 联系起来的线性概率模型。以通常的形式报告 结果，并解释变量resplast 的系数。 \n",
    "\n",
    "（2）过去捐助的平均水平看来会影响做出捐助相应的概率吗？ \n",
    "\n",
    "（3）在模型中增加变量 propresp 并解释其系数。（这里须注意，propresp 增加1 是最大可能 变化。） \n",
    "\n",
    "（4）在回归中增加propresp 以后，resplast 的系数有何变化？这讲得过去吗？ \n",
    "\n",
    "（5）在模型中增加每年寄出邮件的数量mailsyear。它的估计影响有多大？为什么它不是邮件 数量对响应的因果关系的一个较好的估计？ "
   ]
  },
  {
   "cell_type": "code",
   "execution_count": 94,
   "metadata": {},
   "outputs": [],
   "source": [
    "attach(charity) "
   ]
  },
  {
   "cell_type": "code",
   "execution_count": 95,
   "metadata": {},
   "outputs": [
    {
     "data": {
      "text/plain": [
       "\n",
       "Call:\n",
       "lm(formula = respond ~ resplast + avggift)\n",
       "\n",
       "Residuals:\n",
       "    Min      1Q  Median      3Q     Max \n",
       "-0.6565 -0.2854 -0.2836  0.3727  0.7176 \n",
       "\n",
       "Coefficients:\n",
       "             Estimate Std. Error t value Pr(>|t|)    \n",
       "(Intercept) 2.821e-01  8.838e-03  31.918   <2e-16 ***\n",
       "resplast    3.437e-01  1.500e-02  22.918   <2e-16 ***\n",
       "avggift     1.536e-04  8.993e-05   1.708   0.0877 .  \n",
       "---\n",
       "Signif. codes:  0 '***' 0.001 '**' 0.01 '*' 0.05 '.' 0.1 ' ' 1\n",
       "\n",
       "Residual standard error: 0.4623 on 4265 degrees of freedom\n",
       "Multiple R-squared:  0.1101,\tAdjusted R-squared:  0.1097 \n",
       "F-statistic: 263.8 on 2 and 4265 DF,  p-value: < 2.2e-16\n"
      ]
     },
     "metadata": {},
     "output_type": "display_data"
    },
    {
     "data": {
      "text/html": [
       "<dl class=dl-horizontal>\n",
       "\t<dt>(Intercept)</dt>\n",
       "\t\t<dd>0.2821</dd>\n",
       "\t<dt>resplast</dt>\n",
       "\t\t<dd>0.3437</dd>\n",
       "\t<dt>avggift</dt>\n",
       "\t\t<dd>2e-04</dd>\n",
       "</dl>\n"
      ],
      "text/latex": [
       "\\begin{description*}\n",
       "\\item[(Intercept)] 0.2821\n",
       "\\item[resplast] 0.3437\n",
       "\\item[avggift] 2e-04\n",
       "\\end{description*}\n"
      ],
      "text/markdown": [
       "(Intercept)\n",
       ":   0.2821resplast\n",
       ":   0.3437avggift\n",
       ":   2e-04\n",
       "\n"
      ],
      "text/plain": [
       "(Intercept)    resplast     avggift \n",
       "     0.2821      0.3437      0.0002 "
      ]
     },
     "metadata": {},
     "output_type": "display_data"
    }
   ],
   "source": [
    "fit1<-lm(respond~resplast+avggift) #拟合上述模型 \n",
    "summary(fit1) #查看拟合结果，R-squared:  0.1101。 \n",
    "round(fit1$coefficients,4) "
   ]
  },
  {
   "cell_type": "code",
   "execution_count": 96,
   "metadata": {},
   "outputs": [
    {
     "data": {
      "text/plain": [
       "\n",
       "Call:\n",
       "lm(formula = respond ~ resplast + avggift + propresp)\n",
       "\n",
       "Residuals:\n",
       "    Min      1Q  Median      3Q     Max \n",
       "-0.8616 -0.3057 -0.1539  0.3989  0.9100 \n",
       "\n",
       "Coefficients:\n",
       "             Estimate Std. Error t value Pr(>|t|)    \n",
       "(Intercept) 2.304e-03  1.512e-02   0.152   0.8789    \n",
       "resplast    9.467e-02  1.809e-02   5.234 1.74e-07 ***\n",
       "avggift     1.820e-04  8.515e-05   2.138   0.0326 *  \n",
       "propresp    7.487e-01  3.369e-02  22.221  < 2e-16 ***\n",
       "---\n",
       "Signif. codes:  0 '***' 0.001 '**' 0.01 '*' 0.05 '.' 0.1 ' ' 1\n",
       "\n",
       "Residual standard error: 0.4377 on 4264 degrees of freedom\n",
       "Multiple R-squared:  0.2024,\tAdjusted R-squared:  0.2019 \n",
       "F-statistic: 360.8 on 3 and 4264 DF,  p-value: < 2.2e-16\n"
      ]
     },
     "metadata": {},
     "output_type": "display_data"
    },
    {
     "data": {
      "text/html": [
       "<dl class=dl-horizontal>\n",
       "\t<dt>(Intercept)</dt>\n",
       "\t\t<dd>0.0023</dd>\n",
       "\t<dt>resplast</dt>\n",
       "\t\t<dd>0.0947</dd>\n",
       "\t<dt>avggift</dt>\n",
       "\t\t<dd>2e-04</dd>\n",
       "\t<dt>propresp</dt>\n",
       "\t\t<dd>0.7487</dd>\n",
       "</dl>\n"
      ],
      "text/latex": [
       "\\begin{description*}\n",
       "\\item[(Intercept)] 0.0023\n",
       "\\item[resplast] 0.0947\n",
       "\\item[avggift] 2e-04\n",
       "\\item[propresp] 0.7487\n",
       "\\end{description*}\n"
      ],
      "text/markdown": [
       "(Intercept)\n",
       ":   0.0023resplast\n",
       ":   0.0947avggift\n",
       ":   2e-04propresp\n",
       ":   0.7487\n",
       "\n"
      ],
      "text/plain": [
       "(Intercept)    resplast     avggift    propresp \n",
       "     0.0023      0.0947      0.0002      0.7487 "
      ]
     },
     "metadata": {},
     "output_type": "display_data"
    }
   ],
   "source": [
    "fit2<-lm(respond~resplast+avggift+propresp) #拟合上述模型 \n",
    "summary(fit2) #查看拟合结果，R-squared:  0.2024。 \n",
    "round(fit2$coefficients,4)"
   ]
  },
  {
   "cell_type": "code",
   "execution_count": 97,
   "metadata": {},
   "outputs": [
    {
     "data": {
      "text/plain": [
       "\n",
       "Call:\n",
       "lm(formula = respond ~ resplast + avggift + propresp + mailsyear)\n",
       "\n",
       "Residuals:\n",
       "    Min      1Q  Median      3Q     Max \n",
       "-0.9159 -0.3233 -0.1081  0.3864  0.9034 \n",
       "\n",
       "Coefficients:\n",
       "              Estimate Std. Error t value Pr(>|t|)    \n",
       "(Intercept) -1.172e-01  2.451e-02  -4.782 1.79e-06 ***\n",
       "resplast     9.866e-02  1.802e-02   5.475 4.62e-08 ***\n",
       "avggift      1.700e-04  8.481e-05   2.005   0.0451 *  \n",
       "propresp     7.307e-01  3.367e-02  21.700  < 2e-16 ***\n",
       "mailsyear    6.201e-02  1.004e-02   6.179 7.07e-10 ***\n",
       "---\n",
       "Signif. codes:  0 '***' 0.001 '**' 0.01 '*' 0.05 '.' 0.1 ' ' 1\n",
       "\n",
       "Residual standard error: 0.4358 on 4263 degrees of freedom\n",
       "Multiple R-squared:  0.2095,\tAdjusted R-squared:  0.2088 \n",
       "F-statistic: 282.5 on 4 and 4263 DF,  p-value: < 2.2e-16\n"
      ]
     },
     "metadata": {},
     "output_type": "display_data"
    },
    {
     "data": {
      "text/html": [
       "<dl class=dl-horizontal>\n",
       "\t<dt>(Intercept)</dt>\n",
       "\t\t<dd>-0.1172</dd>\n",
       "\t<dt>resplast</dt>\n",
       "\t\t<dd>0.0987</dd>\n",
       "\t<dt>avggift</dt>\n",
       "\t\t<dd>2e-04</dd>\n",
       "\t<dt>propresp</dt>\n",
       "\t\t<dd>0.7307</dd>\n",
       "\t<dt>mailsyear</dt>\n",
       "\t\t<dd>0.062</dd>\n",
       "</dl>\n"
      ],
      "text/latex": [
       "\\begin{description*}\n",
       "\\item[(Intercept)] -0.1172\n",
       "\\item[resplast] 0.0987\n",
       "\\item[avggift] 2e-04\n",
       "\\item[propresp] 0.7307\n",
       "\\item[mailsyear] 0.062\n",
       "\\end{description*}\n"
      ],
      "text/markdown": [
       "(Intercept)\n",
       ":   -0.1172resplast\n",
       ":   0.0987avggift\n",
       ":   2e-04propresp\n",
       ":   0.7307mailsyear\n",
       ":   0.062\n",
       "\n"
      ],
      "text/plain": [
       "(Intercept)    resplast     avggift    propresp   mailsyear \n",
       "    -0.1172      0.0987      0.0002      0.7307      0.0620 "
      ]
     },
     "metadata": {},
     "output_type": "display_data"
    }
   ],
   "source": [
    "fit3<-lm(respond~resplast+avggift+propresp+mailsyear) #拟合上述模型 \n",
    "summary(fit3) #查看拟合结果，R-squared:  0.2095 \n",
    "round(fit3$coefficients,4) "
   ]
  },
  {
   "cell_type": "code",
   "execution_count": 98,
   "metadata": {},
   "outputs": [],
   "source": [
    "detach(charity)"
   ]
  },
  {
   "cell_type": "code",
   "execution_count": null,
   "metadata": {},
   "outputs": [],
   "source": []
  }
 ],
 "metadata": {
  "kernelspec": {
   "display_name": "R",
   "language": "R",
   "name": "ir"
  },
  "language_info": {
   "codemirror_mode": "r",
   "file_extension": ".r",
   "mimetype": "text/x-r-source",
   "name": "R",
   "pygments_lexer": "r",
   "version": "3.6.1"
  }
 },
 "nbformat": 4,
 "nbformat_minor": 2
}
