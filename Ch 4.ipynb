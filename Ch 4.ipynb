{
 "cells": [
  {
   "cell_type": "markdown",
   "metadata": {},
   "source": [
    "# 第 4 章 多元回归分析：推断  \n",
    "## C4.1【多元回归；构造变量以检验抵消效应】  \n",
    "如下模型可用来研究竞选支出如何影响选举结果： \n",
    "\n",
    "$voteA=\\beta_0+\\beta_1 \\log{expendA}+\\beta_2 \\log{expendB}+\\beta_3 prtystrA +\\mu$\n",
    "\n",
    "其中， voteA 表示候选人A得到的选票百分数，expendA和expendB 分别表示候选人A 和候选人B的竞选支出，而prtystrA 则是对A所在党派实力的一种度量（A 所在党派在最近一次总统 选举中获得的选票百分比）。 \n",
    "\n",
    "（1）如何解释$\\beta_1$？ \n",
    "\n",
    "（2）用参数表述如下虚拟假设：A 的竞选支出提高1%被B 的竞选支出提高1%所抵消。 \n",
    "\n",
    "（3）利用VOTE1.RAW 中的数据来估计上述模型，并以通常的方式报告结论。A 的竞选支出会 影响结果吗？B 的支出呢？你能用这些结论来检验第（2）部分中的假设吗？ \n",
    "\n",
    "（4）估计一个模型，使之能直接给出检验第（2）部分中假设所需用的t统计量。你有什么结论？（使用双侧对立假设。） "
   ]
  },
  {
   "cell_type": "markdown",
   "metadata": {},
   "source": [
    "（1）如何解释$\\beta_1$？\n",
    "\n",
    "保持其他变量不变，候选人A得到的选票百分数增加1%，则A得到的选票百分数增加 $\\beta_1$/100。 "
   ]
  },
  {
   "cell_type": "markdown",
   "metadata": {},
   "source": [
    "（2）用参数表述如下虚拟假设：A 的竞选支出提高1%被B 的竞选支出提高1%所抵消。 \n",
    "\n",
    "$H_0:\\beta_2 = -\\beta_1$"
   ]
  },
  {
   "cell_type": "markdown",
   "metadata": {},
   "source": [
    "（3）利用VOTE1.RAW 中的数据来估计上述模型，并以通常的方式报告结论。A 的竞选支出会 影响结果吗？B 的支出呢？你能用这些结论来检验第（2）部分中的假设吗？ "
   ]
  },
  {
   "cell_type": "code",
   "execution_count": 1,
   "metadata": {},
   "outputs": [],
   "source": [
    "library(haven)\n",
    "VOTE1 <- read_dta(\"C:/Users/bradl/SRM/data/VOTE1.DTA\")\n",
    "attach(VOTE1)"
   ]
  },
  {
   "cell_type": "code",
   "execution_count": 2,
   "metadata": {},
   "outputs": [
    {
     "data": {
      "text/plain": [
       "\n",
       "Call:\n",
       "lm(formula = voteA ~ log(expendA) + log(expendB) + prtystrA)\n",
       "\n",
       "Residuals:\n",
       "     Min       1Q   Median       3Q      Max \n",
       "-20.3968  -5.4174  -0.8679   4.9551  26.0660 \n",
       "\n",
       "Coefficients:\n",
       "             Estimate Std. Error t value Pr(>|t|)    \n",
       "(Intercept)  45.07893    3.92631   11.48   <2e-16 ***\n",
       "log(expendA)  6.08332    0.38215   15.92   <2e-16 ***\n",
       "log(expendB) -6.61542    0.37882  -17.46   <2e-16 ***\n",
       "prtystrA      0.15196    0.06202    2.45   0.0153 *  \n",
       "---\n",
       "Signif. codes:  0 '***' 0.001 '**' 0.01 '*' 0.05 '.' 0.1 ' ' 1\n",
       "\n",
       "Residual standard error: 7.712 on 169 degrees of freedom\n",
       "Multiple R-squared:  0.7926,\tAdjusted R-squared:  0.7889 \n",
       "F-statistic: 215.2 on 3 and 169 DF,  p-value: < 2.2e-16\n"
      ]
     },
     "metadata": {},
     "output_type": "display_data"
    }
   ],
   "source": [
    "fit1<-lm(voteA~log(expendA)+log(expendB)+prtystrA) #拟合\n",
    "summary(fit1)"
   ]
  },
  {
   "cell_type": "markdown",
   "metadata": {},
   "source": [
    "（4）估计一个模型，使之能直接给出检验第（2）部分中假设所需用的t统计量。你有什么结论？（使用双侧对立假设。）\n",
    "\n",
    "令$\\theta_1=\\beta_1+\\beta_2$，则可将（3）中的模型等价地改写为：\n",
    "$voteA=\\beta_0+\\theta_1 \\log{expendA}+\\beta_2 [\\log{expendB}-\\log{expendeA}]+\\beta_3 prtystrA +\\mu$"
   ]
  },
  {
   "cell_type": "code",
   "execution_count": 3,
   "metadata": {},
   "outputs": [
    {
     "data": {
      "text/plain": [
       "\n",
       "Call:\n",
       "lm(formula = voteA ~ log(expendA) + I(log(expendB) - log(expendA)) + \n",
       "    prtystrA)\n",
       "\n",
       "Residuals:\n",
       "     Min       1Q   Median       3Q      Max \n",
       "-20.3968  -5.4174  -0.8679   4.9551  26.0660 \n",
       "\n",
       "Coefficients:\n",
       "                               Estimate Std. Error t value Pr(>|t|)    \n",
       "(Intercept)                    45.07893    3.92631  11.481   <2e-16 ***\n",
       "log(expendA)                   -0.53210    0.53309  -0.998   0.3196    \n",
       "I(log(expendB) - log(expendA)) -6.61542    0.37882 -17.463   <2e-16 ***\n",
       "prtystrA                        0.15196    0.06202   2.450   0.0153 *  \n",
       "---\n",
       "Signif. codes:  0 '***' 0.001 '**' 0.01 '*' 0.05 '.' 0.1 ' ' 1\n",
       "\n",
       "Residual standard error: 7.712 on 169 degrees of freedom\n",
       "Multiple R-squared:  0.7926,\tAdjusted R-squared:  0.7889 \n",
       "F-statistic: 215.2 on 3 and 169 DF,  p-value: < 2.2e-16\n"
      ]
     },
     "metadata": {},
     "output_type": "display_data"
    }
   ],
   "source": [
    "fit2<-lm(voteA~log(expendA)+I(log(expendB)-log(expendA))+prtystrA)\n",
    "summary(fit2)"
   ]
  },
  {
   "cell_type": "markdown",
   "metadata": {},
   "source": [
    "查看回归结果。$\\theta_1$为-0.53210，t 值是-0.998，并不显著。因此我们不能拒绝 $H_0：\\beta_2=−\\beta_1$。也就是说实证结果没有拒绝A的竞选支出提高1%被B的竞选支出提高1%所抵消。 "
   ]
  },
  {
   "cell_type": "markdown",
   "metadata": {},
   "source": [
    "## C4.2【F 检验（手动、自动计算）；有缺失值的回归】 \n",
    "\n",
    "本题要利用 LAWSCH85.RAW 中的数据。 \n",
    "\n",
    "（1）使用与习题3.33一样的模型，表述并检验虚拟假设：在其他条件不变的情况下，法学院 排名对起薪中位数没有影响。 \n",
    "\n",
    "（2）新生年级的学生特征（即LSAT 和GPA）对解释salary 而言是个别或者联合显著的吗？ \n",
    "\n",
    "（3）检验是否要在方程中引入入学年级的规模（clsize）和教职工的规模（faculty）；只进行 一个检验。（注意解释 clsize 和faculty 的缺失数据。） \n",
    "\n",
    "（4）还有哪些因素可能影响到法学院排名，但又没有包括在薪水回归中？ "
   ]
  },
  {
   "cell_type": "code",
   "execution_count": 42,
   "metadata": {},
   "outputs": [
    {
     "name": "stderr",
     "output_type": "stream",
     "text": [
      "The following object is masked from X401ksubs:\n",
      "\n",
      "    age\n",
      "\n",
      "The following object is masked from twoyear:\n",
      "\n",
      "    south\n",
      "\n",
      "The following objects are masked from WAGE2:\n",
      "\n",
      "    age, south\n",
      "\n",
      "The following objects are masked from MLB1:\n",
      "\n",
      "    lsalary, salary\n",
      "\n",
      "The following objects are masked from LAWSCH85 (pos = 15):\n",
      "\n",
      "    age, clsize, cost, east, faculty, GPA, lcost, libvol, llibvol,\n",
      "    lsalary, LSAT, north, r11_25, r26_40, r41_60, rank, salary, south,\n",
      "    studfac, top10, west\n",
      "\n"
     ]
    }
   ],
   "source": [
    "LAWSCH85 <- read_dta(\"C:/Users/bradl/SRM/data/LAWSCH85.DTA\")\n",
    "attach(LAWSCH85)"
   ]
  },
  {
   "cell_type": "markdown",
   "metadata": {},
   "source": [
    "（1）使用与习题3.3 一样的模型，表述并检验虚拟假设：在其他条件不变的情况下，法学院排名对起薪中位数没有影响。 "
   ]
  },
  {
   "cell_type": "code",
   "execution_count": 43,
   "metadata": {},
   "outputs": [
    {
     "data": {
      "text/plain": [
       "\n",
       "Call:\n",
       "lm(formula = log(salary) ~ LSAT + GPA + log(libvol) + log(cost) + \n",
       "    rank)\n",
       "\n",
       "Residuals:\n",
       "      Min        1Q    Median        3Q       Max \n",
       "-0.301356 -0.084982 -0.004359  0.077935  0.288614 \n",
       "\n",
       "Coefficients:\n",
       "              Estimate Std. Error t value Pr(>|t|)    \n",
       "(Intercept)  8.3432262  0.5325192  15.667  < 2e-16 ***\n",
       "LSAT         0.0046965  0.0040105   1.171  0.24372    \n",
       "GPA          0.2475238  0.0900371   2.749  0.00683 ** \n",
       "log(libvol)  0.0949932  0.0332544   2.857  0.00499 ** \n",
       "log(cost)    0.0375539  0.0321061   1.170  0.24427    \n",
       "rank        -0.0033246  0.0003485  -9.541  < 2e-16 ***\n",
       "---\n",
       "Signif. codes:  0 '***' 0.001 '**' 0.01 '*' 0.05 '.' 0.1 ' ' 1\n",
       "\n",
       "Residual standard error: 0.1124 on 130 degrees of freedom\n",
       "  (20 observations deleted due to missingness)\n",
       "Multiple R-squared:  0.8417,\tAdjusted R-squared:  0.8356 \n",
       "F-statistic: 138.2 on 5 and 130 DF,  p-value: < 2.2e-16\n"
      ]
     },
     "metadata": {},
     "output_type": "display_data"
    }
   ],
   "source": [
    "fit1<-lm(log(salary)~LSAT+GPA+log(libvol)+log(cost)+rank)\n",
    "summary(fit1)"
   ]
  },
  {
   "cell_type": "markdown",
   "metadata": {},
   "source": [
    "（2）新生年级的学生特征（即LSAT 和GPA）对解释salary 而言是个别或者联合显著的吗？\n",
    "\n",
    "手动检验： 在fit1 中，我们没有采用data = na.omit(discrim)参数，lm()会使用有限的行删除法来删除所有 变量中的缺失值。因为之前的检查发现LSAT 和GPA 都有缺失值，如果我们不对排除LSAT 和 GPA 之后的回归做出样本观测的限定，fit2（排除LSAT 和GPA 之后的回归）和fit1 所用的观测 就是不同的，不符合F 检验的要求。所以我们先来固定观测"
   ]
  },
  {
   "cell_type": "code",
   "execution_count": 44,
   "metadata": {},
   "outputs": [],
   "source": [
    "varname<-c(\"salary\",\"LSAT\",\"GPA\",\"libvol\",\"cost\",\"rank\")  #把fit1 中用的变量名理出来"
   ]
  },
  {
   "cell_type": "code",
   "execution_count": 45,
   "metadata": {},
   "outputs": [
    {
     "data": {
      "text/html": [
       "9.51823125019402e-05"
      ],
      "text/latex": [
       "9.51823125019402e-05"
      ],
      "text/markdown": [
       "9.51823125019402e-05"
      ],
      "text/plain": [
       "[1] 9.518231e-05"
      ]
     },
     "metadata": {},
     "output_type": "display_data"
    }
   ],
   "source": [
    "mydata<-LAWSCH85[varname] #把fit1 中用的观测和变量限定在mydata 中。那么，（1）中的 fit1 也就等价于fit1<-lm(log(salary)~LSAT+GPA+log(libvol)+log(cost)+rank, data = mydata)。 \n",
    "fit2<-lm(log(salary)~ log(libvol)+log(cost)+rank,data = na.omit(mydata)) #拟合不含有LSAT 和GPA 的回归，但所用的观测和fit1 一样，都是mydata 中不含缺失值的观测。\n",
    "r2.fit1<-summary(fit1)$r.squared \n",
    "r2.fit2<-summary(fit2)$r.squared \n",
    "F<-(r2.fit1-r2.fit2)/(1-r2.fit1)*130/2 #获得F 值，结果为9.95174。 \n",
    "1-pf(F,2,130) #获得F 检验的p 值，结果为9.518231e-05。很显著，说明LSAT和GPA联合显著"
   ]
  },
  {
   "cell_type": "markdown",
   "metadata": {},
   "source": [
    "自动检验： "
   ]
  },
  {
   "cell_type": "code",
   "execution_count": 46,
   "metadata": {},
   "outputs": [
    {
     "data": {
      "text/html": [
       "<table>\n",
       "<caption>A anova: 2 × 6</caption>\n",
       "<thead>\n",
       "\t<tr><th scope=col>Res.Df</th><th scope=col>RSS</th><th scope=col>Df</th><th scope=col>Sum of Sq</th><th scope=col>F</th><th scope=col>Pr(&gt;F)</th></tr>\n",
       "\t<tr><th scope=col>&lt;dbl&gt;</th><th scope=col>&lt;dbl&gt;</th><th scope=col>&lt;dbl&gt;</th><th scope=col>&lt;dbl&gt;</th><th scope=col>&lt;dbl&gt;</th><th scope=col>&lt;dbl&gt;</th></tr>\n",
       "</thead>\n",
       "<tbody>\n",
       "\t<tr><td>132</td><td>1.894238</td><td>NA</td><td>       NA</td><td>     NA</td><td>          NA</td></tr>\n",
       "\t<tr><td>130</td><td>1.642730</td><td> 2</td><td>0.2515081</td><td>9.95174</td><td>9.518231e-05</td></tr>\n",
       "</tbody>\n",
       "</table>\n"
      ],
      "text/latex": [
       "A anova: 2 × 6\n",
       "\\begin{tabular}{r|llllll}\n",
       " Res.Df & RSS & Df & Sum of Sq & F & Pr(>F)\\\\\n",
       " <dbl> & <dbl> & <dbl> & <dbl> & <dbl> & <dbl>\\\\\n",
       "\\hline\n",
       "\t 132 & 1.894238 & NA &        NA &      NA &           NA\\\\\n",
       "\t 130 & 1.642730 &  2 & 0.2515081 & 9.95174 & 9.518231e-05\\\\\n",
       "\\end{tabular}\n"
      ],
      "text/markdown": [
       "\n",
       "A anova: 2 × 6\n",
       "\n",
       "| Res.Df &lt;dbl&gt; | RSS &lt;dbl&gt; | Df &lt;dbl&gt; | Sum of Sq &lt;dbl&gt; | F &lt;dbl&gt; | Pr(&gt;F) &lt;dbl&gt; |\n",
       "|---|---|---|---|---|---|\n",
       "| 132 | 1.894238 | NA |        NA |      NA |           NA |\n",
       "| 130 | 1.642730 |  2 | 0.2515081 | 9.95174 | 9.518231e-05 |\n",
       "\n"
      ],
      "text/plain": [
       "  Res.Df RSS      Df Sum of Sq F       Pr(>F)      \n",
       "1 132    1.894238 NA        NA      NA           NA\n",
       "2 130    1.642730  2 0.2515081 9.95174 9.518231e-05"
      ]
     },
     "metadata": {},
     "output_type": "display_data"
    }
   ],
   "source": [
    "library(car) #载入car 包（首次使用用install.packages(\"car\")安装。） \n",
    "myH0 <- c(\"LSAT\",\"GPA\") #用联合检验所涉及的变量组成向量，构成H0。\n",
    "fit1<-lm(log(salary)~LSAT+GPA+log(libvol)+log(cost)+rank, data = mydata)\n",
    "linearHypothesis(fit1,myH0) #直接用linearHypothesis()做F 检验。 "
   ]
  },
  {
   "cell_type": "markdown",
   "metadata": {},
   "source": [
    "（3）检验是否要在方程中引入入学年级的规模（clsize）和教职工的规模（faculty）；只进行一个检验。（注意解释clsize和faculty 的缺失数据。） \n",
    "\n",
    "我们直接用 car 包做clsize 和faculty 的联合检验。 "
   ]
  },
  {
   "cell_type": "code",
   "execution_count": 47,
   "metadata": {},
   "outputs": [
    {
     "data": {
      "text/html": [
       "<table>\n",
       "<caption>A anova: 2 × 6</caption>\n",
       "<thead>\n",
       "\t<tr><th scope=col>Res.Df</th><th scope=col>RSS</th><th scope=col>Df</th><th scope=col>Sum of Sq</th><th scope=col>F</th><th scope=col>Pr(&gt;F)</th></tr>\n",
       "\t<tr><th scope=col>&lt;dbl&gt;</th><th scope=col>&lt;dbl&gt;</th><th scope=col>&lt;dbl&gt;</th><th scope=col>&lt;dbl&gt;</th><th scope=col>&lt;dbl&gt;</th><th scope=col>&lt;dbl&gt;</th></tr>\n",
       "</thead>\n",
       "<tbody>\n",
       "\t<tr><td>125</td><td>1.597422</td><td>NA</td><td>        NA</td><td>       NA</td><td>       NA</td></tr>\n",
       "\t<tr><td>123</td><td>1.573162</td><td> 2</td><td>0.02425917</td><td>0.9483693</td><td>0.3901861</td></tr>\n",
       "</tbody>\n",
       "</table>\n"
      ],
      "text/latex": [
       "A anova: 2 × 6\n",
       "\\begin{tabular}{r|llllll}\n",
       " Res.Df & RSS & Df & Sum of Sq & F & Pr(>F)\\\\\n",
       " <dbl> & <dbl> & <dbl> & <dbl> & <dbl> & <dbl>\\\\\n",
       "\\hline\n",
       "\t 125 & 1.597422 & NA &         NA &        NA &        NA\\\\\n",
       "\t 123 & 1.573162 &  2 & 0.02425917 & 0.9483693 & 0.3901861\\\\\n",
       "\\end{tabular}\n"
      ],
      "text/markdown": [
       "\n",
       "A anova: 2 × 6\n",
       "\n",
       "| Res.Df &lt;dbl&gt; | RSS &lt;dbl&gt; | Df &lt;dbl&gt; | Sum of Sq &lt;dbl&gt; | F &lt;dbl&gt; | Pr(&gt;F) &lt;dbl&gt; |\n",
       "|---|---|---|---|---|---|\n",
       "| 125 | 1.597422 | NA |         NA |        NA |        NA |\n",
       "| 123 | 1.573162 |  2 | 0.02425917 | 0.9483693 | 0.3901861 |\n",
       "\n"
      ],
      "text/plain": [
       "  Res.Df RSS      Df Sum of Sq  F         Pr(>F)   \n",
       "1 125    1.597422 NA         NA        NA        NA\n",
       "2 123    1.573162  2 0.02425917 0.9483693 0.3901861"
      ]
     },
     "metadata": {},
     "output_type": "display_data"
    }
   ],
   "source": [
    "fit3<-lm(log(salary)~LSAT+GPA+log(libvol)+log(cost)+rank+clsize+faculty) #拟合添加了clsize 和 faculty 的模型。 \n",
    "library(car) #载入car 包 \n",
    "myH0 <- c(\"clsize \",\" faculty \") #用联合检验所检验的变量组成向量，构成 H0。 \n",
    "linearHypothesis(fit3,myH0) #直接用linearHypothesis()做F 检验。 "
   ]
  },
  {
   "cell_type": "markdown",
   "metadata": {},
   "source": [
    "（4）还有哪些因素可能影响到法学院排名，但又没有包括在薪水回归中？ \n",
    "\n",
    "学院的性别组成，人种组成，地域等因素"
   ]
  },
  {
   "cell_type": "markdown",
   "metadata": {},
   "source": [
    "## C4.3【获取置信区间；保留系数小数位数；提取单个回归系数；工整导出回归结果】 \n",
    "\n",
    "参考习题3.14。现在，我们使用住房价格的对数作为因变量： \n",
    "$\\log{price}=\\beta_0+\\beta_1 sqrft+\\beta_2 bdrms+\\mu$ \n",
    "\n",
    "（1）你想在住房增加一个150 平方英尺的卧室的情况下，估计并得到 price 变化百分比的一个置信区间。以小数形式表示就是$\\theta_1=150\\beta_1+\\beta_2$。使用HPRICE1.RAW 中的数据去估计$\\theta_1$。 \n",
    "\n",
    "（2）用$\\theta_1$和$\\beta_1$表达$\\beta_2$，并代入log(price)的方程。 \n",
    "\n",
    "（3）利用第（2）部分中的结果得到$\\hat{\\theta_1}$的标准误，并使用这个标准误构造一个95%的置信区间。\n"
   ]
  },
  {
   "cell_type": "code",
   "execution_count": 10,
   "metadata": {},
   "outputs": [],
   "source": [
    "library(wooldridge)\n",
    "attach(hprice1)  #绑定数据集hprice1"
   ]
  },
  {
   "cell_type": "markdown",
   "metadata": {},
   "source": [
    "（1）你想在住房增加一个150 平方英尺的卧室的情况下，估计并得到 price 变化百分比的一个置信区间。以小数形式表示就是$\\theta_1=150\\beta_1+\\beta_2$。使用HPRICE1.RAW 中的数据去估计$\\theta_1$。 "
   ]
  },
  {
   "cell_type": "code",
   "execution_count": 11,
   "metadata": {},
   "outputs": [
    {
     "data": {
      "text/plain": [
       "\n",
       "Call:\n",
       "lm(formula = log(price) ~ sqrft + bdrms)\n",
       "\n",
       "Residuals:\n",
       "     Min       1Q   Median       3Q      Max \n",
       "-0.75448 -0.12322 -0.01993  0.11938  0.62948 \n",
       "\n",
       "Coefficients:\n",
       "             Estimate Std. Error t value Pr(>|t|)    \n",
       "(Intercept) 4.766e+00  9.704e-02  49.112  < 2e-16 ***\n",
       "sqrft       3.794e-04  4.321e-05   8.781  1.5e-13 ***\n",
       "bdrms       2.888e-02  2.964e-02   0.974    0.333    \n",
       "---\n",
       "Signif. codes:  0 '***' 0.001 '**' 0.01 '*' 0.05 '.' 0.1 ' ' 1\n",
       "\n",
       "Residual standard error: 0.1971 on 85 degrees of freedom\n",
       "Multiple R-squared:  0.5883,\tAdjusted R-squared:  0.5786 \n",
       "F-statistic: 60.73 on 2 and 85 DF,  p-value: < 2.2e-16\n"
      ]
     },
     "metadata": {},
     "output_type": "display_data"
    },
    {
     "data": {
      "text/html": [
       "<dl class=dl-horizontal>\n",
       "\t<dt>(Intercept)</dt>\n",
       "\t\t<dd>4.766027</dd>\n",
       "\t<dt>sqrft</dt>\n",
       "\t\t<dd>0.000379</dd>\n",
       "\t<dt>bdrms</dt>\n",
       "\t\t<dd>0.028884</dd>\n",
       "</dl>\n"
      ],
      "text/latex": [
       "\\begin{description*}\n",
       "\\item[(Intercept)] 4.766027\n",
       "\\item[sqrft] 0.000379\n",
       "\\item[bdrms] 0.028884\n",
       "\\end{description*}\n"
      ],
      "text/markdown": [
       "(Intercept)\n",
       ":   4.766027sqrft\n",
       ":   0.000379bdrms\n",
       ":   0.028884\n",
       "\n"
      ],
      "text/plain": [
       "(Intercept)       sqrft       bdrms \n",
       "   4.766027    0.000379    0.028884 "
      ]
     },
     "metadata": {},
     "output_type": "display_data"
    },
    {
     "data": {
      "text/html": [
       "88"
      ],
      "text/latex": [
       "88"
      ],
      "text/markdown": [
       "88"
      ],
      "text/plain": [
       "[1] 88"
      ]
     },
     "metadata": {},
     "output_type": "display_data"
    },
    {
     "data": {
      "text/html": [
       "<strong>sqrft:</strong> 0.0858013664032184"
      ],
      "text/latex": [
       "\\textbf{sqrft:} 0.0858013664032184"
      ],
      "text/markdown": [
       "**sqrft:** 0.0858013664032184"
      ],
      "text/plain": [
       "     sqrft \n",
       "0.08580137 "
      ]
     },
     "metadata": {},
     "output_type": "display_data"
    }
   ],
   "source": [
    "fit1<-lm(log(price)~sqrft+bdrms) #拟合上述回归。 \n",
    "summary(fit1) #查看回归结果。结果发现系数用科学计数法表示。 \n",
    "round(fit1$coefficients,6) #将系数保留6 位小数。\n",
    "nobs(fit1)\n",
    "150*coefficients(fit1)[\"sqrft\"]+ coefficients(fit1)[\"bdrms\"]"
   ]
  },
  {
   "cell_type": "markdown",
   "metadata": {},
   "source": [
    "（3）利用第（2）部分中的结果得到$\\hat{\\theta_1}的标准误，并使用这个标准误构造一个95%的置信区间。"
   ]
  },
  {
   "cell_type": "code",
   "execution_count": 12,
   "metadata": {},
   "outputs": [
    {
     "data": {
      "text/plain": [
       "\n",
       "Call:\n",
       "lm(formula = log(price) ~ I(sqrft - 150 * bdrms) + bdrms)\n",
       "\n",
       "Residuals:\n",
       "     Min       1Q   Median       3Q      Max \n",
       "-0.75448 -0.12322 -0.01993  0.11938  0.62948 \n",
       "\n",
       "Coefficients:\n",
       "                        Estimate Std. Error t value Pr(>|t|)    \n",
       "(Intercept)            4.766e+00  9.704e-02  49.112  < 2e-16 ***\n",
       "I(sqrft - 150 * bdrms) 3.794e-04  4.321e-05   8.781  1.5e-13 ***\n",
       "bdrms                  8.580e-02  2.677e-02   3.205   0.0019 ** \n",
       "---\n",
       "Signif. codes:  0 '***' 0.001 '**' 0.01 '*' 0.05 '.' 0.1 ' ' 1\n",
       "\n",
       "Residual standard error: 0.1971 on 85 degrees of freedom\n",
       "Multiple R-squared:  0.5883,\tAdjusted R-squared:  0.5786 \n",
       "F-statistic: 60.73 on 2 and 85 DF,  p-value: < 2.2e-16\n"
      ]
     },
     "metadata": {},
     "output_type": "display_data"
    },
    {
     "name": "stderr",
     "output_type": "stream",
     "text": [
      "\n",
      "Please cite as: \n",
      "\n",
      " Hlavac, Marek (2018). stargazer: Well-Formatted Regression and Summary Statistics Tables.\n",
      " R package version 5.2.2. https://CRAN.R-project.org/package=stargazer \n",
      "\n"
     ]
    },
    {
     "name": "stdout",
     "output_type": "stream",
     "text": [
      "\n",
      "==================================================\n",
      "                           Dependent variable:    \n",
      "                       ---------------------------\n",
      "                               log(price)         \n",
      "--------------------------------------------------\n",
      "I(sqrft - 150 * bdrms)         0.00038***         \n",
      "                                (0.00004)         \n",
      "                                                  \n",
      "bdrms                          0.08580***         \n",
      "                                (0.02677)         \n",
      "                                                  \n",
      "Constant                       4.76603***         \n",
      "                                (0.09704)         \n",
      "                                                  \n",
      "--------------------------------------------------\n",
      "Observations                       88             \n",
      "R2                               0.58829          \n",
      "Adjusted R2                      0.57861          \n",
      "Residual Std. Error         0.19706 (df = 85)     \n",
      "F Statistic             60.72921*** (df = 2; 85)  \n",
      "==================================================\n",
      "Note:                  *p<0.1; **p<0.05; ***p<0.01\n"
     ]
    },
    {
     "data": {
      "text/html": [
       "<table>\n",
       "<caption>A matrix: 3 × 2 of type dbl</caption>\n",
       "<thead>\n",
       "\t<tr><th></th><th scope=col>2.5 %</th><th scope=col>97.5 %</th></tr>\n",
       "</thead>\n",
       "<tbody>\n",
       "\t<tr><th scope=row>(Intercept)</th><td>4.5730767914</td><td>4.9589776356</td></tr>\n",
       "\t<tr><th scope=row>I(sqrft - 150 * bdrms)</th><td>0.0002935289</td><td>0.0004653631</td></tr>\n",
       "\t<tr><th scope=row>bdrms</th><td>0.0325803713</td><td>0.1390223615</td></tr>\n",
       "</tbody>\n",
       "</table>\n"
      ],
      "text/latex": [
       "A matrix: 3 × 2 of type dbl\n",
       "\\begin{tabular}{r|ll}\n",
       "  & 2.5 \\% & 97.5 \\%\\\\\n",
       "\\hline\n",
       "\t(Intercept) & 4.5730767914 & 4.9589776356\\\\\n",
       "\tI(sqrft - 150 * bdrms) & 0.0002935289 & 0.0004653631\\\\\n",
       "\tbdrms & 0.0325803713 & 0.1390223615\\\\\n",
       "\\end{tabular}\n"
      ],
      "text/markdown": [
       "\n",
       "A matrix: 3 × 2 of type dbl\n",
       "\n",
       "| <!--/--> | 2.5 % | 97.5 % |\n",
       "|---|---|---|\n",
       "| (Intercept) | 4.5730767914 | 4.9589776356 |\n",
       "| I(sqrft - 150 * bdrms) | 0.0002935289 | 0.0004653631 |\n",
       "| bdrms | 0.0325803713 | 0.1390223615 |\n",
       "\n"
      ],
      "text/plain": [
       "                       2.5 %        97.5 %      \n",
       "(Intercept)            4.5730767914 4.9589776356\n",
       "I(sqrft - 150 * bdrms) 0.0002935289 0.0004653631\n",
       "bdrms                  0.0325803713 0.1390223615"
      ]
     },
     "metadata": {},
     "output_type": "display_data"
    }
   ],
   "source": [
    "fit2<-lm(log(price)~I(sqrft-150*bdrms)+bdrms) \n",
    "summary(fit2) #\n",
    "library(stargazer) \n",
    "stargazer(fit2, type=\"text\",digits = 5) \n",
    "confint(fit2)"
   ]
  },
  {
   "cell_type": "markdown",
   "metadata": {},
   "source": [
    "## C4.4【有缺失值的 F 检验】 \n",
    "\n",
    "在例4.9中，可以使用样本中所有1388个观测数据去估计约束模型。使用所有观测值计算 bwght 对 cigs，parity 和faminc 回归的$R^2$，并与例4.9中约束模型所报告的$R^2$相比较。 "
   ]
  },
  {
   "cell_type": "code",
   "execution_count": 13,
   "metadata": {},
   "outputs": [
    {
     "name": "stderr",
     "output_type": "stream",
     "text": [
      "The following object is masked from package:wooldridge:\n",
      "\n",
      "    bwght\n",
      "\n"
     ]
    },
    {
     "data": {
      "text/plain": [
       "\n",
       "Call:\n",
       "lm(formula = bwght ~ cigs + parity + faminc)\n",
       "\n",
       "Residuals:\n",
       "    Min      1Q  Median      3Q     Max \n",
       "-95.034 -11.650   0.804  13.088 151.008 \n",
       "\n",
       "Coefficients:\n",
       "             Estimate Std. Error t value Pr(>|t|)    \n",
       "(Intercept) 114.21435    1.46930  77.734  < 2e-16 ***\n",
       "cigs         -0.47715    0.09152  -5.214 2.13e-07 ***\n",
       "parity        1.61637    0.60395   2.676 0.007532 ** \n",
       "faminc        0.09792    0.02919   3.355 0.000815 ***\n",
       "---\n",
       "Signif. codes:  0 '***' 0.001 '**' 0.01 '*' 0.05 '.' 0.1 ' ' 1\n",
       "\n",
       "Residual standard error: 20.02 on 1384 degrees of freedom\n",
       "Multiple R-squared:  0.0348,\tAdjusted R-squared:  0.03271 \n",
       "F-statistic: 16.63 on 3 and 1384 DF,  p-value: 1.28e-10\n"
      ]
     },
     "metadata": {},
     "output_type": "display_data"
    }
   ],
   "source": [
    "BWGHT <- read_dta(\"C:/Users/bradl/SRM/data/BWGHT.DTA\")\n",
    "attach(BWGHT) \n",
    "fit<-lm(bwght~cigs+parity+faminc) \n",
    "summary(fit) "
   ]
  },
  {
   "cell_type": "markdown",
   "metadata": {},
   "source": [
    "## C4.5【F 检验】 \n",
    "\n",
    "本题要用到 MLB1.RAW 中的数据。\n",
    "\n",
    "（1）使用方程（4.31）中所估计的模型，并去掉变量rbisyr。hrunsyr 的统计显著性会怎么 样？hrunsyr 的系数大小又会怎么样？ \n",
    "\n",
    "（2）在第（1）部分的模型中增加变量runsyr（每年垒得分），fldperc（防备率）和sbasersyr （每年盗垒数）。这些因素中，哪一个是个别显著的？ \n",
    "\n",
    "（3）在第（2）部分的模型中，检验 bavg，fldperc 和sbasesyr 的联合显著性。 "
   ]
  },
  {
   "cell_type": "code",
   "execution_count": 14,
   "metadata": {},
   "outputs": [
    {
     "name": "stderr",
     "output_type": "stream",
     "text": [
      "The following objects are masked from LAWSCH85:\n",
      "\n",
      "    lsalary, salary\n",
      "\n"
     ]
    }
   ],
   "source": [
    "MLB1 <- read_dta(\"C:/Users/bradl/SRM/data/MLB1.DTA\")\n",
    "attach(MLB1)"
   ]
  },
  {
   "cell_type": "markdown",
   "metadata": {},
   "source": [
    "（1）使用方程（4.31）中所估计的模型，并去掉变量rbisyr。hrunsyr 的统计显著性会怎么 样？hrunsyr 的系数大小又会怎么样？ "
   ]
  },
  {
   "cell_type": "code",
   "execution_count": 15,
   "metadata": {},
   "outputs": [
    {
     "data": {
      "text/plain": [
       "\n",
       "Call:\n",
       "lm(formula = log(salary) ~ years + gamesyr + bavg + hrunsyr)\n",
       "\n",
       "Residuals:\n",
       "    Min      1Q  Median      3Q     Max \n",
       "-3.0642 -0.4614 -0.0271  0.4654  2.7216 \n",
       "\n",
       "Coefficients:\n",
       "             Estimate Std. Error t value Pr(>|t|)    \n",
       "(Intercept) 11.020913   0.265719  41.476  < 2e-16 ***\n",
       "years        0.067732   0.012113   5.592 4.55e-08 ***\n",
       "gamesyr      0.015759   0.001564  10.079  < 2e-16 ***\n",
       "bavg         0.001419   0.001066   1.331    0.184    \n",
       "hrunsyr      0.035943   0.007241   4.964 1.08e-06 ***\n",
       "---\n",
       "Signif. codes:  0 '***' 0.001 '**' 0.01 '*' 0.05 '.' 0.1 ' ' 1\n",
       "\n",
       "Residual standard error: 0.7279 on 348 degrees of freedom\n",
       "Multiple R-squared:  0.6254,\tAdjusted R-squared:  0.6211 \n",
       "F-statistic: 145.2 on 4 and 348 DF,  p-value: < 2.2e-16\n"
      ]
     },
     "metadata": {},
     "output_type": "display_data"
    }
   ],
   "source": [
    "fit1<-lm(log(salary)~years+gamesyr+bavg+hrunsyr) #拟合上述模型。 \n",
    "summary(fit1)"
   ]
  },
  {
   "cell_type": "markdown",
   "metadata": {},
   "source": [
    "（2）在第（1）部分的模型中增加变量runsyr（每年垒得分），fldperc（防备率）和sbasersyr （每年盗垒数）。这些因素中，哪一个是个别显著的?"
   ]
  },
  {
   "cell_type": "code",
   "execution_count": 16,
   "metadata": {},
   "outputs": [
    {
     "data": {
      "text/plain": [
       "\n",
       "Call:\n",
       "lm(formula = log(salary) ~ years + gamesyr + bavg + hrunsyr + \n",
       "    runsyr + fldperc + sbasesyr)\n",
       "\n",
       "Residuals:\n",
       "     Min       1Q   Median       3Q      Max \n",
       "-2.11554 -0.44557 -0.08808  0.48731  2.57872 \n",
       "\n",
       "Coefficients:\n",
       "              Estimate Std. Error t value Pr(>|t|)    \n",
       "(Intercept) 10.4082678  2.0032546   5.196 3.50e-07 ***\n",
       "years        0.0699848  0.0119756   5.844 1.18e-08 ***\n",
       "gamesyr      0.0078995  0.0026775   2.950 0.003391 ** \n",
       "bavg         0.0005296  0.0011038   0.480 0.631656    \n",
       "hrunsyr      0.0232106  0.0086392   2.687 0.007566 ** \n",
       "runsyr       0.0173922  0.0050641   3.434 0.000666 ***\n",
       "fldperc      0.0010351  0.0020046   0.516 0.605936    \n",
       "sbasesyr    -0.0064191  0.0051842  -1.238 0.216479    \n",
       "---\n",
       "Signif. codes:  0 '***' 0.001 '**' 0.01 '*' 0.05 '.' 0.1 ' ' 1\n",
       "\n",
       "Residual standard error: 0.7176 on 345 degrees of freedom\n",
       "Multiple R-squared:  0.639,\tAdjusted R-squared:  0.6317 \n",
       "F-statistic: 87.25 on 7 and 345 DF,  p-value: < 2.2e-16\n"
      ]
     },
     "metadata": {},
     "output_type": "display_data"
    }
   ],
   "source": [
    "fit2<-lm(log(salary)~years+gamesyr+bavg+hrunsyr+runsyr+fldperc+sbasesyr)\n",
    "summary(fit2)"
   ]
  },
  {
   "cell_type": "markdown",
   "metadata": {},
   "source": [
    "（3）在第（2）部分的模型中，检验 bavg，fldperc 和sbasesyr 的联合显著性."
   ]
  },
  {
   "cell_type": "code",
   "execution_count": 17,
   "metadata": {},
   "outputs": [
    {
     "data": {
      "text/html": [
       "<table>\n",
       "<caption>A anova: 2 × 6</caption>\n",
       "<thead>\n",
       "\t<tr><th scope=col>Res.Df</th><th scope=col>RSS</th><th scope=col>Df</th><th scope=col>Sum of Sq</th><th scope=col>F</th><th scope=col>Pr(&gt;F)</th></tr>\n",
       "\t<tr><th scope=col>&lt;dbl&gt;</th><th scope=col>&lt;dbl&gt;</th><th scope=col>&lt;dbl&gt;</th><th scope=col>&lt;dbl&gt;</th><th scope=col>&lt;dbl&gt;</th><th scope=col>&lt;dbl&gt;</th></tr>\n",
       "</thead>\n",
       "<tbody>\n",
       "\t<tr><td>348</td><td>178.7233</td><td>NA</td><td>      NA</td><td>       NA</td><td>       NA</td></tr>\n",
       "\t<tr><td>345</td><td>177.6651</td><td> 3</td><td>1.058272</td><td>0.6850042</td><td>0.5617088</td></tr>\n",
       "</tbody>\n",
       "</table>\n"
      ],
      "text/latex": [
       "A anova: 2 × 6\n",
       "\\begin{tabular}{r|llllll}\n",
       " Res.Df & RSS & Df & Sum of Sq & F & Pr(>F)\\\\\n",
       " <dbl> & <dbl> & <dbl> & <dbl> & <dbl> & <dbl>\\\\\n",
       "\\hline\n",
       "\t 348 & 178.7233 & NA &       NA &        NA &        NA\\\\\n",
       "\t 345 & 177.6651 &  3 & 1.058272 & 0.6850042 & 0.5617088\\\\\n",
       "\\end{tabular}\n"
      ],
      "text/markdown": [
       "\n",
       "A anova: 2 × 6\n",
       "\n",
       "| Res.Df &lt;dbl&gt; | RSS &lt;dbl&gt; | Df &lt;dbl&gt; | Sum of Sq &lt;dbl&gt; | F &lt;dbl&gt; | Pr(&gt;F) &lt;dbl&gt; |\n",
       "|---|---|---|---|---|---|\n",
       "| 348 | 178.7233 | NA |       NA |        NA |        NA |\n",
       "| 345 | 177.6651 |  3 | 1.058272 | 0.6850042 | 0.5617088 |\n",
       "\n"
      ],
      "text/plain": [
       "  Res.Df RSS      Df Sum of Sq F         Pr(>F)   \n",
       "1 348    178.7233 NA       NA         NA        NA\n",
       "2 345    177.6651  3 1.058272  0.6850042 0.5617088"
      ]
     },
     "metadata": {},
     "output_type": "display_data"
    }
   ],
   "source": [
    "myH0 <- c(\"bavg\",\"fldperc\",\"sbasesyr\") #用联合检验所涉及的变量组成向量，构成H0\n",
    "linearHypothesis(fit2,myH0) #用linearHypothesis()函数做F 检验。 "
   ]
  },
  {
   "cell_type": "markdown",
   "metadata": {},
   "source": [
    "## C4.6【获取置信区间；构造变量检验两个系数相等】 本题要用到 WAGE2.RAW 中的数据。 \n",
    "\n",
    "（1）考虑一个标准的工资方程$\\log{wage}=\\beta_0+\\beta_1 educ+\\beta_2 exper+\\beta_3 tenure+\\mu$ 表述虚拟假设：多一年工作经历与在现在的岗位上多工作一年对 log(wage)具有相同影响。 \n",
    "\n",
    "$H_0:\\beta_2=\\beta_3$\n",
    "\n",
    "（2）在5%的显著性水平上，相对于双侧对立假设，通过构造一个95%置信区间来检验第 （1）部分中的虚拟假设。你得到的结论是什么？ "
   ]
  },
  {
   "cell_type": "code",
   "execution_count": 18,
   "metadata": {},
   "outputs": [
    {
     "name": "stderr",
     "output_type": "stream",
     "text": [
      "The following object is masked from MLB1:\n",
      "\n",
      "    black\n",
      "\n",
      "The following objects are masked from LAWSCH85:\n",
      "\n",
      "    age, south\n",
      "\n"
     ]
    }
   ],
   "source": [
    "WAGE2 <- read_dta(\"C:/Users/bradl/SRM/data/WAGE2.DTA\")\n",
    "attach(WAGE2)\n"
   ]
  },
  {
   "cell_type": "code",
   "execution_count": 19,
   "metadata": {},
   "outputs": [
    {
     "data": {
      "text/plain": [
       "\n",
       "Call:\n",
       "lm(formula = log(wage) ~ educ + exper + I(exper + tenure))\n",
       "\n",
       "Residuals:\n",
       "    Min      1Q  Median      3Q     Max \n",
       "-1.8282 -0.2401  0.0203  0.2569  1.3400 \n",
       "\n",
       "Coefficients:\n",
       "                  Estimate Std. Error t value Pr(>|t|)    \n",
       "(Intercept)       5.496696   0.110528  49.731  < 2e-16 ***\n",
       "educ              0.074864   0.006512  11.495  < 2e-16 ***\n",
       "exper             0.001954   0.004743   0.412    0.681    \n",
       "I(exper + tenure) 0.013375   0.002587   5.170 2.87e-07 ***\n",
       "---\n",
       "Signif. codes:  0 '***' 0.001 '**' 0.01 '*' 0.05 '.' 0.1 ' ' 1\n",
       "\n",
       "Residual standard error: 0.3877 on 931 degrees of freedom\n",
       "Multiple R-squared:  0.1551,\tAdjusted R-squared:  0.1524 \n",
       "F-statistic: 56.97 on 3 and 931 DF,  p-value: < 2.2e-16\n"
      ]
     },
     "metadata": {},
     "output_type": "display_data"
    },
    {
     "data": {
      "text/html": [
       "<table>\n",
       "<caption>A matrix: 4 × 2 of type dbl</caption>\n",
       "<thead>\n",
       "\t<tr><th></th><th scope=col>2.5 %</th><th scope=col>97.5 %</th></tr>\n",
       "</thead>\n",
       "<tbody>\n",
       "\t<tr><th scope=row>(Intercept)</th><td> 5.279782328</td><td>5.71360900</td></tr>\n",
       "\t<tr><th scope=row>educ</th><td> 0.062082990</td><td>0.08764456</td></tr>\n",
       "\t<tr><th scope=row>exper</th><td>-0.007355358</td><td>0.01126271</td></tr>\n",
       "\t<tr><th scope=row>I(exper + tenure)</th><td> 0.008297389</td><td>0.01845221</td></tr>\n",
       "</tbody>\n",
       "</table>\n"
      ],
      "text/latex": [
       "A matrix: 4 × 2 of type dbl\n",
       "\\begin{tabular}{r|ll}\n",
       "  & 2.5 \\% & 97.5 \\%\\\\\n",
       "\\hline\n",
       "\t(Intercept) &  5.279782328 & 5.71360900\\\\\n",
       "\teduc &  0.062082990 & 0.08764456\\\\\n",
       "\texper & -0.007355358 & 0.01126271\\\\\n",
       "\tI(exper + tenure) &  0.008297389 & 0.01845221\\\\\n",
       "\\end{tabular}\n"
      ],
      "text/markdown": [
       "\n",
       "A matrix: 4 × 2 of type dbl\n",
       "\n",
       "| <!--/--> | 2.5 % | 97.5 % |\n",
       "|---|---|---|\n",
       "| (Intercept) |  5.279782328 | 5.71360900 |\n",
       "| educ |  0.062082990 | 0.08764456 |\n",
       "| exper | -0.007355358 | 0.01126271 |\n",
       "| I(exper + tenure) |  0.008297389 | 0.01845221 |\n",
       "\n"
      ],
      "text/plain": [
       "                  2.5 %        97.5 %    \n",
       "(Intercept)        5.279782328 5.71360900\n",
       "educ               0.062082990 0.08764456\n",
       "exper             -0.007355358 0.01126271\n",
       "I(exper + tenure)  0.008297389 0.01845221"
      ]
     },
     "metadata": {},
     "output_type": "display_data"
    }
   ],
   "source": [
    "fit<-lm(log(wage)~educ+exper+I(exper+tenure)) #拟合上述模型。 \n",
    "summary(fit) #查看回归结果。\n",
    "confint(fit) "
   ]
  },
  {
   "cell_type": "markdown",
   "metadata": {},
   "source": [
    "## C4.7【多元回归；保留系数小数位数】\n",
    "\n",
    "参考4.4 节中所用的例子。你将使用数据集TWOYEAR.RAW。 \n",
    "\n",
    "（1）变量phsrank 表示一个人的高中百分位等级。（数字越大越好。比如90 意味着，你的排 名比所在班级中90%的同学更高。）求出样本中phsrank 的最小、最大和平均值。\n",
    "\n",
    "（2）在方程（4.26）中增加变量phsrank，并照常报告OLS 估计值。phsrank 在统计上显著 吗？高中排名提高10 个百分位点，能导致工资增加多少？ \n",
    "\n",
    "（3）在方程（4.26）中增加变量phsrank 显著改变了2 年制和4 年制大学教育回报的结论 吗？请解释。 \n",
    "\n",
    "（4）数据集包含了一个被称为id 的变量。你若在方程（4.17）或（4.26）中增加id，预计它 在统计上不会显著，解释为什么？双侧检验的 p 值是多少？ "
   ]
  },
  {
   "cell_type": "markdown",
   "metadata": {},
   "source": [
    "（2）在方程（4.26）中增加变量phsrank，并照常报告OLS 估计值。phsrank 在统计上显著 吗？高中排名提高10 个百分位点，能导致工资增加多少？ "
   ]
  },
  {
   "cell_type": "code",
   "execution_count": 20,
   "metadata": {},
   "outputs": [
    {
     "name": "stderr",
     "output_type": "stream",
     "text": [
      "The following objects are masked from WAGE2:\n",
      "\n",
      "    black, exper, lwage, south\n",
      "\n",
      "The following object is masked from MLB1:\n",
      "\n",
      "    black\n",
      "\n",
      "The following object is masked from LAWSCH85:\n",
      "\n",
      "    south\n",
      "\n"
     ]
    },
    {
     "data": {
      "text/plain": [
       "\n",
       "Call:\n",
       "lm(formula = lwage ~ jc + I(jc + univ) + exper + phsrank)\n",
       "\n",
       "Residuals:\n",
       "     Min       1Q   Median       3Q      Max \n",
       "-2.09049 -0.28135  0.00538  0.28543  1.79060 \n",
       "\n",
       "Coefficients:\n",
       "               Estimate Std. Error t value Pr(>|t|)    \n",
       "(Intercept)   1.4587472  0.0236211  61.756   <2e-16 ***\n",
       "jc           -0.0093108  0.0069693  -1.336    0.182    \n",
       "I(jc + univ)  0.0754756  0.0025588  29.496   <2e-16 ***\n",
       "exper         0.0049396  0.0001575  31.360   <2e-16 ***\n",
       "phsrank       0.0003032  0.0002389   1.269    0.204    \n",
       "---\n",
       "Signif. codes:  0 '***' 0.001 '**' 0.01 '*' 0.05 '.' 0.1 ' ' 1\n",
       "\n",
       "Residual standard error: 0.4301 on 6758 degrees of freedom\n",
       "Multiple R-squared:  0.2226,\tAdjusted R-squared:  0.2222 \n",
       "F-statistic: 483.8 on 4 and 6758 DF,  p-value: < 2.2e-16\n"
      ]
     },
     "metadata": {},
     "output_type": "display_data"
    }
   ],
   "source": [
    "attach(twoyear) \n",
    "fit1<-lm(lwage~jc+I(jc+univ)+exper+phsrank) #拟合上述模型。\n",
    "summary(fit1) "
   ]
  },
  {
   "cell_type": "markdown",
   "metadata": {},
   "source": [
    "（3）在方程（4.26）中增加变量phsrank 显著改变了2年制和4年制大学教育回报的结论 吗？请解释。 "
   ]
  },
  {
   "cell_type": "code",
   "execution_count": 21,
   "metadata": {},
   "outputs": [
    {
     "data": {
      "text/plain": [
       "\n",
       "Call:\n",
       "lm(formula = lwage ~ jc + I(jc + univ) + exper)\n",
       "\n",
       "Residuals:\n",
       "     Min       1Q   Median       3Q      Max \n",
       "-2.10362 -0.28132  0.00551  0.28518  1.78167 \n",
       "\n",
       "Coefficients:\n",
       "               Estimate Std. Error t value Pr(>|t|)    \n",
       "(Intercept)   1.4723256  0.0210602  69.910   <2e-16 ***\n",
       "jc           -0.0101795  0.0069359  -1.468    0.142    \n",
       "I(jc + univ)  0.0768762  0.0023087  33.298   <2e-16 ***\n",
       "exper         0.0049442  0.0001575  31.397   <2e-16 ***\n",
       "---\n",
       "Signif. codes:  0 '***' 0.001 '**' 0.01 '*' 0.05 '.' 0.1 ' ' 1\n",
       "\n",
       "Residual standard error: 0.4301 on 6759 degrees of freedom\n",
       "Multiple R-squared:  0.2224,\tAdjusted R-squared:  0.2221 \n",
       "F-statistic: 644.5 on 3 and 6759 DF,  p-value: < 2.2e-16\n"
      ]
     },
     "metadata": {},
     "output_type": "display_data"
    }
   ],
   "source": [
    "fit2<-lm(lwage~jc+I(jc+univ)+exper) #拟合上述模型。\n",
    "summary(fit2) "
   ]
  },
  {
   "cell_type": "markdown",
   "metadata": {},
   "source": [
    "（4）数据集包含了一个被称为id的变量。你若在方程（4.17）或（4.26）中增加id，预计它 在统计上不会显著，解释为什么？双侧检验的 p 值是多少？ "
   ]
  },
  {
   "cell_type": "code",
   "execution_count": 22,
   "metadata": {},
   "outputs": [
    {
     "data": {
      "text/plain": [
       "\n",
       "Call:\n",
       "lm(formula = lwage ~ jc + I(jc + univ) + exper + id)\n",
       "\n",
       "Residuals:\n",
       "     Min       1Q   Median       3Q      Max \n",
       "-2.09931 -0.28196  0.00501  0.28563  1.78346 \n",
       "\n",
       "Coefficients:\n",
       "               Estimate Std. Error t value Pr(>|t|)    \n",
       "(Intercept)   1.468e+00  2.283e-02  64.279   <2e-16 ***\n",
       "jc           -1.022e-02  6.937e-03  -1.473    0.141    \n",
       "I(jc + univ)  7.688e-02  2.309e-03  33.298   <2e-16 ***\n",
       "exper         4.946e-03  1.575e-04  31.400   <2e-16 ***\n",
       "id            1.139e-07  2.094e-07   0.544    0.587    \n",
       "---\n",
       "Signif. codes:  0 '***' 0.001 '**' 0.01 '*' 0.05 '.' 0.1 ' ' 1\n",
       "\n",
       "Residual standard error: 0.4302 on 6758 degrees of freedom\n",
       "Multiple R-squared:  0.2225,\tAdjusted R-squared:  0.222 \n",
       "F-statistic: 483.4 on 4 and 6758 DF,  p-value: < 2.2e-16\n"
      ]
     },
     "metadata": {},
     "output_type": "display_data"
    },
    {
     "data": {
      "text/html": [
       "<dl class=dl-horizontal>\n",
       "\t<dt>(Intercept)</dt>\n",
       "\t\t<dd>1.47232558</dd>\n",
       "\t<dt>jc</dt>\n",
       "\t\t<dd>-0.01017953</dd>\n",
       "\t<dt>I(jc + univ)</dt>\n",
       "\t\t<dd>0.07687625</dd>\n",
       "\t<dt>exper</dt>\n",
       "\t\t<dd>0.00494422</dd>\n",
       "</dl>\n"
      ],
      "text/latex": [
       "\\begin{description*}\n",
       "\\item[(Intercept)] 1.47232558\n",
       "\\item[jc] -0.01017953\n",
       "\\item[I(jc + univ)] 0.07687625\n",
       "\\item[exper] 0.00494422\n",
       "\\end{description*}\n"
      ],
      "text/markdown": [
       "(Intercept)\n",
       ":   1.47232558jc\n",
       ":   -0.01017953I(jc + univ)\n",
       ":   0.07687625exper\n",
       ":   0.00494422\n",
       "\n"
      ],
      "text/plain": [
       " (Intercept)           jc I(jc + univ)        exper \n",
       "  1.47232558  -0.01017953   0.07687625   0.00494422 "
      ]
     },
     "metadata": {},
     "output_type": "display_data"
    }
   ],
   "source": [
    "fit3<-lm(lwage~jc+I(jc+univ)+exper+id)\n",
    "summary(fit3)\n",
    "round(fit2$coefficients,8) "
   ]
  },
  {
   "cell_type": "markdown",
   "metadata": {},
   "source": [
    "## C4.8【自定义假设的检验；单侧假设检验；手动计算 t、p值；按条件选入观测；子样本回归】 \n",
    "\n",
    "数据集401KSUBS.RAW 包含了金融财富（nettfa）、被调查者年龄（age）、家庭年收入 （inc）、家庭规模（fsize）方面的信息，以及参与美国个人的特定养老金计划方面的信息。财 富和收入变量都以千美元为单位记录。对于这里的问题，只使用单身者数据（fsize=1）。 \n",
    "\n",
    "（1）数据集中有多少单身者？ \n",
    "\n",
    "（2）利用OLS 估计模型 $nettfa=\\beta_0+\\beta_1 inc+\\beta_2 age+\\mu$并以常用格式报告结果。解释斜率系数。斜率估计值有何惊人之处吗？ \n",
    "\n",
    "（3）第（2）部分的回归截距有重要意义吗？请解释。 \n",
    "\n",
    "（4）在1%的显著性水平上，针对 $H_1：\\beta_2<1$ 检验$H_0：\\beta_2=1$，求出p 值。你能拒绝H0吗？ \n",
    "\n",
    "（5）如果你做一个nettfa 对inc的简单回归，inc的斜率估计值与第（2）部分的估计值有很大不同吗？为什么？ \n"
   ]
  },
  {
   "cell_type": "code",
   "execution_count": 23,
   "metadata": {},
   "outputs": [
    {
     "name": "stderr",
     "output_type": "stream",
     "text": [
      "The following object is masked from WAGE2:\n",
      "\n",
      "    age\n",
      "\n",
      "The following object is masked from BWGHT:\n",
      "\n",
      "    male\n",
      "\n",
      "The following object is masked from LAWSCH85:\n",
      "\n",
      "    age\n",
      "\n"
     ]
    }
   ],
   "source": [
    "X401ksubs <- read_dta(\"C:/Users/bradl/SRM/data/401ksubs.dta\")\n",
    "attach(X401ksubs)  "
   ]
  },
  {
   "cell_type": "markdown",
   "metadata": {},
   "source": [
    "（1）数据集中有多少单身者？ "
   ]
  },
  {
   "cell_type": "code",
   "execution_count": 24,
   "metadata": {},
   "outputs": [
    {
     "data": {
      "text/html": [
       "2017"
      ],
      "text/latex": [
       "2017"
      ],
      "text/markdown": [
       "2017"
      ],
      "text/plain": [
       "[1] 2017"
      ]
     },
     "metadata": {},
     "output_type": "display_data"
    }
   ],
   "source": [
    "a<-X401ksubs [fsize==1,] \n",
    "length(a$fsize) "
   ]
  },
  {
   "cell_type": "markdown",
   "metadata": {},
   "source": [
    "（2）利用OLS 估计模型 $nettfa=\\beta_0+\\beta_1 inc+\\beta_2 age+\\mu$并以常用格式报告结果。解释斜率系数。斜率估计值有何惊人之处吗？ "
   ]
  },
  {
   "cell_type": "code",
   "execution_count": 25,
   "metadata": {},
   "outputs": [
    {
     "data": {
      "text/plain": [
       "\n",
       "Call:\n",
       "lm(formula = nettfa ~ inc + age, data = a)\n",
       "\n",
       "Residuals:\n",
       "    Min      1Q  Median      3Q     Max \n",
       "-179.95  -14.16   -3.42    6.03 1113.94 \n",
       "\n",
       "Coefficients:\n",
       "             Estimate Std. Error t value Pr(>|t|)    \n",
       "(Intercept) -43.03981    4.08039 -10.548   <2e-16 ***\n",
       "inc           0.79932    0.05973  13.382   <2e-16 ***\n",
       "age           0.84266    0.09202   9.158   <2e-16 ***\n",
       "---\n",
       "Signif. codes:  0 '***' 0.001 '**' 0.01 '*' 0.05 '.' 0.1 ' ' 1\n",
       "\n",
       "Residual standard error: 44.68 on 2014 degrees of freedom\n",
       "Multiple R-squared:  0.1193,\tAdjusted R-squared:  0.1185 \n",
       "F-statistic: 136.5 on 2 and 2014 DF,  p-value: < 2.2e-16\n"
      ]
     },
     "metadata": {},
     "output_type": "display_data"
    }
   ],
   "source": [
    "fit1<-lm(nettfa~inc+age, data = a) \n",
    "summary(fit1) "
   ]
  },
  {
   "cell_type": "markdown",
   "metadata": {},
   "source": [
    "（4）在1%的显著性水平上，针对 $H_1：\\beta_2<1$ 检验$H_0：\\beta_2=1$，求出p 值。你能拒绝H0吗？ "
   ]
  },
  {
   "cell_type": "code",
   "execution_count": 26,
   "metadata": {},
   "outputs": [
    {
     "data": {
      "text/html": [
       "0.0437151388035623"
      ],
      "text/latex": [
       "0.0437151388035623"
      ],
      "text/markdown": [
       "0.0437151388035623"
      ],
      "text/plain": [
       "[1] 0.04371514"
      ]
     },
     "metadata": {},
     "output_type": "display_data"
    }
   ],
   "source": [
    "b<- summary(fit1) #把fit1 拟合结果保存在b 中。 \n",
    "c<-b$coefficients #把拟合所得到的系数保存在c 中。c 为一个矩阵。\n",
    "agehat<-c[3,1] #age 的估计值就是 c[3,1]，保存在 agehat 中。 \n",
    "agese<-c[3,2] #age 的标准误就是c[3,2]，保存在agese 中。 \n",
    "t<-(agehat-1)/agese #根据t 统计量的公式\n",
    "p<-pt(-abs(t),2014)\n",
    "p"
   ]
  },
  {
   "cell_type": "markdown",
   "metadata": {},
   "source": [
    "（5）如果你做一个nettfa 对inc 的简单回归，inc 的斜率估计值与第（2）部分的估计值有很 大不同吗？为什么？ "
   ]
  },
  {
   "cell_type": "code",
   "execution_count": 27,
   "metadata": {},
   "outputs": [
    {
     "data": {
      "text/plain": [
       "\n",
       "Call:\n",
       "lm(formula = nettfa ~ inc, data = a)\n",
       "\n",
       "Residuals:\n",
       "    Min      1Q  Median      3Q     Max \n",
       "-185.12  -12.85   -4.85    1.78 1112.66 \n",
       "\n",
       "Coefficients:\n",
       "            Estimate Std. Error t value Pr(>|t|)    \n",
       "(Intercept) -10.5709     2.0607   -5.13 3.18e-07 ***\n",
       "inc           0.8207     0.0609   13.48  < 2e-16 ***\n",
       "---\n",
       "Signif. codes:  0 '***' 0.001 '**' 0.01 '*' 0.05 '.' 0.1 ' ' 1\n",
       "\n",
       "Residual standard error: 45.59 on 2015 degrees of freedom\n",
       "Multiple R-squared:  0.08267,\tAdjusted R-squared:  0.08222 \n",
       "F-statistic: 181.6 on 1 and 2015 DF,  p-value: < 2.2e-16\n"
      ]
     },
     "metadata": {},
     "output_type": "display_data"
    },
    {
     "data": {
      "text/html": [
       "0.0390586433554198"
      ],
      "text/latex": [
       "0.0390586433554198"
      ],
      "text/markdown": [
       "0.0390586433554198"
      ],
      "text/plain": [
       "[1] 0.03905864"
      ]
     },
     "metadata": {},
     "output_type": "display_data"
    }
   ],
   "source": [
    "fit2<-lm(nettfa~inc,data = a) #拟合上述回归。 \n",
    "summary(fit2) #查看回归结果。inc 的系数为0.8207，与（2）中的0.79932 差别不大。 \n",
    "cor(a$inc, a$age,method = \"pearson\") #计算a 中inc 和age 之间的皮尔森相关系数，结果为 0.039。说明在样本中，两者的关系很弱。因此，即便在模型中去掉age，inc 的系数也变化不 大。 "
   ]
  },
  {
   "cell_type": "markdown",
   "metadata": {},
   "source": [
    "## C4.9【选取变量；皮尔森相关系数；F 检验】 \n",
    "\n",
    "利用DISCRIM.RAM 中的数据回答本题。（也可参见第3 章计算机习题 C3.8。）（第3 章计算 机习题C3.8：“利用DISCRIM.RAW 中的数据回答本题。对新泽西和宾夕法尼亚的各个邮区，搜 集快餐店各种商品价格和人口特征方面的数据。目的是想考察快餐店是否在黑人更集中的区域 收取跟高的价格。”） \n",
    "\n",
    "（1）利用OLS 估计模型\n",
    "$\\log{psoda}=\\beta_0+\\beta_1 prpblck+\\beta_2 \\log{income}+\\beta_3 prppov+\\mu$以常用形式报告结果。在5%显著性水平上，相对一个双侧假设检验，$\\hat{\\beta_1}$统计显著吗？在1%的显著性水平上呢？\n",
    "\n",
    "（2）log（income)和prppov的相关系数是多少？每个变量都是统计显著的吗？报告双侧p 值。 \n",
    "\n",
    "（3）在第（1）部分的回归中增加变量log(hseval)。解释其系数并报告$H_0:\\beta_{log(hseval)}=0$的双侧p值。 \n",
    "\n",
    "（4）在第（3）部分的回归中，log(income)和prppov的个别统计显著性有何变化？这些变量联合显著吗？（计算一个p值。）你如何解释你的答案.\n",
    "\n",
    "（5）给定前面的回归结果，在确定一个邮区的种族构成是否影响当地快餐价格时，你会报告 哪一个结果才最可靠。"
   ]
  },
  {
   "cell_type": "markdown",
   "metadata": {},
   "source": [
    "（1）利用OLS 估计模型\n",
    "$\\log{psoda}=\\beta_0+\\beta_1 prpblck+\\beta_2 \\log{income}+\\beta_3 prppov+\\mu$以常用形式报告结果。在5%显著性水平上，相对一个双侧假设检验，$\\hat{\\beta_1}$统计显著吗？在1%的显著性水平上呢？"
   ]
  },
  {
   "cell_type": "code",
   "execution_count": 28,
   "metadata": {},
   "outputs": [
    {
     "name": "stderr",
     "output_type": "stream",
     "text": [
      "The following object is masked from VOTE1:\n",
      "\n",
      "    state\n",
      "\n"
     ]
    },
    {
     "data": {
      "text/plain": [
       "\n",
       "Call:\n",
       "lm(formula = log(psoda) ~ prpblck + log(income) + prppov)\n",
       "\n",
       "Residuals:\n",
       "     Min       1Q   Median       3Q      Max \n",
       "-0.32218 -0.04648  0.00651  0.04272  0.35622 \n",
       "\n",
       "Coefficients:\n",
       "            Estimate Std. Error t value Pr(>|t|)    \n",
       "(Intercept) -1.46333    0.29371  -4.982  9.4e-07 ***\n",
       "prpblck      0.07281    0.03068   2.373   0.0181 *  \n",
       "log(income)  0.13696    0.02676   5.119  4.8e-07 ***\n",
       "prppov       0.38036    0.13279   2.864   0.0044 ** \n",
       "---\n",
       "Signif. codes:  0 '***' 0.001 '**' 0.01 '*' 0.05 '.' 0.1 ' ' 1\n",
       "\n",
       "Residual standard error: 0.08137 on 397 degrees of freedom\n",
       "  (9 observations deleted due to missingness)\n",
       "Multiple R-squared:  0.08696,\tAdjusted R-squared:  0.08006 \n",
       "F-statistic:  12.6 on 3 and 397 DF,  p-value: 6.917e-08\n"
      ]
     },
     "metadata": {},
     "output_type": "display_data"
    }
   ],
   "source": [
    "attach(discrim)\n",
    "fit1<-lm(log(psoda)~prpblck+log(income)+prppov) #拟合上述回归。 \n",
    "summary(fit1) "
   ]
  },
  {
   "cell_type": "markdown",
   "metadata": {},
   "source": [
    "（2）log（income)和prppov的相关系数是多少？每个变量都是统计显著的吗？报告双侧p 值。 "
   ]
  },
  {
   "cell_type": "code",
   "execution_count": 29,
   "metadata": {},
   "outputs": [
    {
     "data": {
      "text/html": [
       "-0.840206894430443"
      ],
      "text/latex": [
       "-0.840206894430443"
      ],
      "text/markdown": [
       "-0.840206894430443"
      ],
      "text/plain": [
       "[1] -0.8402069"
      ]
     },
     "metadata": {},
     "output_type": "display_data"
    }
   ],
   "source": [
    "a<-discrim[c(\"psoda\",\"prpblck\",\"income\",\"prppov\")] #把模型中的变量保存在a 中。 \n",
    "b<-na.omit(a) #令b 为a 中没有缺失值的观测，也就是在拟合fit1 时R 所用的观测。 l\n",
    "logincome<-log(b$income) #计算log(income)。 \n",
    "cor(logincome, b$prppov,method = \"pearson\")  #计算logincome 和prppov 之间的皮尔森相关系 数，结果为-0.8402069。说明在样本中，两者的相关性比较紧密"
   ]
  },
  {
   "cell_type": "code",
   "execution_count": 30,
   "metadata": {},
   "outputs": [
    {
     "name": "stdout",
     "output_type": "stream",
     "text": [
      "\n",
      "==================================================\n",
      "                         Dependent variable:      \n",
      "                    ------------------------------\n",
      "                              log(psoda)          \n",
      "--------------------------------------------------\n",
      "prpblck                     0.0728072600**        \n",
      "                           p = 0.0180976000       \n",
      "                                                  \n",
      "log(income)                0.1369552000***        \n",
      "                           p = 0.0000004803       \n",
      "                                                  \n",
      "prppov                     0.3803597000***        \n",
      "                           p = 0.0044003600       \n",
      "                                                  \n",
      "Constant                   -1.4633320000***       \n",
      "                           p = 0.0000009401       \n",
      "                                                  \n",
      "--------------------------------------------------\n",
      "Observations                     401              \n",
      "R2                           0.0869615400         \n",
      "Adjusted R2                  0.0800620100         \n",
      "Residual Std. Error    0.0813675500 (df = 397)    \n",
      "F Statistic         12.6039700000*** (df = 3; 397)\n",
      "==================================================\n",
      "Note:                  *p<0.1; **p<0.05; ***p<0.01\n"
     ]
    }
   ],
   "source": [
    "stargazer(fit1, type=\"text\", report=('vc*p'),digits = 10) #显示p 值，保留10 位小数。 "
   ]
  },
  {
   "cell_type": "markdown",
   "metadata": {},
   "source": [
    "（3）在第（1）部分的回归中增加变量log(hseval)。解释其系数并报告$H_0:\\beta_{log(hseval)}=0$的双侧p值。"
   ]
  },
  {
   "cell_type": "code",
   "execution_count": 31,
   "metadata": {},
   "outputs": [
    {
     "data": {
      "text/plain": [
       "\n",
       "Call:\n",
       "lm(formula = log(psoda) ~ prpblck + log(income) + prppov + log(hseval))\n",
       "\n",
       "Residuals:\n",
       "     Min       1Q   Median       3Q      Max \n",
       "-0.30652 -0.04380  0.00701  0.04332  0.35272 \n",
       "\n",
       "Coefficients:\n",
       "            Estimate Std. Error t value Pr(>|t|)    \n",
       "(Intercept) -0.84151    0.29243  -2.878 0.004224 ** \n",
       "prpblck      0.09755    0.02926   3.334 0.000937 ***\n",
       "log(income) -0.05299    0.03753  -1.412 0.158706    \n",
       "prppov       0.05212    0.13450   0.388 0.698571    \n",
       "log(hseval)  0.12131    0.01768   6.860 2.67e-11 ***\n",
       "---\n",
       "Signif. codes:  0 '***' 0.001 '**' 0.01 '*' 0.05 '.' 0.1 ' ' 1\n",
       "\n",
       "Residual standard error: 0.07702 on 396 degrees of freedom\n",
       "  (9 observations deleted due to missingness)\n",
       "Multiple R-squared:  0.1839,\tAdjusted R-squared:  0.1757 \n",
       "F-statistic: 22.31 on 4 and 396 DF,  p-value: < 2.2e-16\n"
      ]
     },
     "metadata": {},
     "output_type": "display_data"
    }
   ],
   "source": [
    "fit2<-lm(log(psoda)~prpblck+log(income)+prppov+log(hseval)) #拟合上述回归。 \n",
    "summary(fit2) #"
   ]
  },
  {
   "cell_type": "markdown",
   "metadata": {},
   "source": [
    "（4）在第（3）部分的回归中，log(income)和prppov的个别统计显著性有何变化？这些变量联合显著吗？（计算一个p值。）你如何解释你的答案."
   ]
  },
  {
   "cell_type": "code",
   "execution_count": 32,
   "metadata": {},
   "outputs": [
    {
     "data": {
      "text/html": [
       "<table>\n",
       "<caption>A anova: 2 × 6</caption>\n",
       "<thead>\n",
       "\t<tr><th scope=col>Res.Df</th><th scope=col>RSS</th><th scope=col>Df</th><th scope=col>Sum of Sq</th><th scope=col>F</th><th scope=col>Pr(&gt;F)</th></tr>\n",
       "\t<tr><th scope=col>&lt;dbl&gt;</th><th scope=col>&lt;dbl&gt;</th><th scope=col>&lt;dbl&gt;</th><th scope=col>&lt;dbl&gt;</th><th scope=col>&lt;dbl&gt;</th><th scope=col>&lt;dbl&gt;</th></tr>\n",
       "</thead>\n",
       "<tbody>\n",
       "\t<tr><td>398</td><td>2.391058</td><td>NA</td><td>        NA</td><td>      NA</td><td>        NA</td></tr>\n",
       "\t<tr><td>396</td><td>2.349262</td><td> 2</td><td>0.04179654</td><td>3.522687</td><td>0.03044854</td></tr>\n",
       "</tbody>\n",
       "</table>\n"
      ],
      "text/latex": [
       "A anova: 2 × 6\n",
       "\\begin{tabular}{r|llllll}\n",
       " Res.Df & RSS & Df & Sum of Sq & F & Pr(>F)\\\\\n",
       " <dbl> & <dbl> & <dbl> & <dbl> & <dbl> & <dbl>\\\\\n",
       "\\hline\n",
       "\t 398 & 2.391058 & NA &         NA &       NA &         NA\\\\\n",
       "\t 396 & 2.349262 &  2 & 0.04179654 & 3.522687 & 0.03044854\\\\\n",
       "\\end{tabular}\n"
      ],
      "text/markdown": [
       "\n",
       "A anova: 2 × 6\n",
       "\n",
       "| Res.Df &lt;dbl&gt; | RSS &lt;dbl&gt; | Df &lt;dbl&gt; | Sum of Sq &lt;dbl&gt; | F &lt;dbl&gt; | Pr(&gt;F) &lt;dbl&gt; |\n",
       "|---|---|---|---|---|---|\n",
       "| 398 | 2.391058 | NA |         NA |       NA |         NA |\n",
       "| 396 | 2.349262 |  2 | 0.04179654 | 3.522687 | 0.03044854 |\n",
       "\n"
      ],
      "text/plain": [
       "  Res.Df RSS      Df Sum of Sq  F        Pr(>F)    \n",
       "1 398    2.391058 NA         NA       NA         NA\n",
       "2 396    2.349262  2 0.04179654 3.522687 0.03044854"
      ]
     },
     "metadata": {},
     "output_type": "display_data"
    }
   ],
   "source": [
    "myH0 <- c(\"log(income)\",\"prppov\") #用联合检验所涉及的变量组成向量，构成H0。 \n",
    "linearHypothesis(fit2,myH0) "
   ]
  },
  {
   "cell_type": "code",
   "execution_count": 33,
   "metadata": {},
   "outputs": [
    {
     "data": {
      "text/html": [
       "<table>\n",
       "<caption>A matrix: 3 × 3 of type dbl</caption>\n",
       "<thead>\n",
       "\t<tr><th></th><th scope=col>logincome</th><th scope=col>e.prppov</th><th scope=col>loghseval</th></tr>\n",
       "</thead>\n",
       "<tbody>\n",
       "\t<tr><th scope=row>logincome</th><td> 1.0000000</td><td>-0.8402069</td><td> 0.7988053</td></tr>\n",
       "\t<tr><th scope=row>e.prppov</th><td>-0.8402069</td><td> 1.0000000</td><td>-0.5574487</td></tr>\n",
       "\t<tr><th scope=row>loghseval</th><td> 0.7988053</td><td>-0.5574487</td><td> 1.0000000</td></tr>\n",
       "</tbody>\n",
       "</table>\n"
      ],
      "text/latex": [
       "A matrix: 3 × 3 of type dbl\n",
       "\\begin{tabular}{r|lll}\n",
       "  & logincome & e.prppov & loghseval\\\\\n",
       "\\hline\n",
       "\tlogincome &  1.0000000 & -0.8402069 &  0.7988053\\\\\n",
       "\te.prppov & -0.8402069 &  1.0000000 & -0.5574487\\\\\n",
       "\tloghseval &  0.7988053 & -0.5574487 &  1.0000000\\\\\n",
       "\\end{tabular}\n"
      ],
      "text/markdown": [
       "\n",
       "A matrix: 3 × 3 of type dbl\n",
       "\n",
       "| <!--/--> | logincome | e.prppov | loghseval |\n",
       "|---|---|---|---|\n",
       "| logincome |  1.0000000 | -0.8402069 |  0.7988053 |\n",
       "| e.prppov | -0.8402069 |  1.0000000 | -0.5574487 |\n",
       "| loghseval |  0.7988053 | -0.5574487 |  1.0000000 |\n",
       "\n"
      ],
      "text/plain": [
       "          logincome  e.prppov   loghseval \n",
       "logincome  1.0000000 -0.8402069  0.7988053\n",
       "e.prppov  -0.8402069  1.0000000 -0.5574487\n",
       "loghseval  0.7988053 -0.5574487  1.0000000"
      ]
     },
     "metadata": {},
     "output_type": "display_data"
    }
   ],
   "source": [
    "d<-discrim[c(\"psoda\",\"prpblck\",\"income\",\"prppov\",\"hseval\")] #把 fit2 模型中的变量保存在d 中。 \n",
    "e<-na.omit(d) \n",
    "logincome<-log(e$income) #计算log(income)。 \n",
    "loghseval<-log(e$hseval) #计算log(hseval)。 \n",
    "f<-data.frame(logincome,e$prppov,loghseval) #把logincome、e$prppov、loghseval 放在一个数据 框中。 \n",
    "cor(f) "
   ]
  },
  {
   "cell_type": "markdown",
   "metadata": {},
   "source": [
    "（5）给定前面的回归结果，在确定一个邮区的种族构成是否影响当地快餐价格时，你会报告 哪一个结果才最可靠。\n",
    "\n",
    "因为我们检验的是“一个邮区的种族构成是否影响当地快餐价格”，所以即便控制变量 log(income)、prppov、log(hseval)间存在较强的相关性，我们也倾向于增加控制变量。可况 log(hseval)是显著的，而另外两个控制变量也联合显著。所以，fit2 的模型更好，更可靠。 detach(discrim)  #解除绑定数据集discrim。 "
   ]
  },
  {
   "cell_type": "markdown",
   "metadata": {},
   "source": [
    "## C4.10【自定义假设的检验；获取置信区间】 \n",
    "\n",
    "利用ELEM94_95.RAW 中的数据回答本题。所得到的结论可以与表4.1 中的结论进行对比。因 变量lavgsal 表示教师平均薪水的对数，bs 表示平均福利与平均薪水的比率（以学校为单 位）。 \n",
    "\n",
    "（1）将lavgsal 对bs 进行简单回归。斜率估计值在统计上显著异于0 吗？它在统计上显著地 异于-1 吗？ \n",
    "\n",
    "（2）在第（1）部分的回归中增加变量lenrol 和lstaff。bs 的系数有何变化？这种情形与表4.1 中的情形相比如何？ \n",
    "\n",
    "（3）第（2）比分中bs 系数的标准误为何比第（1）部分中的标准误更小？（提示：当增加变 量lenrol 和lstaff 后，对误差方差和多重共线性会造成什么样的影响？） \n",
    "\n",
    "（4）lstaff 的系数为何为负？它的绝对值算大吗？ \n",
    "\n",
    "（5）在回归中再添加变量lunch。保持其他条件不变，教师会因教育那些家庭条件不好的学生 而得到补偿吗？请解释你的结论。 \n",
    "\n",
    "（6）总之，你利用ELEM94_95.RAW 得到的结论，与表4.1 在形式上一致吗？ "
   ]
  },
  {
   "cell_type": "code",
   "execution_count": 34,
   "metadata": {},
   "outputs": [],
   "source": [
    "attach(elem94_95)"
   ]
  },
  {
   "cell_type": "markdown",
   "metadata": {},
   "source": [
    "（1）将lavgsal 对bs 进行简单回归。斜率估计值在统计上显著异于0 吗？它在统计上显著地 异于-1 吗"
   ]
  },
  {
   "cell_type": "code",
   "execution_count": 35,
   "metadata": {},
   "outputs": [
    {
     "data": {
      "text/plain": [
       "\n",
       "Call:\n",
       "lm(formula = lavgsal ~ bs)\n",
       "\n",
       "Residuals:\n",
       "     Min       1Q   Median       3Q      Max \n",
       "-1.19563 -0.14294  0.00525  0.14699  0.77352 \n",
       "\n",
       "Coefficients:\n",
       "            Estimate Std. Error t value Pr(>|t|)    \n",
       "(Intercept) 10.74790    0.05166 208.042  < 2e-16 ***\n",
       "bs          -0.79512    0.14965  -5.313 1.21e-07 ***\n",
       "---\n",
       "Signif. codes:  0 '***' 0.001 '**' 0.01 '*' 0.05 '.' 0.1 ' ' 1\n",
       "\n",
       "Residual standard error: 0.2312 on 1846 degrees of freedom\n",
       "Multiple R-squared:  0.01506,\tAdjusted R-squared:  0.01453 \n",
       "F-statistic: 28.23 on 1 and 1846 DF,  p-value: 1.208e-07\n"
      ]
     },
     "metadata": {},
     "output_type": "display_data"
    },
    {
     "data": {
      "text/html": [
       "<table>\n",
       "<caption>A matrix: 2 × 4 of type dbl</caption>\n",
       "<thead>\n",
       "\t<tr><th></th><th scope=col>Estimate</th><th scope=col>Std. Error</th><th scope=col>t value</th><th scope=col>Pr(&gt;|t|)</th></tr>\n",
       "</thead>\n",
       "<tbody>\n",
       "\t<tr><th scope=row>(Intercept)</th><td>10.7478965</td><td>0.05166222</td><td>208.041706</td><td>0.000000e+00</td></tr>\n",
       "\t<tr><th scope=row>bs</th><td>-0.7951249</td><td>0.14965447</td><td> -5.313071</td><td>1.208469e-07</td></tr>\n",
       "</tbody>\n",
       "</table>\n"
      ],
      "text/latex": [
       "A matrix: 2 × 4 of type dbl\n",
       "\\begin{tabular}{r|llll}\n",
       "  & Estimate & Std. Error & t value & Pr(>\\textbar{}t\\textbar{})\\\\\n",
       "\\hline\n",
       "\t(Intercept) & 10.7478965 & 0.05166222 & 208.041706 & 0.000000e+00\\\\\n",
       "\tbs & -0.7951249 & 0.14965447 &  -5.313071 & 1.208469e-07\\\\\n",
       "\\end{tabular}\n"
      ],
      "text/markdown": [
       "\n",
       "A matrix: 2 × 4 of type dbl\n",
       "\n",
       "| <!--/--> | Estimate | Std. Error | t value | Pr(&gt;|t|) |\n",
       "|---|---|---|---|---|\n",
       "| (Intercept) | 10.7478965 | 0.05166222 | 208.041706 | 0.000000e+00 |\n",
       "| bs | -0.7951249 | 0.14965447 |  -5.313071 | 1.208469e-07 |\n",
       "\n"
      ],
      "text/plain": [
       "            Estimate   Std. Error t value    Pr(>|t|)    \n",
       "(Intercept) 10.7478965 0.05166222 208.041706 0.000000e+00\n",
       "bs          -0.7951249 0.14965447  -5.313071 1.208469e-07"
      ]
     },
     "metadata": {},
     "output_type": "display_data"
    }
   ],
   "source": [
    "fit1<-lm(lavgsal~bs) #将lavgsal 对bs 进行简单回归 \n",
    "summary(fit1) \n",
    "a<-summary(fit1) #把fit1 拟合结果保存在a 中。 \n",
    "b<-a$coefficients \n",
    "b\n",
    "bshat<-b[2,1] #bs 的估计值就是b[2,1]，保存在 bshat 中。 \n",
    "bsse<-b[2,2] #bs 的标准误就是b[2,2]，保存在 bsse 中。 \n",
    "t<-(bshat+1)/bsse #根据t 统计量的公式\n",
    "p<-2*pt(-abs(t),1846)"
   ]
  },
  {
   "cell_type": "code",
   "execution_count": 36,
   "metadata": {},
   "outputs": [
    {
     "data": {
      "text/html": [
       "<table>\n",
       "<caption>A matrix: 2 × 2 of type dbl</caption>\n",
       "<thead>\n",
       "\t<tr><th></th><th scope=col>2.5 %</th><th scope=col>97.5 %</th></tr>\n",
       "</thead>\n",
       "<tbody>\n",
       "\t<tr><th scope=row>(Intercept)</th><td>10.646574</td><td>10.849219</td></tr>\n",
       "\t<tr><th scope=row>bs</th><td>-1.088635</td><td>-0.501615</td></tr>\n",
       "</tbody>\n",
       "</table>\n"
      ],
      "text/latex": [
       "A matrix: 2 × 2 of type dbl\n",
       "\\begin{tabular}{r|ll}\n",
       "  & 2.5 \\% & 97.5 \\%\\\\\n",
       "\\hline\n",
       "\t(Intercept) & 10.646574 & 10.849219\\\\\n",
       "\tbs & -1.088635 & -0.501615\\\\\n",
       "\\end{tabular}\n"
      ],
      "text/markdown": [
       "\n",
       "A matrix: 2 × 2 of type dbl\n",
       "\n",
       "| <!--/--> | 2.5 % | 97.5 % |\n",
       "|---|---|---|\n",
       "| (Intercept) | 10.646574 | 10.849219 |\n",
       "| bs | -1.088635 | -0.501615 |\n",
       "\n"
      ],
      "text/plain": [
       "            2.5 %     97.5 %   \n",
       "(Intercept) 10.646574 10.849219\n",
       "bs          -1.088635 -0.501615"
      ]
     },
     "metadata": {},
     "output_type": "display_data"
    }
   ],
   "source": [
    "confint(fit1) #获得系数在 95%的置信区间"
   ]
  },
  {
   "cell_type": "code",
   "execution_count": 37,
   "metadata": {},
   "outputs": [
    {
     "data": {
      "text/html": [
       "<table>\n",
       "<caption>A matrix: 2 × 2 of type dbl</caption>\n",
       "<thead>\n",
       "\t<tr><th></th><th scope=col>5 %</th><th scope=col>95 %</th></tr>\n",
       "</thead>\n",
       "<tbody>\n",
       "\t<tr><th scope=row>(Intercept)</th><td>10.662877</td><td>10.8329160</td></tr>\n",
       "\t<tr><th scope=row>bs</th><td>-1.041408</td><td>-0.5488416</td></tr>\n",
       "</tbody>\n",
       "</table>\n"
      ],
      "text/latex": [
       "A matrix: 2 × 2 of type dbl\n",
       "\\begin{tabular}{r|ll}\n",
       "  & 5 \\% & 95 \\%\\\\\n",
       "\\hline\n",
       "\t(Intercept) & 10.662877 & 10.8329160\\\\\n",
       "\tbs & -1.041408 & -0.5488416\\\\\n",
       "\\end{tabular}\n"
      ],
      "text/markdown": [
       "\n",
       "A matrix: 2 × 2 of type dbl\n",
       "\n",
       "| <!--/--> | 5 % | 95 % |\n",
       "|---|---|---|\n",
       "| (Intercept) | 10.662877 | 10.8329160 |\n",
       "| bs | -1.041408 | -0.5488416 |\n",
       "\n"
      ],
      "text/plain": [
       "            5 %       95 %      \n",
       "(Intercept) 10.662877 10.8329160\n",
       "bs          -1.041408 -0.5488416"
      ]
     },
     "metadata": {},
     "output_type": "display_data"
    }
   ],
   "source": [
    "confint(fit1,level = 0.9) #获得系数在90%的置信区间： "
   ]
  },
  {
   "cell_type": "markdown",
   "metadata": {},
   "source": [
    "（2）在第（1）部分的回归中增加变量lenrol 和lstaff。bs 的系数有何变化？这种情形与表4.1 中的情形相比如何？ "
   ]
  },
  {
   "cell_type": "code",
   "execution_count": 38,
   "metadata": {},
   "outputs": [
    {
     "data": {
      "text/plain": [
       "\n",
       "Call:\n",
       "lm(formula = lavgsal ~ bs + lenrol + lstaff)\n",
       "\n",
       "Residuals:\n",
       "     Min       1Q   Median       3Q      Max \n",
       "-0.88375 -0.10941 -0.01043  0.10294  0.61615 \n",
       "\n",
       "Coefficients:\n",
       "             Estimate Std. Error t value Pr(>|t|)    \n",
       "(Intercept) 13.953049   0.107234 130.118  < 2e-16 ***\n",
       "bs          -0.605061   0.108743  -5.564 3.02e-08 ***\n",
       "lenrol      -0.031585   0.008477  -3.726    2e-04 ***\n",
       "lstaff      -0.713719   0.017790 -40.119  < 2e-16 ***\n",
       "---\n",
       "Signif. codes:  0 '***' 0.001 '**' 0.01 '*' 0.05 '.' 0.1 ' ' 1\n",
       "\n",
       "Residual standard error: 0.1678 on 1844 degrees of freedom\n",
       "Multiple R-squared:  0.482,\tAdjusted R-squared:  0.4812 \n",
       "F-statistic:   572 on 3 and 1844 DF,  p-value: < 2.2e-16\n"
      ]
     },
     "metadata": {},
     "output_type": "display_data"
    }
   ],
   "source": [
    "fit2<-lm(lavgsal~bs+lenrol+lstaff) #将lavgsal 对bs、lenrol、lstaff 进行回归\n",
    "summary(fit2) "
   ]
  },
  {
   "cell_type": "markdown",
   "metadata": {},
   "source": [
    "（3）第（2）比分中bs 系数的标准误为何比第（1）部分中的标准误更小？（提示：当增加变 量lenrol 和lstaff 后，对误差方差和多重共线性会造成什么样的影响？） "
   ]
  },
  {
   "cell_type": "code",
   "execution_count": 39,
   "metadata": {},
   "outputs": [
    {
     "name": "stdout",
     "output_type": "stream",
     "text": [
      "\n",
      "======================================================================\n",
      "                                   Dependent variable:                \n",
      "                    --------------------------------------------------\n",
      "                                         lavgsal                      \n",
      "                              (1)                       (2)           \n",
      "----------------------------------------------------------------------\n",
      "bs                         -0.795***                 -0.605***        \n",
      "                            (0.150)                   (0.109)         \n",
      "                                                                      \n",
      "lenrol                                               -0.032***        \n",
      "                                                      (0.008)         \n",
      "                                                                      \n",
      "lstaff                                               -0.714***        \n",
      "                                                      (0.018)         \n",
      "                                                                      \n",
      "Constant                   10.748***                 13.953***        \n",
      "                            (0.052)                   (0.107)         \n",
      "                                                                      \n",
      "----------------------------------------------------------------------\n",
      "Observations                 1,848                     1,848          \n",
      "R2                           0.015                     0.482          \n",
      "Adjusted R2                  0.015                     0.481          \n",
      "Residual Std. Error    0.231 (df = 1846)         0.168 (df = 1844)    \n",
      "F Statistic         28.229*** (df = 1; 1846) 572.027*** (df = 3; 1844)\n",
      "======================================================================\n",
      "Note:                                      *p<0.1; **p<0.05; ***p<0.01\n"
     ]
    }
   ],
   "source": [
    "stargazer(fit1, fit2, type=\"text\") "
   ]
  },
  {
   "cell_type": "markdown",
   "metadata": {},
   "source": [
    "（4）lstaff 的系数为何为负？它的绝对值算大吗？ \n",
    "\n",
    "lstaff 表示每1000 学生所配备老师的对数，其估计值为-0.714，表示单位学生配备的老师数量 增加1%，老师的总报酬减少0.714%。这可能是因为老师需要负责的学生人数减少，其工作量 也减少了，所以报酬变低了。其绝对值比较大学生配备的老师数量增加10%，老师的总报酬减 少7.14%，这是比较大的效应了。 "
   ]
  },
  {
   "cell_type": "markdown",
   "metadata": {},
   "source": [
    "（5）在回归中再添加变量lunch。保持其他条件不变，教师会因教育那些家庭条件不好的学生 而得到补偿吗？请解释你的结论。 "
   ]
  },
  {
   "cell_type": "code",
   "execution_count": 40,
   "metadata": {},
   "outputs": [
    {
     "data": {
      "text/plain": [
       "\n",
       "Call:\n",
       "lm(formula = lavgsal ~ bs + lenrol + lstaff + lunch)\n",
       "\n",
       "Residuals:\n",
       "     Min       1Q   Median       3Q      Max \n",
       "-0.92076 -0.11018 -0.00995  0.10614  0.58991 \n",
       "\n",
       "Coefficients:\n",
       "              Estimate Std. Error t value Pr(>|t|)    \n",
       "(Intercept) 13.8314939  0.1097259 126.055  < 2e-16 ***\n",
       "bs          -0.5161290  0.1097747  -4.702 2.77e-06 ***\n",
       "lenrol      -0.0284092  0.0084560  -3.360 0.000796 ***\n",
       "lstaff      -0.6906322  0.0183604 -37.615  < 2e-16 ***\n",
       "lunch       -0.0007581  0.0001615  -4.695 2.87e-06 ***\n",
       "---\n",
       "Signif. codes:  0 '***' 0.001 '**' 0.01 '*' 0.05 '.' 0.1 ' ' 1\n",
       "\n",
       "Residual standard error: 0.1668 on 1843 degrees of freedom\n",
       "Multiple R-squared:  0.4882,\tAdjusted R-squared:  0.487 \n",
       "F-statistic: 439.4 on 4 and 1843 DF,  p-value: < 2.2e-16\n"
      ]
     },
     "metadata": {},
     "output_type": "display_data"
    }
   ],
   "source": [
    "fit3<-lm(lavgsal~bs+lenrol+lstaff+lunch) #将lavgsal 对bs、lenrol、lstaff、lunch 进行回归。 \n",
    "summary(fit3) "
   ]
  },
  {
   "cell_type": "markdown",
   "metadata": {},
   "source": [
    "（6）总之，你利用ELEM94_95.RAW 得到的结论，与表4.1 在形式上一致吗？ \n",
    "\n",
    "总系数的正负方向以及显著程度的来看，ELEM94_95.RAW 得到的结论与表4.1 所得结论是基 本一致的。 "
   ]
  },
  {
   "cell_type": "code",
   "execution_count": null,
   "metadata": {},
   "outputs": [],
   "source": []
  }
 ],
 "metadata": {
  "kernelspec": {
   "display_name": "R",
   "language": "R",
   "name": "ir"
  },
  "language_info": {
   "codemirror_mode": "r",
   "file_extension": ".r",
   "mimetype": "text/x-r-source",
   "name": "R",
   "pygments_lexer": "r",
   "version": "3.6.1"
  }
 },
 "nbformat": 4,
 "nbformat_minor": 2
}
