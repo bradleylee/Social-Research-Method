{
 "cells": [
  {
   "cell_type": "markdown",
   "metadata": {},
   "source": [
    "# 第3章 多元回归分析：估计\n",
    "## C3.1【皮尔森相关系数；多元回归】\n",
    "### 卫生官员（和其他人）所关心的一个问题是，孕妇在怀孕期间抽烟对婴儿健康的影响。\n",
    "\n",
    "对婴儿健康的度量方法之一是婴儿出生时的体重；过低的出生体重会使婴儿有感染各种疾病的危险。由于除了抽烟之外，其他影响婴儿出生体重的因素可能与抽烟相关，所以我们应该考虑这些因素。比如，高收入通常会使母亲得到更好的产前照顾和更好的营养。表达这一点的一个方程是 $bwght=\\beta_0+\\beta_1 cigs+\\beta_2 𝑓aminc +𝑢$\n",
    "\n",
    "（1）$\\beta_2$的符号最可能是什么？\n",
    "\n",
    "由于更高的家庭收入会给母亲更好的产前照顾和更好的营养，也就会增加婴儿的体重，因此预测$\\beta_2$为正。\n",
    "\n",
    "（2）你是否认为cigs和faminc可能相关？解释为什么可能是正相关或负相关。\n",
    "\n",
    "一方面，收入高的家庭可能会有更高的受教育程度和更严格的家庭教育，这可能限制吸烟的可能。另外一方面，收入高的家庭更有能力支付购买香烟。我们可以测试一下两者间的相关系数。\n",
    "\n",
    "（3）现在利用BWGHT.RAW中的数据分别估计包含和不包含faminc的方程。以方程的形式报告结论，包括样本容量和$R^2$。讨论你的结论，主要看增加faminc是否会显著改变cigs对bwght的估计影响。"
   ]
  },
  {
   "cell_type": "code",
   "execution_count": 1,
   "metadata": {},
   "outputs": [],
   "source": [
    "library(haven)\n",
    "BWGHT <-read_dta(\"C:/Users/bradl/SRM/data/BWGHT.DTA\")\n",
    "attach(BWGHT)"
   ]
  },
  {
   "cell_type": "code",
   "execution_count": 2,
   "metadata": {},
   "outputs": [
    {
     "data": {
      "text/html": [
       "-0.173044925735865"
      ],
      "text/latex": [
       "-0.173044925735865"
      ],
      "text/markdown": [
       "-0.173044925735865"
      ],
      "text/plain": [
       "[1] -0.1730449"
      ]
     },
     "metadata": {},
     "output_type": "display_data"
    }
   ],
   "source": [
    "cor(cigs, faminc,method = \"pearson\")"
   ]
  },
  {
   "cell_type": "markdown",
   "metadata": {},
   "source": [
    "（3）现在利用BWGHT.RAW中的数据分别估计包含和不包含faminc的方程。以方程的形式报告结论，包括样本容量和$R^2$。讨论你的结论，主要看增加faminc是否会显著改变cigs对bwght的估计影响。"
   ]
  },
  {
   "cell_type": "code",
   "execution_count": 3,
   "metadata": {},
   "outputs": [
    {
     "data": {
      "text/plain": [
       "\n",
       "Call:\n",
       "lm(formula = bwght ~ cigs)\n",
       "\n",
       "Residuals:\n",
       "    Min      1Q  Median      3Q     Max \n",
       "-96.772 -11.772   0.297  13.228 151.228 \n",
       "\n",
       "Coefficients:\n",
       "             Estimate Std. Error t value Pr(>|t|)    \n",
       "(Intercept) 119.77190    0.57234 209.267  < 2e-16 ***\n",
       "cigs         -0.51377    0.09049  -5.678 1.66e-08 ***\n",
       "---\n",
       "Signif. codes:  0 '***' 0.001 '**' 0.01 '*' 0.05 '.' 0.1 ' ' 1\n",
       "\n",
       "Residual standard error: 20.13 on 1386 degrees of freedom\n",
       "Multiple R-squared:  0.02273,\tAdjusted R-squared:  0.02202 \n",
       "F-statistic: 32.24 on 1 and 1386 DF,  p-value: 1.662e-08\n"
      ]
     },
     "metadata": {},
     "output_type": "display_data"
    },
    {
     "data": {
      "text/html": [
       "1388"
      ],
      "text/latex": [
       "1388"
      ],
      "text/markdown": [
       "1388"
      ],
      "text/plain": [
       "[1] 1388"
      ]
     },
     "metadata": {},
     "output_type": "display_data"
    }
   ],
   "source": [
    "fit1<-lm(bwght~cigs) #做bwght对cigs的回归。\n",
    "summary(fit1) \n",
    "nobs(fit1) "
   ]
  },
  {
   "cell_type": "code",
   "execution_count": 4,
   "metadata": {},
   "outputs": [
    {
     "data": {
      "text/plain": [
       "\n",
       "Call:\n",
       "lm(formula = bwght ~ cigs + faminc)\n",
       "\n",
       "Residuals:\n",
       "    Min      1Q  Median      3Q     Max \n",
       "-96.061 -11.543   0.638  13.126 150.083 \n",
       "\n",
       "Coefficients:\n",
       "             Estimate Std. Error t value Pr(>|t|)    \n",
       "(Intercept) 116.97413    1.04898 111.512  < 2e-16 ***\n",
       "cigs         -0.46341    0.09158  -5.060 4.75e-07 ***\n",
       "faminc        0.09276    0.02919   3.178  0.00151 ** \n",
       "---\n",
       "Signif. codes:  0 '***' 0.001 '**' 0.01 '*' 0.05 '.' 0.1 ' ' 1\n",
       "\n",
       "Residual standard error: 20.06 on 1385 degrees of freedom\n",
       "Multiple R-squared:  0.0298,\tAdjusted R-squared:  0.0284 \n",
       "F-statistic: 21.27 on 2 and 1385 DF,  p-value: 7.942e-10\n"
      ]
     },
     "metadata": {},
     "output_type": "display_data"
    },
    {
     "data": {
      "text/html": [
       "1388"
      ],
      "text/latex": [
       "1388"
      ],
      "text/markdown": [
       "1388"
      ],
      "text/plain": [
       "[1] 1388"
      ]
     },
     "metadata": {},
     "output_type": "display_data"
    }
   ],
   "source": [
    "fit2<-lm(bwght~cigs+faminc)\n",
    "summary(fit2) #\n",
    "nobs(fit2) #"
   ]
  },
  {
   "cell_type": "code",
   "execution_count": 5,
   "metadata": {},
   "outputs": [],
   "source": [
    "detach(BWGHT)"
   ]
  },
  {
   "cell_type": "markdown",
   "metadata": {},
   "source": [
    "## C3.2【给定自变量的多元回归预测；获取截距项】\n",
    "### 使用HPRICE1.RAW中的数据，估计如下模型： $price=\\beta_0 +\\beta_1 sqrtft + \\beta_2 bdrms +𝑢$\n",
    "其中，price是以千美元为单位的住房价格。\n",
    "\n",
    "（1）以方程的形式写出结果。\n",
    "\n",
    "（2）住房在保持面积不变的同时又增加一间卧室，估计其价格会提高多少？\n",
    "\n",
    "（3）住房增加一间大小为140平方英尺的卧室，估计其价格会提高多少？将这个答案与你在第（2）部分的答案相比较。\n",
    "\n",
    "（4）价格的变异有多大比例能被平方英尺数和卧室数解释？\n",
    "\n",
    "（5）样本中的第一套住房有sqrft=2438和bdrms=4。从OLS回归线计算这套住房的预计销售价格。\n",
    "\n",
    "（6）样本中第一套住房的实际销售价格是300000美元（price=300）。求出这套住房的残差。它是否表明购买者为这套住房支付了过低或过高的价格？"
   ]
  },
  {
   "cell_type": "code",
   "execution_count": 8,
   "metadata": {},
   "outputs": [
    {
     "name": "stderr",
     "output_type": "stream",
     "text": [
      "The following objects are masked from hprice1 (pos = 3):\n",
      "\n",
      "    assess, bdrms, colonial, lassess, llotsize, lotsize, lprice,\n",
      "    lsqrft, price, sqrft\n",
      "\n"
     ]
    },
    {
     "data": {
      "text/plain": [
       "\n",
       "Call:\n",
       "lm(formula = price ~ sqrft + bdrms)\n",
       "\n",
       "Residuals:\n",
       "     Min       1Q   Median       3Q      Max \n",
       "-127.627  -42.876   -7.051   32.589  229.003 \n",
       "\n",
       "Coefficients:\n",
       "             Estimate Std. Error t value Pr(>|t|)    \n",
       "(Intercept) -19.31500   31.04662  -0.622    0.536    \n",
       "sqrft         0.12844    0.01382   9.291 1.39e-14 ***\n",
       "bdrms        15.19819    9.48352   1.603    0.113    \n",
       "---\n",
       "Signif. codes:  0 '***' 0.001 '**' 0.01 '*' 0.05 '.' 0.1 ' ' 1\n",
       "\n",
       "Residual standard error: 63.04 on 85 degrees of freedom\n",
       "Multiple R-squared:  0.6319,\tAdjusted R-squared:  0.6233 \n",
       "F-statistic: 72.96 on 2 and 85 DF,  p-value: < 2.2e-16\n"
      ]
     },
     "metadata": {},
     "output_type": "display_data"
    },
    {
     "data": {
      "text/html": [
       "88"
      ],
      "text/latex": [
       "88"
      ],
      "text/markdown": [
       "88"
      ],
      "text/plain": [
       "[1] 88"
      ]
     },
     "metadata": {},
     "output_type": "display_data"
    }
   ],
   "source": [
    "library(wooldridge)\n",
    "attach(hprice1)\n",
    "fit<-lm(price~sqrft+bdrms) \n",
    "summary(fit) \n",
    "nobs(fit)"
   ]
  },
  {
   "cell_type": "code",
   "execution_count": 9,
   "metadata": {},
   "outputs": [
    {
     "data": {
      "text/html": [
       "<strong>1:</strong> 33.1792604193829"
      ],
      "text/latex": [
       "\\textbf{1:} 33.1792604193829"
      ],
      "text/markdown": [
       "**1:** 33.1792604193829"
      ],
      "text/plain": [
       "       1 \n",
       "33.17926 "
      ]
     },
     "metadata": {},
     "output_type": "display_data"
    }
   ],
   "source": [
    "new <- data.frame(sqrft=140, bdrms = 1) #(3)\n",
    "predict(fit,new)-coef(fit)[\"(Intercept)\"] "
   ]
  },
  {
   "cell_type": "code",
   "execution_count": 10,
   "metadata": {},
   "outputs": [
    {
     "data": {
      "text/html": [
       "<strong>1:</strong> 354.605248983999"
      ],
      "text/latex": [
       "\\textbf{1:} 354.605248983999"
      ],
      "text/markdown": [
       "**1:** 354.605248983999"
      ],
      "text/plain": [
       "       1 \n",
       "354.6052 "
      ]
     },
     "metadata": {},
     "output_type": "display_data"
    }
   ],
   "source": [
    "new2 <- data.frame(sqrft=2438, bdrms = 4) #(5)\n",
    "predict(fit,new2)"
   ]
  },
  {
   "cell_type": "code",
   "execution_count": 11,
   "metadata": {},
   "outputs": [
    {
     "data": {
      "text/html": [
       "<strong>1:</strong> -54.6052489839991"
      ],
      "text/latex": [
       "\\textbf{1:} -54.6052489839991"
      ],
      "text/markdown": [
       "**1:** -54.6052489839991"
      ],
      "text/plain": [
       "        1 \n",
       "-54.60525 "
      ]
     },
     "metadata": {},
     "output_type": "display_data"
    }
   ],
   "source": [
    "residuals(fit)[1] #(6)\n",
    "detach(hprice1) #"
   ]
  },
  {
   "cell_type": "markdown",
   "metadata": {},
   "source": [
    "## C3.3【按条件选取子集；保留系数小数位数】\n",
    "### 文件CEOSAL2.RAW包含了177位首席执行官的数据，并可用来考察企业业绩对CEO薪水的影响。\n",
    "（1）估计一个将年薪与企业销售量和市场价值相联系的模型。让这个模型对每个自变量的变化都具有常弹性。以方程的形式写出结论。\n",
    "\n",
    "（2）在第（1）部分的模型中增加profits。为什么这个变量不能以对数形式进入模型？你认为这些企业业绩变量解释了CEO薪水变异中的大部分吗？\n",
    "\n",
    "（3）在第（2）部分的模型中增加ceoten。保持其他条件不变，延长一年CEO任期，估计的百分比回报是什么？\n",
    "\n",
    "（4）求出变量log(mktval)和profits之间的样本相关系数。这些变量高度相关吗？这对OLS估计量有何含义？"
   ]
  },
  {
   "cell_type": "code",
   "execution_count": 16,
   "metadata": {
    "scrolled": true
   },
   "outputs": [
    {
     "name": "stderr",
     "output_type": "stream",
     "text": [
      "The following objects are masked from CEOSAL2 (pos = 3):\n",
      "\n",
      "    age, ceoten, ceotensq, college, comten, comtensq, grad, lmktval,\n",
      "    lsalary, lsales, mktval, profits, profmarg, salary, sales\n",
      "\n"
     ]
    }
   ],
   "source": [
    "library(haven)\n",
    "CEOSAL2 <-read_dta(\"C:/Users/bradl/SRM/data/CEOSAL2.DTA\")\n",
    "library(mice) \n",
    "#md.pattern(CEOSAL2) \n",
    "attach(CEOSAL2)"
   ]
  },
  {
   "cell_type": "code",
   "execution_count": 20,
   "metadata": {},
   "outputs": [
    {
     "data": {
      "text/plain": [
       "\n",
       "Call:\n",
       "lm(formula = log(salary) ~ log(sales) + log(mktval))\n",
       "\n",
       "Residuals:\n",
       "     Min       1Q   Median       3Q      Max \n",
       "-2.28060 -0.31137 -0.01269  0.30646  1.91210 \n",
       "\n",
       "Coefficients:\n",
       "            Estimate Std. Error t value Pr(>|t|)    \n",
       "(Intercept)  4.62092    0.25441  18.163  < 2e-16 ***\n",
       "log(sales)   0.16213    0.03967   4.087 6.67e-05 ***\n",
       "log(mktval)  0.10671    0.05012   2.129   0.0347 *  \n",
       "---\n",
       "Signif. codes:  0 '***' 0.001 '**' 0.01 '*' 0.05 '.' 0.1 ' ' 1\n",
       "\n",
       "Residual standard error: 0.5103 on 174 degrees of freedom\n",
       "Multiple R-squared:  0.2991,\tAdjusted R-squared:  0.2911 \n",
       "F-statistic: 37.13 on 2 and 174 DF,  p-value: 3.727e-14\n"
      ]
     },
     "metadata": {},
     "output_type": "display_data"
    },
    {
     "data": {
      "text/html": [
       "177"
      ],
      "text/latex": [
       "177"
      ],
      "text/markdown": [
       "177"
      ],
      "text/plain": [
       "[1] 177"
      ]
     },
     "metadata": {},
     "output_type": "display_data"
    }
   ],
   "source": [
    "fit1<-lm(log(salary)~log(sales)+log(mktval)) \n",
    "summary(fit1) \n",
    "nobs(fit1)"
   ]
  },
  {
   "cell_type": "code",
   "execution_count": 19,
   "metadata": {},
   "outputs": [
    {
     "data": {
      "text/html": [
       "<ol class=list-inline>\n",
       "\t<li>9</li>\n",
       "\t<li>1</li>\n",
       "</ol>\n"
      ],
      "text/latex": [
       "\\begin{enumerate*}\n",
       "\\item 9\n",
       "\\item 1\n",
       "\\end{enumerate*}\n"
      ],
      "text/markdown": [
       "1. 9\n",
       "2. 1\n",
       "\n",
       "\n"
      ],
      "text/plain": [
       "[1] 9 1"
      ]
     },
     "metadata": {},
     "output_type": "display_data"
    }
   ],
   "source": [
    "a<-subset(CEOSAL2,profits<0,select = profits) #2-1 将profits小于0的观测保存在a中。\n",
    "dim(a) #展示a的维度，结果为9*15，表示有9个观测的profits小于0（15表示有15个变量），因此不能用对数形式的profits。"
   ]
  },
  {
   "cell_type": "code",
   "execution_count": 21,
   "metadata": {},
   "outputs": [
    {
     "data": {
      "text/plain": [
       "\n",
       "Call:\n",
       "lm(formula = log(salary) ~ log(sales) + log(mktval) + profits)\n",
       "\n",
       "Residuals:\n",
       "     Min       1Q   Median       3Q      Max \n",
       "-2.27002 -0.31026 -0.01027  0.31043  1.91489 \n",
       "\n",
       "Coefficients:\n",
       "             Estimate Std. Error t value Pr(>|t|)    \n",
       "(Intercept) 4.687e+00  3.797e-01  12.343  < 2e-16 ***\n",
       "log(sales)  1.614e-01  3.991e-02   4.043 7.92e-05 ***\n",
       "log(mktval) 9.753e-02  6.369e-02   1.531    0.128    \n",
       "profits     3.566e-05  1.520e-04   0.235    0.815    \n",
       "---\n",
       "Signif. codes:  0 '***' 0.001 '**' 0.01 '*' 0.05 '.' 0.1 ' ' 1\n",
       "\n",
       "Residual standard error: 0.5117 on 173 degrees of freedom\n",
       "Multiple R-squared:  0.2993,\tAdjusted R-squared:  0.2872 \n",
       "F-statistic: 24.64 on 3 and 173 DF,  p-value: 2.53e-13\n"
      ]
     },
     "metadata": {},
     "output_type": "display_data"
    },
    {
     "data": {
      "text/html": [
       "<dl class=dl-horizontal>\n",
       "\t<dt>(Intercept)</dt>\n",
       "\t\t<dd>4.68692</dd>\n",
       "\t<dt>log(sales)</dt>\n",
       "\t\t<dd>0.16137</dd>\n",
       "\t<dt>log(mktval)</dt>\n",
       "\t\t<dd>0.09753</dd>\n",
       "\t<dt>profits</dt>\n",
       "\t\t<dd>4e-05</dd>\n",
       "</dl>\n"
      ],
      "text/latex": [
       "\\begin{description*}\n",
       "\\item[(Intercept)] 4.68692\n",
       "\\item[log(sales)] 0.16137\n",
       "\\item[log(mktval)] 0.09753\n",
       "\\item[profits] 4e-05\n",
       "\\end{description*}\n"
      ],
      "text/markdown": [
       "(Intercept)\n",
       ":   4.68692log(sales)\n",
       ":   0.16137log(mktval)\n",
       ":   0.09753profits\n",
       ":   4e-05\n",
       "\n"
      ],
      "text/plain": [
       "(Intercept)  log(sales) log(mktval)     profits \n",
       "    4.68692     0.16137     0.09753     0.00004 "
      ]
     },
     "metadata": {},
     "output_type": "display_data"
    },
    {
     "data": {
      "text/html": [
       "177"
      ],
      "text/latex": [
       "177"
      ],
      "text/markdown": [
       "177"
      ],
      "text/plain": [
       "[1] 177"
      ]
     },
     "metadata": {},
     "output_type": "display_data"
    }
   ],
   "source": [
    "fit2<-lm(log(salary)~log(sales)+log(mktval)+profits) #2-2 拟合增加profit后的模型\n",
    "summary(fit2) #展示拟合结果，但所展示的系数是用科学计数法表示的，我们可以用下面的命令调整：\n",
    "round(fit2$coefficients,5) \n",
    "nobs(fit2)"
   ]
  },
  {
   "cell_type": "code",
   "execution_count": 22,
   "metadata": {
    "scrolled": true
   },
   "outputs": [
    {
     "data": {
      "text/plain": [
       "\n",
       "Call:\n",
       "lm(formula = log(salary) ~ log(sales) + log(mktval) + profits + \n",
       "    ceoten)\n",
       "\n",
       "Residuals:\n",
       "     Min       1Q   Median       3Q      Max \n",
       "-2.48792 -0.29369  0.00827  0.29951  1.85524 \n",
       "\n",
       "Coefficients:\n",
       "             Estimate Std. Error t value Pr(>|t|)    \n",
       "(Intercept) 4.558e+00  3.803e-01  11.986  < 2e-16 ***\n",
       "log(sales)  1.622e-01  3.948e-02   4.109 6.14e-05 ***\n",
       "log(mktval) 1.018e-01  6.303e-02   1.614   0.1083    \n",
       "profits     2.905e-05  1.503e-04   0.193   0.8470    \n",
       "ceoten      1.168e-02  5.342e-03   2.187   0.0301 *  \n",
       "---\n",
       "Signif. codes:  0 '***' 0.001 '**' 0.01 '*' 0.05 '.' 0.1 ' ' 1\n",
       "\n",
       "Residual standard error: 0.5062 on 172 degrees of freedom\n",
       "Multiple R-squared:  0.3183,\tAdjusted R-squared:  0.3024 \n",
       "F-statistic: 20.08 on 4 and 172 DF,  p-value: 1.387e-13\n"
      ]
     },
     "metadata": {},
     "output_type": "display_data"
    }
   ],
   "source": [
    "fit3<-lm(log(salary)~log(sales)+log(mktval)+profits+ceoten) #3 拟合增加任期ceoten的变量\n",
    "summary(fit3) #"
   ]
  },
  {
   "cell_type": "code",
   "execution_count": 23,
   "metadata": {},
   "outputs": [
    {
     "data": {
      "text/html": [
       "<dl class=dl-horizontal>\n",
       "\t<dt>(Intercept)</dt>\n",
       "\t\t<dd>4.55778</dd>\n",
       "\t<dt>log(sales)</dt>\n",
       "\t\t<dd>0.162234</dd>\n",
       "\t<dt>log(mktval)</dt>\n",
       "\t\t<dd>0.10176</dd>\n",
       "\t<dt>profits</dt>\n",
       "\t\t<dd>2.9e-05</dd>\n",
       "\t<dt>ceoten</dt>\n",
       "\t\t<dd>0.011685</dd>\n",
       "</dl>\n"
      ],
      "text/latex": [
       "\\begin{description*}\n",
       "\\item[(Intercept)] 4.55778\n",
       "\\item[log(sales)] 0.162234\n",
       "\\item[log(mktval)] 0.10176\n",
       "\\item[profits] 2.9e-05\n",
       "\\item[ceoten] 0.011685\n",
       "\\end{description*}\n"
      ],
      "text/markdown": [
       "(Intercept)\n",
       ":   4.55778log(sales)\n",
       ":   0.162234log(mktval)\n",
       ":   0.10176profits\n",
       ":   2.9e-05ceoten\n",
       ":   0.011685\n",
       "\n"
      ],
      "text/plain": [
       "(Intercept)  log(sales) log(mktval)     profits      ceoten \n",
       "   4.557780    0.162234    0.101760    0.000029    0.011685 "
      ]
     },
     "metadata": {},
     "output_type": "display_data"
    }
   ],
   "source": [
    "\n",
    "round(fit3$coefficients,6)"
   ]
  },
  {
   "cell_type": "code",
   "execution_count": 24,
   "metadata": {},
   "outputs": [
    {
     "data": {
      "text/html": [
       "0.776897597059789"
      ],
      "text/latex": [
       "0.776897597059789"
      ],
      "text/markdown": [
       "0.776897597059789"
      ],
      "text/plain": [
       "[1] 0.7768976"
      ]
     },
     "metadata": {},
     "output_type": "display_data"
    }
   ],
   "source": [
    "cor(log(mktval), profits,method = \"pearson\") #4\n",
    "detach(CEOSAL2) "
   ]
  },
  {
   "cell_type": "markdown",
   "metadata": {},
   "source": [
    "## C3.4【多元回归预测；按条件选取子集；保留系数小数位数】\n",
    "### 本题使用ATTEND.RAW中的数据。\n",
    "（1）求出变量atndrte，priGPA和ACT的最小值、最大值和平均值。\n",
    "\n",
    "（2）估计模型 $atndrte=\\beta_0+\\beta_1 priGPA+ \\beta_2 ACT+𝑢$\n",
    "并以方程的形式写出结论。对截距做出解释。它是否存在一个有用的含义。\n",
    "\n",
    "（3）讨论估计的斜率系数。有没有什么令人吃惊之处？\n",
    "\n",
    "（4）如果priGPA=3.65和ACT=20，预计atndrte是多少？你对这个结论作何解释？样本中有没有一些学生具有这些解释变量的值？\n",
    "\n",
    "（5）如果学生A具有priGPA=3.1和ACT=21，而学生B具有priGPA=2.1和ACT=26，他们在出勤率上的预期差异是多少？"
   ]
  },
  {
   "cell_type": "code",
   "execution_count": 25,
   "metadata": {
    "scrolled": true
   },
   "outputs": [
    {
     "name": "stderr",
     "output_type": "stream",
     "text": [
      "The following object is masked _by_ .GlobalEnv:\n",
      "\n",
      "    attend\n",
      "\n",
      "The following object is masked from package:wooldridge:\n",
      "\n",
      "    attend\n",
      "\n"
     ]
    }
   ],
   "source": [
    "data(attend) #绑定数据集attend。\n",
    "attach(attend)"
   ]
  },
  {
   "cell_type": "code",
   "execution_count": 26,
   "metadata": {},
   "outputs": [
    {
     "data": {
      "text/plain": [
       "   Min. 1st Qu.  Median    Mean 3rd Qu.    Max. \n",
       "   6.25   75.00   87.50   81.71   93.75  100.00 "
      ]
     },
     "metadata": {},
     "output_type": "display_data"
    },
    {
     "data": {
      "text/plain": [
       "   Min. 1st Qu.  Median    Mean 3rd Qu.    Max. \n",
       "  0.857   2.190   2.560   2.587   2.942   3.930 "
      ]
     },
     "metadata": {},
     "output_type": "display_data"
    },
    {
     "data": {
      "text/plain": [
       "   Min. 1st Qu.  Median    Mean 3rd Qu.    Max. \n",
       "  13.00   20.00   22.00   22.51   25.00   32.00 "
      ]
     },
     "metadata": {},
     "output_type": "display_data"
    }
   ],
   "source": [
    "summary(atndrte) #1\n",
    "summary(priGPA)\n",
    "summary(ACT)"
   ]
  },
  {
   "cell_type": "code",
   "execution_count": 27,
   "metadata": {
    "scrolled": true
   },
   "outputs": [
    {
     "data": {
      "text/plain": [
       "\n",
       "Call:\n",
       "lm(formula = atndrte ~ priGPA + ACT)\n",
       "\n",
       "Residuals:\n",
       "    Min      1Q  Median      3Q     Max \n",
       "-65.373  -6.765   2.125   9.635  29.615 \n",
       "\n",
       "Coefficients:\n",
       "            Estimate Std. Error t value Pr(>|t|)    \n",
       "(Intercept)   75.700      3.884   19.49   <2e-16 ***\n",
       "priGPA        17.261      1.083   15.94   <2e-16 ***\n",
       "ACT           -1.717      0.169  -10.16   <2e-16 ***\n",
       "---\n",
       "Signif. codes:  0 '***' 0.001 '**' 0.01 '*' 0.05 '.' 0.1 ' ' 1\n",
       "\n",
       "Residual standard error: 14.38 on 677 degrees of freedom\n",
       "Multiple R-squared:  0.2906,\tAdjusted R-squared:  0.2885 \n",
       "F-statistic: 138.7 on 2 and 677 DF,  p-value: < 2.2e-16\n"
      ]
     },
     "metadata": {},
     "output_type": "display_data"
    },
    {
     "data": {
      "text/html": [
       "680"
      ],
      "text/latex": [
       "680"
      ],
      "text/markdown": [
       "680"
      ],
      "text/plain": [
       "[1] 680"
      ]
     },
     "metadata": {},
     "output_type": "display_data"
    }
   ],
   "source": [
    "fit<-lm(atndrte~priGPA+ACT) #2\n",
    "summary(fit) \n",
    "nobs(fit)"
   ]
  },
  {
   "cell_type": "markdown",
   "metadata": {},
   "source": [
    "截距75.7表示当priGPA和ACT都为0时，atndrte（出席率）是75.7%。但是由于priGPA和ACT在样本中都没有0值，而且在实际中也不太可能出现两者都为0的情况，因此这个截距不具有实际参考意义。\n",
    "\n",
    "（3）讨论估计的斜率系数。有没有什么令人吃惊之处？\n",
    "\n",
    "priGPA的系数为17.261，表明priGPA每增加1个单位，atndrte会增加17.261。ACT是大学能力测验分数，其系数是-1.717，表明学生的能力测验分数每增加一个单位，其出席率会降低1.717。这比较让人吃惊。但可能是学生对自己的能力越自信，越容易翘课。"
   ]
  },
  {
   "cell_type": "code",
   "execution_count": 28,
   "metadata": {},
   "outputs": [
    {
     "data": {
      "text/html": [
       "<strong>1:</strong> 104.370503506938"
      ],
      "text/latex": [
       "\\textbf{1:} 104.370503506938"
      ],
      "text/markdown": [
       "**1:** 104.370503506938"
      ],
      "text/plain": [
       "       1 \n",
       "104.3705 "
      ]
     },
     "metadata": {},
     "output_type": "display_data"
    },
    {
     "data": {
      "text/html": [
       "<table>\n",
       "<caption>A data.frame: 1 × 11</caption>\n",
       "<thead>\n",
       "\t<tr><th></th><th scope=col>attend</th><th scope=col>termGPA</th><th scope=col>priGPA</th><th scope=col>ACT</th><th scope=col>final</th><th scope=col>atndrte</th><th scope=col>hwrte</th><th scope=col>frosh</th><th scope=col>soph</th><th scope=col>missed</th><th scope=col>stndfnl</th></tr>\n",
       "\t<tr><th></th><th scope=col>&lt;int&gt;</th><th scope=col>&lt;dbl&gt;</th><th scope=col>&lt;dbl&gt;</th><th scope=col>&lt;int&gt;</th><th scope=col>&lt;int&gt;</th><th scope=col>&lt;dbl&gt;</th><th scope=col>&lt;dbl&gt;</th><th scope=col>&lt;int&gt;</th><th scope=col>&lt;int&gt;</th><th scope=col>&lt;int&gt;</th><th scope=col>&lt;dbl&gt;</th></tr>\n",
       "</thead>\n",
       "<tbody>\n",
       "\t<tr><th scope=row>569</th><td>28</td><td>3.5</td><td>3.65</td><td>20</td><td>29</td><td>87.5</td><td>50</td><td>1</td><td>0</td><td>4</td><td>0.6827731</td></tr>\n",
       "</tbody>\n",
       "</table>\n"
      ],
      "text/latex": [
       "A data.frame: 1 × 11\n",
       "\\begin{tabular}{r|lllllllllll}\n",
       "  & attend & termGPA & priGPA & ACT & final & atndrte & hwrte & frosh & soph & missed & stndfnl\\\\\n",
       "  & <int> & <dbl> & <dbl> & <int> & <int> & <dbl> & <dbl> & <int> & <int> & <int> & <dbl>\\\\\n",
       "\\hline\n",
       "\t569 & 28 & 3.5 & 3.65 & 20 & 29 & 87.5 & 50 & 1 & 0 & 4 & 0.6827731\\\\\n",
       "\\end{tabular}\n"
      ],
      "text/markdown": [
       "\n",
       "A data.frame: 1 × 11\n",
       "\n",
       "| <!--/--> | attend &lt;int&gt; | termGPA &lt;dbl&gt; | priGPA &lt;dbl&gt; | ACT &lt;int&gt; | final &lt;int&gt; | atndrte &lt;dbl&gt; | hwrte &lt;dbl&gt; | frosh &lt;int&gt; | soph &lt;int&gt; | missed &lt;int&gt; | stndfnl &lt;dbl&gt; |\n",
       "|---|---|---|---|---|---|---|---|---|---|---|---|\n",
       "| 569 | 28 | 3.5 | 3.65 | 20 | 29 | 87.5 | 50 | 1 | 0 | 4 | 0.6827731 |\n",
       "\n"
      ],
      "text/plain": [
       "    attend termGPA priGPA ACT final atndrte hwrte frosh soph missed stndfnl  \n",
       "569 28     3.5     3.65   20  29    87.5    50    1     0    4      0.6827731"
      ]
     },
     "metadata": {},
     "output_type": "display_data"
    }
   ],
   "source": [
    "new <- data.frame(priGPA=3.65, ACT=20) #生成新的数据框new，内容为priGPA=3.65, ACT=20。\n",
    "predict(fit,new) #用predict()函数进行预测，得到结果104.3705。实际上不会有学生的出席率超过100%。这是因为出席率有自然设定有意义的上限100%，而我们的模型并没有这个上限。\n",
    "attend$priGPA<-round(priGPA,2)\n",
    "a<-subset(attend,priGPA==3.65 & ACT==20) #提取priGPA=3.65, ACT=20的观测。但按照这样这样设定检索不出任何观测，但通过手动查找可以发现实际上是存在priGPA=3.65 & ACT=20这样一个样本的。这是因为priGPA虽然只展示出了2位小数，但实际上有多位小数，用\n",
    "a"
   ]
  },
  {
   "cell_type": "code",
   "execution_count": 29,
   "metadata": {},
   "outputs": [
    {
     "data": {
      "text/html": [
       "<strong>1:</strong> 25.8433557402339"
      ],
      "text/latex": [
       "\\textbf{1:} 25.8433557402339"
      ],
      "text/markdown": [
       "**1:** 25.8433557402339"
      ],
      "text/plain": [
       "       1 \n",
       "25.84336 "
      ]
     },
     "metadata": {},
     "output_type": "display_data"
    }
   ],
   "source": [
    "new1 <- data.frame(priGPA=3.1, ACT=21) #生成新的数据框new，内容为priGPA=3.1, ACT=21。\n",
    "new2 <- data.frame(priGPA=2.1, ACT=26) #生成新的数据框new，内容为priGPA=2.1, ACT=26。\n",
    "predict(fit,new1)- predict(fit,new2) #用predict()函数对两个学生进行预测，再取预测值的差，得到结果25.84437。\n",
    "detach(attend) #"
   ]
  },
  {
   "cell_type": "markdown",
   "metadata": {},
   "source": [
    "## C3.5【多元回归】\n",
    "通过对例3.2明确地进行“排除其他影响”的练习，证实对OLS估计值做“排除其他影响”的解释。这首先要求将educ对exper和tenure进行回归，并保留残差$\\hat{r}_1$。然后将log(wage)对$\\hat{r}_1$进行回归。将$\\hat{r}_1$的系数与在log(wage)对educ、exper和tenure的回归中educ的系数相比较。"
   ]
  },
  {
   "cell_type": "code",
   "execution_count": 30,
   "metadata": {},
   "outputs": [],
   "source": [
    "attach(wage1)"
   ]
  },
  {
   "cell_type": "code",
   "execution_count": 31,
   "metadata": {},
   "outputs": [
    {
     "data": {
      "text/plain": [
       "\n",
       "Call:\n",
       "lm(formula = log(wage) ~ educ + exper + tenure)\n",
       "\n",
       "Residuals:\n",
       "     Min       1Q   Median       3Q      Max \n",
       "-2.05802 -0.29645 -0.03265  0.28788  1.42809 \n",
       "\n",
       "Coefficients:\n",
       "            Estimate Std. Error t value Pr(>|t|)    \n",
       "(Intercept) 0.284360   0.104190   2.729  0.00656 ** \n",
       "educ        0.092029   0.007330  12.555  < 2e-16 ***\n",
       "exper       0.004121   0.001723   2.391  0.01714 *  \n",
       "tenure      0.022067   0.003094   7.133 3.29e-12 ***\n",
       "---\n",
       "Signif. codes:  0 '***' 0.001 '**' 0.01 '*' 0.05 '.' 0.1 ' ' 1\n",
       "\n",
       "Residual standard error: 0.4409 on 522 degrees of freedom\n",
       "Multiple R-squared:  0.316,\tAdjusted R-squared:  0.3121 \n",
       "F-statistic: 80.39 on 3 and 522 DF,  p-value: < 2.2e-16\n"
      ]
     },
     "metadata": {},
     "output_type": "display_data"
    }
   ],
   "source": [
    "fit1<-lm(log(wage)~educ+exper+tenure) #做log(wage)对educ、exper和tenure的回归。\n",
    "summary(fit1)"
   ]
  },
  {
   "cell_type": "code",
   "execution_count": 37,
   "metadata": {},
   "outputs": [
    {
     "data": {
      "text/plain": [
       "\n",
       "Call:\n",
       "lm(formula = educ ~ exper + tenure)\n",
       "\n",
       "Residuals:\n",
       "     Min       1Q   Median       3Q      Max \n",
       "-12.4285  -1.3536  -0.2055   1.6550   5.9791 \n",
       "\n",
       "Coefficients:\n",
       "             Estimate Std. Error t value Pr(>|t|)    \n",
       "(Intercept) 13.574964   0.184324  73.647  < 2e-16 ***\n",
       "exper       -0.073785   0.009761  -7.559 1.83e-13 ***\n",
       "tenure       0.047680   0.018337   2.600  0.00958 ** \n",
       "---\n",
       "Signif. codes:  0 '***' 0.001 '**' 0.01 '*' 0.05 '.' 0.1 ' ' 1\n",
       "\n",
       "Residual standard error: 2.63 on 523 degrees of freedom\n",
       "Multiple R-squared:  0.1013,\tAdjusted R-squared:  0.09791 \n",
       "F-statistic: 29.49 on 2 and 523 DF,  p-value: 7.327e-13\n"
      ]
     },
     "metadata": {},
     "output_type": "display_data"
    }
   ],
   "source": [
    "fit2<-lm(educ~exper+tenure) #将educ对exper和tenure进行回归。\n",
    "summary(fit2)\n",
    "r1<-residuals(fit2)"
   ]
  },
  {
   "cell_type": "code",
   "execution_count": 36,
   "metadata": {},
   "outputs": [
    {
     "name": "stderr",
     "output_type": "stream",
     "text": [
      "Your code contains a unicode char which cannot be displayed in your\n",
      "current locale and R will silently convert it to an escaped form when the\n",
      "R kernel executes this code. This can lead to subtle errors if you use\n",
      "such chars to do comparisons. For more information, please see\n",
      "https://github.com/IRkernel/repr/wiki/Problems-with-unicode-on-windows"
     ]
    },
    {
     "data": {
      "text/plain": [
       "\n",
       "Call:\n",
       "lm(formula = log(wage) ~ r1)\n",
       "\n",
       "Residuals:\n",
       "     Min       1Q   Median       3Q      Max \n",
       "-2.12919 -0.32803 -0.07126  0.31626  1.51357 \n",
       "\n",
       "Coefficients:\n",
       "            Estimate Std. Error t value Pr(>|t|)    \n",
       "(Intercept)  1.62327    0.02066   78.56   <2e-16 ***\n",
       "r1           0.09203    0.00788   11.68   <2e-16 ***\n",
       "---\n",
       "Signif. codes:  0 '***' 0.001 '**' 0.01 '*' 0.05 '.' 0.1 ' ' 1\n",
       "\n",
       "Residual standard error: 0.4739 on 524 degrees of freedom\n",
       "Multiple R-squared:  0.2066,\tAdjusted R-squared:  0.205 \n",
       "F-statistic: 136.4 on 1 and 524 DF,  p-value: < 2.2e-16\n"
      ]
     },
     "metadata": {},
     "output_type": "display_data"
    }
   ],
   "source": [
    "fit3<-lm(log(wage)~r1) #将log(wage)对𝑟̂1进行回归。\n",
    "summary(fit3)"
   ]
  },
  {
   "cell_type": "markdown",
   "metadata": {},
   "source": [
    "我们发现，排除近似小数位数因素，fit1中educ的系数和fit3中r1的系数是相等的。这是因为在fit1中，由于控制了exper和tenure，educ的系数表示排除exper和tenure影响后，educ对log(wage)的影响。而fit2的残差r1则表示了educ中不能被exper和tenure解释的部分，所以log(wage)对$\\hat{r}_1$的回归，就相当于控制了exper和tenure后，log(wage)对educ的回归。"
   ]
  },
  {
   "cell_type": "code",
   "execution_count": null,
   "metadata": {},
   "outputs": [],
   "source": []
  }
 ],
 "metadata": {
  "kernelspec": {
   "display_name": "R",
   "language": "R",
   "name": "ir"
  },
  "language_info": {
   "codemirror_mode": "r",
   "file_extension": ".r",
   "mimetype": "text/x-r-source",
   "name": "R",
   "pygments_lexer": "r",
   "version": "3.6.1"
  }
 },
 "nbformat": 4,
 "nbformat_minor": 2
}
